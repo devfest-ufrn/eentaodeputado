{
 "cells": [
  {
   "cell_type": "code",
   "execution_count": 1,
   "metadata": {
    "collapsed": true
   },
   "outputs": [],
   "source": [
    "import pandas as pd\n",
    "import numpy as np\n",
    "import matplotlib.pyplot as plt\n",
    "import seaborn as sns\n",
    "import requests as re\n",
    "import xmltodict as xml2dict\n",
    "from collections import OrderedDict\n",
    "\n",
    "%matplotlib inline"
   ]
  },
  {
   "cell_type": "code",
   "execution_count": 2,
   "metadata": {
    "collapsed": true
   },
   "outputs": [],
   "source": [
    "url = 'http://www.camara.leg.br/SitCamaraWS/Proposicoes.asmx/ListarProposicoes'\n",
    "params = {\n",
    "    'sigla':'',\n",
    "    'numero':'',\n",
    "    'ano':'',\n",
    "    'datApresentacaoIni':'',\n",
    "    'datApresentacaoFim':'',\n",
    "    'parteNomeAutor':'',\n",
    "    'idTipoAutor':'',\n",
    "    'siglaPartidoAutor':'',\n",
    "    'siglaUFAutor':'',\n",
    "    'generoAutor':'',\n",
    "    'codEstado':'',\n",
    "    'codOrgaoEstado':'',\n",
    "    'emTramitacao':''\n",
    "}"
   ]
  },
  {
   "cell_type": "code",
   "execution_count": 224,
   "metadata": {},
   "outputs": [
    {
     "name": "stdout",
     "output_type": "stream",
     "text": [
      "URL: http://www.camara.leg.br/SitCamaraWS/Proposicoes.asmx/ListarProposicoes?generoAutor=&siglaUFAutor=&ano=2017&numero=&codOrgaoEstado=&emTramitacao=&datApresentacaoIni=&idTipoAutor=&siglaPartidoAutor=&codEstado=&datApresentacaoFim=&parteNomeAutor=&sigla=PL\n",
      "Status: 200\n"
     ]
    }
   ],
   "source": [
    "params['sigla'] = 'PL'\n",
    "params['ano'] = '2017'\n",
    "params['siglaUFAutor'] = ''\n",
    "response = re.get(url, params)\n",
    "print('URL: %s\\nStatus: %s' % (response.url, response.status_code))"
   ]
  },
  {
   "cell_type": "code",
   "execution_count": 225,
   "metadata": {
    "collapsed": true
   },
   "outputs": [],
   "source": [
    "tree = xml2dict.parse(response.content)\n"
   ]
  },
  {
   "cell_type": "code",
   "execution_count": 226,
   "metadata": {},
   "outputs": [
    {
     "data": {
      "text/plain": [
       "[u'proposicoes']"
      ]
     },
     "execution_count": 226,
     "metadata": {},
     "output_type": "execute_result"
    }
   ],
   "source": [
    "tree.keys()"
   ]
  },
  {
   "cell_type": "code",
   "execution_count": 227,
   "metadata": {},
   "outputs": [
    {
     "data": {
      "text/plain": [
       "[u'proposicao']"
      ]
     },
     "execution_count": 227,
     "metadata": {},
     "output_type": "execute_result"
    }
   ],
   "source": [
    "proposicoes = tree['proposicoes']\n",
    "[x for x in proposicoes.keys()]"
   ]
  },
  {
   "cell_type": "code",
   "execution_count": 228,
   "metadata": {},
   "outputs": [
    {
     "data": {
      "text/plain": [
       "[u'id',\n",
       " u'nome',\n",
       " u'tipoProposicao',\n",
       " u'numero',\n",
       " u'ano',\n",
       " u'orgaoNumerador',\n",
       " u'datApresentacao',\n",
       " u'txtEmenta',\n",
       " u'txtExplicacaoEmenta',\n",
       " u'regime',\n",
       " u'apreciacao',\n",
       " u'autor1',\n",
       " u'qtdAutores',\n",
       " u'ultimoDespacho',\n",
       " u'situacao',\n",
       " u'indGenero',\n",
       " u'qtdOrgaosComEstado']"
      ]
     },
     "execution_count": 228,
     "metadata": {},
     "output_type": "execute_result"
    }
   ],
   "source": [
    "proposicoes['proposicao'][0].keys()"
   ]
  },
  {
   "cell_type": "code",
   "execution_count": 241,
   "metadata": {
    "collapsed": true
   },
   "outputs": [],
   "source": [
    "proposicao = proposicoes['proposicao']"
   ]
  },
  {
   "cell_type": "code",
   "execution_count": 242,
   "metadata": {
    "collapsed": true
   },
   "outputs": [],
   "source": [
    "new_dict = {}\n",
    "chaves_to_delete = []\n",
    "\n",
    "for prop in proposicao:\n",
    "    for item in prop:\n",
    "        if isinstance(prop[item], OrderedDict):\n",
    "            for x in prop[item].items():\n",
    "                new_dict[item+'_'+x[0]] = x[1]\n",
    "            chaves_to_delete.append(item)\n",
    "            prop.update(new_dict)"
   ]
  },
  {
   "cell_type": "code",
   "execution_count": 243,
   "metadata": {
    "collapsed": true
   },
   "outputs": [],
   "source": [
    "for prop in proposicao:\n",
    "    for chave in prop.keys():\n",
    "        if chave in chaves_to_delete:\n",
    "            del prop[chave]"
   ]
  },
  {
   "cell_type": "code",
   "execution_count": 244,
   "metadata": {},
   "outputs": [
    {
     "data": {
      "text/html": [
       "<div>\n",
       "<style>\n",
       "    .dataframe thead tr:only-child th {\n",
       "        text-align: right;\n",
       "    }\n",
       "\n",
       "    .dataframe thead th {\n",
       "        text-align: left;\n",
       "    }\n",
       "\n",
       "    .dataframe tbody tr th {\n",
       "        vertical-align: top;\n",
       "    }\n",
       "</style>\n",
       "<table border=\"1\" class=\"dataframe\">\n",
       "  <thead>\n",
       "    <tr style=\"text-align: right;\">\n",
       "      <th></th>\n",
       "      <th>id</th>\n",
       "      <th>nome</th>\n",
       "      <th>numero</th>\n",
       "      <th>ano</th>\n",
       "      <th>datApresentacao</th>\n",
       "      <th>txtEmenta</th>\n",
       "      <th>txtExplicacaoEmenta</th>\n",
       "      <th>qtdAutores</th>\n",
       "      <th>indGenero</th>\n",
       "      <th>qtdOrgaosComEstado</th>\n",
       "      <th>...</th>\n",
       "      <th>autor1_codPartido</th>\n",
       "      <th>autor1_txtSiglaUF</th>\n",
       "      <th>ultimoDespacho_datDespacho</th>\n",
       "      <th>ultimoDespacho_txtDespacho</th>\n",
       "      <th>situacao_id</th>\n",
       "      <th>situacao_descricao</th>\n",
       "      <th>situacao_principal_proposicaoPrincipal</th>\n",
       "      <th>situacao_principal_codProposicaoPrincipal</th>\n",
       "      <th>situacao_orgao_codOrgaoEstado</th>\n",
       "      <th>situacao_orgao_siglaOrgaoEstado</th>\n",
       "    </tr>\n",
       "  </thead>\n",
       "  <tbody>\n",
       "    <tr>\n",
       "      <th>0</th>\n",
       "      <td>2153387</td>\n",
       "      <td>PL 8727/2017</td>\n",
       "      <td>8727</td>\n",
       "      <td>2017</td>\n",
       "      <td>28/9/2017 11:17:00</td>\n",
       "      <td>Estabelece medidas de combate à corrupção e à ...</td>\n",
       "      <td>None</td>\n",
       "      <td>1</td>\n",
       "      <td>o</td>\n",
       "      <td>0</td>\n",
       "      <td>...</td>\n",
       "      <td>140</td>\n",
       "      <td>SP</td>\n",
       "      <td>None</td>\n",
       "      <td>None</td>\n",
       "      <td>None</td>\n",
       "      <td>None</td>\n",
       "      <td>None</td>\n",
       "      <td>0</td>\n",
       "      <td>None</td>\n",
       "      <td>None</td>\n",
       "    </tr>\n",
       "    <tr>\n",
       "      <th>1</th>\n",
       "      <td>2153349</td>\n",
       "      <td>PL 8726/2017</td>\n",
       "      <td>8726</td>\n",
       "      <td>2017</td>\n",
       "      <td>28/9/2017 10:02:00</td>\n",
       "      <td>Inscreve o nome de Dom José Maria Pires no Liv...</td>\n",
       "      <td>None</td>\n",
       "      <td>1</td>\n",
       "      <td>o</td>\n",
       "      <td>0</td>\n",
       "      <td>...</td>\n",
       "      <td>134</td>\n",
       "      <td>PB</td>\n",
       "      <td>None</td>\n",
       "      <td>None</td>\n",
       "      <td>None</td>\n",
       "      <td>None</td>\n",
       "      <td>None</td>\n",
       "      <td>0</td>\n",
       "      <td>None</td>\n",
       "      <td>None</td>\n",
       "    </tr>\n",
       "    <tr>\n",
       "      <th>2</th>\n",
       "      <td>2153334</td>\n",
       "      <td>PL 8725/2017</td>\n",
       "      <td>8725</td>\n",
       "      <td>2017</td>\n",
       "      <td>28/9/2017 09:37:00</td>\n",
       "      <td>Acrescenta parágrafo único ao art. 307 do Decr...</td>\n",
       "      <td>None</td>\n",
       "      <td>1</td>\n",
       "      <td>o</td>\n",
       "      <td>0</td>\n",
       "      <td>...</td>\n",
       "      <td>134</td>\n",
       "      <td>GO</td>\n",
       "      <td>None</td>\n",
       "      <td>None</td>\n",
       "      <td>None</td>\n",
       "      <td>None</td>\n",
       "      <td>None</td>\n",
       "      <td>0</td>\n",
       "      <td>None</td>\n",
       "      <td>None</td>\n",
       "    </tr>\n",
       "    <tr>\n",
       "      <th>3</th>\n",
       "      <td>2153324</td>\n",
       "      <td>PL 8724/2017</td>\n",
       "      <td>8724</td>\n",
       "      <td>2017</td>\n",
       "      <td>27/9/2017 22:06:00</td>\n",
       "      <td>Institui o Fundo Soberano Brasileiro para regu...</td>\n",
       "      <td>None</td>\n",
       "      <td>1</td>\n",
       "      <td>o</td>\n",
       "      <td>1</td>\n",
       "      <td>...</td>\n",
       "      <td>111</td>\n",
       "      <td>RJ</td>\n",
       "      <td>None</td>\n",
       "      <td>None</td>\n",
       "      <td>905</td>\n",
       "      <td>Aguardando Despacho do Presidente da Câmara do...</td>\n",
       "      <td>None</td>\n",
       "      <td>0</td>\n",
       "      <td>100001</td>\n",
       "      <td>SECAP(SGM)</td>\n",
       "    </tr>\n",
       "    <tr>\n",
       "      <th>4</th>\n",
       "      <td>2153312</td>\n",
       "      <td>PL 8723/2017</td>\n",
       "      <td>8723</td>\n",
       "      <td>2017</td>\n",
       "      <td>27/9/2017 20:46:00</td>\n",
       "      <td>Institui o Dia Nacional do Terço dos Homens.</td>\n",
       "      <td>None</td>\n",
       "      <td>1</td>\n",
       "      <td>o</td>\n",
       "      <td>1</td>\n",
       "      <td>...</td>\n",
       "      <td>126</td>\n",
       "      <td>SE</td>\n",
       "      <td>None</td>\n",
       "      <td>None</td>\n",
       "      <td>905</td>\n",
       "      <td>Aguardando Despacho do Presidente da Câmara do...</td>\n",
       "      <td>None</td>\n",
       "      <td>0</td>\n",
       "      <td>100001</td>\n",
       "      <td>SECAP(SGM)</td>\n",
       "    </tr>\n",
       "  </tbody>\n",
       "</table>\n",
       "<p>5 rows × 33 columns</p>\n",
       "</div>"
      ],
      "text/plain": [
       "        id          nome numero   ano     datApresentacao  \\\n",
       "0  2153387  PL 8727/2017   8727  2017  28/9/2017 11:17:00   \n",
       "1  2153349  PL 8726/2017   8726  2017  28/9/2017 10:02:00   \n",
       "2  2153334  PL 8725/2017   8725  2017  28/9/2017 09:37:00   \n",
       "3  2153324  PL 8724/2017   8724  2017  27/9/2017 22:06:00   \n",
       "4  2153312  PL 8723/2017   8723  2017  27/9/2017 20:46:00   \n",
       "\n",
       "                                           txtEmenta txtExplicacaoEmenta  \\\n",
       "0  Estabelece medidas de combate à corrupção e à ...                None   \n",
       "1  Inscreve o nome de Dom José Maria Pires no Liv...                None   \n",
       "2  Acrescenta parágrafo único ao art. 307 do Decr...                None   \n",
       "3  Institui o Fundo Soberano Brasileiro para regu...                None   \n",
       "4       Institui o Dia Nacional do Terço dos Homens.                None   \n",
       "\n",
       "  qtdAutores indGenero qtdOrgaosComEstado               ...                \\\n",
       "0          1         o                  0               ...                 \n",
       "1          1         o                  0               ...                 \n",
       "2          1         o                  0               ...                 \n",
       "3          1         o                  1               ...                 \n",
       "4          1         o                  1               ...                 \n",
       "\n",
       "  autor1_codPartido autor1_txtSiglaUF ultimoDespacho_datDespacho  \\\n",
       "0               140                SP                       None   \n",
       "1               134                PB                       None   \n",
       "2               134                GO                       None   \n",
       "3               111                RJ                       None   \n",
       "4               126                SE                       None   \n",
       "\n",
       "  ultimoDespacho_txtDespacho situacao_id  \\\n",
       "0                       None        None   \n",
       "1                       None        None   \n",
       "2                       None        None   \n",
       "3                       None         905   \n",
       "4                       None         905   \n",
       "\n",
       "                                  situacao_descricao  \\\n",
       "0                                               None   \n",
       "1                                               None   \n",
       "2                                               None   \n",
       "3  Aguardando Despacho do Presidente da Câmara do...   \n",
       "4  Aguardando Despacho do Presidente da Câmara do...   \n",
       "\n",
       "  situacao_principal_proposicaoPrincipal  \\\n",
       "0                                   None   \n",
       "1                                   None   \n",
       "2                                   None   \n",
       "3                                   None   \n",
       "4                                   None   \n",
       "\n",
       "  situacao_principal_codProposicaoPrincipal situacao_orgao_codOrgaoEstado  \\\n",
       "0                                         0                          None   \n",
       "1                                         0                          None   \n",
       "2                                         0                          None   \n",
       "3                                         0                        100001   \n",
       "4                                         0                        100001   \n",
       "\n",
       "  situacao_orgao_siglaOrgaoEstado  \n",
       "0                            None  \n",
       "1                            None  \n",
       "2                            None  \n",
       "3                      SECAP(SGM)  \n",
       "4                      SECAP(SGM)  \n",
       "\n",
       "[5 rows x 33 columns]"
      ]
     },
     "execution_count": 244,
     "metadata": {},
     "output_type": "execute_result"
    }
   ],
   "source": [
    "proposicao_df = pd.DataFrame(proposicao)\n",
    "proposicao_df.head()"
   ]
  },
  {
   "cell_type": "code",
   "execution_count": 246,
   "metadata": {
    "collapsed": true
   },
   "outputs": [],
   "source": [
    "proposicao_df.dropna(axis=1, inplace=True)"
   ]
  },
  {
   "cell_type": "code",
   "execution_count": 247,
   "metadata": {},
   "outputs": [
    {
     "name": "stdout",
     "output_type": "stream",
     "text": [
      "1940 linhas, 21 colunas\n"
     ]
    }
   ],
   "source": [
    "shape = proposicao_df.shape\n",
    "print('%s linhas, %s colunas' % (shape[0], shape[1]))"
   ]
  },
  {
   "cell_type": "code",
   "execution_count": 248,
   "metadata": {},
   "outputs": [
    {
     "data": {
      "text/plain": [
       "Index([u'id', u'nome', u'numero', u'ano', u'datApresentacao', u'txtEmenta',\n",
       "       u'qtdAutores', u'indGenero', u'qtdOrgaosComEstado',\n",
       "       u'tipoProposicao_id', u'tipoProposicao_sigla', u'tipoProposicao_nome',\n",
       "       u'orgaoNumerador_sigla', u'orgaoNumerador_nome', u'orgaoNumerador_id',\n",
       "       u'regime_txtRegime', u'regime_codRegime', u'apreciacao_txtApreciacao',\n",
       "       u'apreciacao_id', u'autor1_txtNomeAutor',\n",
       "       u'situacao_principal_codProposicaoPrincipal'],\n",
       "      dtype='object')"
      ]
     },
     "execution_count": 248,
     "metadata": {},
     "output_type": "execute_result"
    }
   ],
   "source": [
    "proposicao_df.columns"
   ]
  },
  {
   "cell_type": "code",
   "execution_count": 270,
   "metadata": {},
   "outputs": [
    {
     "data": {
      "text/html": [
       "<div>\n",
       "<style>\n",
       "    .dataframe thead tr:only-child th {\n",
       "        text-align: right;\n",
       "    }\n",
       "\n",
       "    .dataframe thead th {\n",
       "        text-align: left;\n",
       "    }\n",
       "\n",
       "    .dataframe tbody tr th {\n",
       "        vertical-align: top;\n",
       "    }\n",
       "</style>\n",
       "<table border=\"1\" class=\"dataframe\">\n",
       "  <thead>\n",
       "    <tr style=\"text-align: right;\">\n",
       "      <th></th>\n",
       "      <th></th>\n",
       "      <th>id</th>\n",
       "    </tr>\n",
       "    <tr>\n",
       "      <th>autor1_txtNomeAutor</th>\n",
       "      <th>numero</th>\n",
       "      <th></th>\n",
       "    </tr>\n",
       "  </thead>\n",
       "  <tbody>\n",
       "    <tr>\n",
       "      <th>Adail Carneiro</th>\n",
       "      <th>7368</th>\n",
       "      <td>1</td>\n",
       "    </tr>\n",
       "    <tr>\n",
       "      <th>Miguel Lombardi</th>\n",
       "      <th>8369</th>\n",
       "      <td>1</td>\n",
       "    </tr>\n",
       "    <tr>\n",
       "      <th>Nelson Pellegrino</th>\n",
       "      <th>7042</th>\n",
       "      <td>1</td>\n",
       "    </tr>\n",
       "    <tr>\n",
       "      <th>Nelson Padovani</th>\n",
       "      <th>7437</th>\n",
       "      <td>1</td>\n",
       "    </tr>\n",
       "    <tr>\n",
       "      <th>Mário Negromonte Jr.</th>\n",
       "      <th>7894</th>\n",
       "      <td>1</td>\n",
       "    </tr>\n",
       "    <tr>\n",
       "      <th rowspan=\"3\" valign=\"top\">Mário Heringer</th>\n",
       "      <th>8700</th>\n",
       "      <td>1</td>\n",
       "    </tr>\n",
       "    <tr>\n",
       "      <th>8385</th>\n",
       "      <td>1</td>\n",
       "    </tr>\n",
       "    <tr>\n",
       "      <th>7317</th>\n",
       "      <td>1</td>\n",
       "    </tr>\n",
       "    <tr>\n",
       "      <th rowspan=\"2\" valign=\"top\">Márcio Marinho</th>\n",
       "      <th>7931</th>\n",
       "      <td>1</td>\n",
       "    </tr>\n",
       "    <tr>\n",
       "      <th>7260</th>\n",
       "      <td>1</td>\n",
       "    </tr>\n",
       "  </tbody>\n",
       "</table>\n",
       "</div>"
      ],
      "text/plain": [
       "                             id\n",
       "autor1_txtNomeAutor  numero    \n",
       "Adail Carneiro       7368     1\n",
       "Miguel Lombardi      8369     1\n",
       "Nelson Pellegrino    7042     1\n",
       "Nelson Padovani      7437     1\n",
       "Mário Negromonte Jr. 7894     1\n",
       "Mário Heringer       8700     1\n",
       "                     8385     1\n",
       "                     7317     1\n",
       "Márcio Marinho       7931     1\n",
       "                     7260     1"
      ]
     },
     "execution_count": 270,
     "metadata": {},
     "output_type": "execute_result"
    }
   ],
   "source": [
    "condicao = [proposicao_df['autor1_txtNomeAutor'], proposicao_df['numero']]\n",
    "count_by_autor = proposicao_df.groupby(condicao)[['id']].count()\n",
    "count_by_autor.sort_values(by='id', ascending=False).head(10)"
   ]
  },
  {
   "cell_type": "code",
   "execution_count": 250,
   "metadata": {},
   "outputs": [
    {
     "data": {
      "text/plain": [
       "<matplotlib.axes._subplots.AxesSubplot at 0x7f3e3b97f150>"
      ]
     },
     "execution_count": 250,
     "metadata": {},
     "output_type": "execute_result"
    },
    {
     "data": {
      "image/png": "[encoded data removed]",
      "text/plain": [
       "<matplotlib.figure.Figure at 0x7f3e3b967e50>"
      ]
     },
     "metadata": {},
     "output_type": "display_data"
    }
   ],
   "source": [
    "count_by_autor.sort_values(by='id', ascending=False).head().plot.bar()"
   ]
  },
  {
   "cell_type": "code",
   "execution_count": 273,
   "metadata": {},
   "outputs": [
    {
     "data": {
      "text/html": [
       "<div>\n",
       "<style>\n",
       "    .dataframe thead tr:only-child th {\n",
       "        text-align: right;\n",
       "    }\n",
       "\n",
       "    .dataframe thead th {\n",
       "        text-align: left;\n",
       "    }\n",
       "\n",
       "    .dataframe tbody tr th {\n",
       "        vertical-align: top;\n",
       "    }\n",
       "</style>\n",
       "<table border=\"1\" class=\"dataframe\">\n",
       "  <thead>\n",
       "    <tr style=\"text-align: right;\">\n",
       "      <th></th>\n",
       "      <th>id</th>\n",
       "      <th>nome</th>\n",
       "      <th>numero</th>\n",
       "      <th>ano</th>\n",
       "      <th>datApresentacao</th>\n",
       "      <th>txtEmenta</th>\n",
       "      <th>qtdAutores</th>\n",
       "      <th>indGenero</th>\n",
       "      <th>qtdOrgaosComEstado</th>\n",
       "      <th>tipoProposicao_id</th>\n",
       "      <th>...</th>\n",
       "      <th>tipoProposicao_nome</th>\n",
       "      <th>orgaoNumerador_sigla</th>\n",
       "      <th>orgaoNumerador_nome</th>\n",
       "      <th>orgaoNumerador_id</th>\n",
       "      <th>regime_txtRegime</th>\n",
       "      <th>regime_codRegime</th>\n",
       "      <th>apreciacao_txtApreciacao</th>\n",
       "      <th>apreciacao_id</th>\n",
       "      <th>autor1_txtNomeAutor</th>\n",
       "      <th>situacao_principal_codProposicaoPrincipal</th>\n",
       "    </tr>\n",
       "  </thead>\n",
       "  <tbody>\n",
       "    <tr>\n",
       "      <th>27</th>\n",
       "      <td>2153055</td>\n",
       "      <td>PL 8700/2017</td>\n",
       "      <td>8700</td>\n",
       "      <td>2017</td>\n",
       "      <td>27/9/2017 11:09:00</td>\n",
       "      <td>Altera a Lei nº 6.015, de 31 de dezembro de 19...</td>\n",
       "      <td>1</td>\n",
       "      <td>o</td>\n",
       "      <td>1</td>\n",
       "      <td>139</td>\n",
       "      <td>...</td>\n",
       "      <td>Projeto de Lei</td>\n",
       "      <td>PLEN</td>\n",
       "      <td>PLENÁRIO</td>\n",
       "      <td>180</td>\n",
       "      <td>.</td>\n",
       "      <td>99</td>\n",
       "      <td>.</td>\n",
       "      <td>99</td>\n",
       "      <td>Mário Heringer</td>\n",
       "      <td>0</td>\n",
       "    </tr>\n",
       "  </tbody>\n",
       "</table>\n",
       "<p>1 rows × 21 columns</p>\n",
       "</div>"
      ],
      "text/plain": [
       "         id          nome numero   ano     datApresentacao  \\\n",
       "27  2153055  PL 8700/2017   8700  2017  27/9/2017 11:09:00   \n",
       "\n",
       "                                            txtEmenta qtdAutores indGenero  \\\n",
       "27  Altera a Lei nº 6.015, de 31 de dezembro de 19...          1         o   \n",
       "\n",
       "   qtdOrgaosComEstado tipoProposicao_id  \\\n",
       "27                  1               139   \n",
       "\n",
       "                      ...                    tipoProposicao_nome  \\\n",
       "27                    ...                         Projeto de Lei   \n",
       "\n",
       "   orgaoNumerador_sigla orgaoNumerador_nome orgaoNumerador_id  \\\n",
       "27                 PLEN            PLENÁRIO               180   \n",
       "\n",
       "   regime_txtRegime regime_codRegime apreciacao_txtApreciacao apreciacao_id  \\\n",
       "27                .               99                        .            99   \n",
       "\n",
       "   autor1_txtNomeAutor situacao_principal_codProposicaoPrincipal  \n",
       "27      Mário Heringer                                         0  \n",
       "\n",
       "[1 rows x 21 columns]"
      ]
     },
     "execution_count": 273,
     "metadata": {},
     "output_type": "execute_result"
    }
   ],
   "source": [
    "proposicao_df[proposicao_df['numero'] == '8700']"
   ]
  },
  {
   "cell_type": "code",
   "execution_count": 3,
   "metadata": {
    "collapsed": true
   },
   "outputs": [],
   "source": [
    "prop = pd.read_csv('../data/proposicoes.csv')"
   ]
  },
  {
   "cell_type": "code",
   "execution_count": 5,
   "metadata": {},
   "outputs": [
    {
     "data": {
      "text/html": [
       "<div>\n",
       "<style>\n",
       "    .dataframe thead tr:only-child th {\n",
       "        text-align: right;\n",
       "    }\n",
       "\n",
       "    .dataframe thead th {\n",
       "        text-align: left;\n",
       "    }\n",
       "\n",
       "    .dataframe tbody tr th {\n",
       "        vertical-align: top;\n",
       "    }\n",
       "</style>\n",
       "<table border=\"1\" class=\"dataframe\">\n",
       "  <thead>\n",
       "    <tr style=\"text-align: right;\">\n",
       "      <th></th>\n",
       "      <th>tipo</th>\n",
       "      <th>numero</th>\n",
       "      <th>ano</th>\n",
       "      <th>nome_proposicao</th>\n",
       "      <th>id_proposicao</th>\n",
       "      <th>id_proposicao_principal</th>\n",
       "      <th>nome_proposicao_origem</th>\n",
       "      <th>tipo_proposicao</th>\n",
       "      <th>tema</th>\n",
       "      <th>ementa</th>\n",
       "      <th>...</th>\n",
       "      <th>partido_autor</th>\n",
       "      <th>data_apresentacao</th>\n",
       "      <th>regime_tramitacao</th>\n",
       "      <th>data_ultimo_despacho</th>\n",
       "      <th>ultimo_despacho</th>\n",
       "      <th>apreciacao</th>\n",
       "      <th>indexacao</th>\n",
       "      <th>situacao</th>\n",
       "      <th>link_inteiro_teor</th>\n",
       "      <th>apensadas</th>\n",
       "    </tr>\n",
       "  </thead>\n",
       "  <tbody>\n",
       "    <tr>\n",
       "      <th>0</th>\n",
       "      <td>REQ</td>\n",
       "      <td>1030</td>\n",
       "      <td>2015</td>\n",
       "      <td>REQ 1030/2015 =&gt; PL 644/2015</td>\n",
       "      <td>1049075</td>\n",
       "      <td>994678.0</td>\n",
       "      <td>NaN</td>\n",
       "      <td>Requerimento de Urgência (Art. 155 do RICD)</td>\n",
       "      <td>NaN</td>\n",
       "      <td>Com base no art. 155 do Regimento Interno, req...</td>\n",
       "      <td>...</td>\n",
       "      <td>PP</td>\n",
       "      <td>18/03/2015</td>\n",
       "      <td>.</td>\n",
       "      <td>NaN</td>\n",
       "      <td>NaN</td>\n",
       "      <td>.</td>\n",
       "      <td>NaN</td>\n",
       "      <td>MESA - Tramitação do Requerimento Finalizada</td>\n",
       "      <td>http://www.camara.gov.br/proposicoesWeb/prop_m...</td>\n",
       "      <td>NaN</td>\n",
       "    </tr>\n",
       "    <tr>\n",
       "      <th>1</th>\n",
       "      <td>REQ</td>\n",
       "      <td>1041</td>\n",
       "      <td>2015</td>\n",
       "      <td>REQ 1041/2015 =&gt; PL 6232/2013</td>\n",
       "      <td>1049167</td>\n",
       "      <td>589924.0</td>\n",
       "      <td>NaN</td>\n",
       "      <td>Requerimento de Urgência (Art. 155 do RICD)</td>\n",
       "      <td>NaN</td>\n",
       "      <td>Requeremos a Vossa Excelência, nos termos do a...</td>\n",
       "      <td>...</td>\n",
       "      <td>PMDB</td>\n",
       "      <td>18/03/2015</td>\n",
       "      <td>.</td>\n",
       "      <td>NaN</td>\n",
       "      <td>NaN</td>\n",
       "      <td>.</td>\n",
       "      <td>NaN</td>\n",
       "      <td>COAPP(SGM) - Aguardando Encaminhamento</td>\n",
       "      <td>http://www.camara.gov.br/proposicoesWeb/prop_m...</td>\n",
       "      <td>NaN</td>\n",
       "    </tr>\n",
       "    <tr>\n",
       "      <th>2</th>\n",
       "      <td>PL</td>\n",
       "      <td>846</td>\n",
       "      <td>2015</td>\n",
       "      <td>PL 846/2015</td>\n",
       "      <td>1049380</td>\n",
       "      <td>NaN</td>\n",
       "      <td>NaN</td>\n",
       "      <td>Projeto de Lei</td>\n",
       "      <td>Direito Penal e Processual Penal</td>\n",
       "      <td>Acrescenta parágrafo ao artigo 121 do Decreto-...</td>\n",
       "      <td>...</td>\n",
       "      <td>PMDB</td>\n",
       "      <td>19/03/2015</td>\n",
       "      <td>Urgência art. 155 RICD</td>\n",
       "      <td>19/03/2015</td>\n",
       "      <td>Apense-se à(ao) PL-3131/2008. Proposição Sujei...</td>\n",
       "      <td>Proposição Sujeita à Apreciação do Plenário</td>\n",
       "      <td>Alteração, Código Penal, agravação penal, homi...</td>\n",
       "      <td>Tranformada no(a) Lei Ordinária 13142/2015</td>\n",
       "      <td>http://www.camara.gov.br/proposicoesWeb/prop_m...</td>\n",
       "      <td>NaN</td>\n",
       "    </tr>\n",
       "    <tr>\n",
       "      <th>3</th>\n",
       "      <td>MPV</td>\n",
       "      <td>671</td>\n",
       "      <td>2015</td>\n",
       "      <td>MPV 671/2015</td>\n",
       "      <td>1050558</td>\n",
       "      <td>NaN</td>\n",
       "      <td>NaN</td>\n",
       "      <td>Medida Provisória</td>\n",
       "      <td>Desporto e Lazer; Tributação</td>\n",
       "      <td>Institui o Programa de Modernização da Gestão ...</td>\n",
       "      <td>...</td>\n",
       "      <td>NaN</td>\n",
       "      <td>20/03/2015</td>\n",
       "      <td>Urgência</td>\n",
       "      <td>01/07/2015</td>\n",
       "      <td>Ao Plenário para leitura. Publique-se.</td>\n",
       "      <td>Proposição Sujeita à Apreciação do Plenário</td>\n",
       "      <td>Alteração, Estatuto de Defesa do Torcedor, Lei...</td>\n",
       "      <td>Tranformada no(a) Lei Ordinária 13155/2015</td>\n",
       "      <td>http://www.camara.gov.br/proposicoesWeb/prop_m...</td>\n",
       "      <td>NaN</td>\n",
       "    </tr>\n",
       "    <tr>\n",
       "      <th>4</th>\n",
       "      <td>PL</td>\n",
       "      <td>863</td>\n",
       "      <td>2015</td>\n",
       "      <td>PL 863/2015</td>\n",
       "      <td>1050643</td>\n",
       "      <td>NaN</td>\n",
       "      <td>NaN</td>\n",
       "      <td>Projeto de Lei</td>\n",
       "      <td>Tributação</td>\n",
       "      <td>Altera a Lei nº 12.546, de 14 de dezembro de 2...</td>\n",
       "      <td>...</td>\n",
       "      <td>NaN</td>\n",
       "      <td>20/03/2015</td>\n",
       "      <td>Urgência art. 64 CF</td>\n",
       "      <td>13/05/2015</td>\n",
       "      <td>Revejo o despacho de deferimento proferido no ...</td>\n",
       "      <td>Proposição Sujeita à Apreciação do Plenário</td>\n",
       "      <td>Alteração, Lei do Bem, contribuição previdenci...</td>\n",
       "      <td>Tranformada no(a) Lei Ordinária 13161/2015</td>\n",
       "      <td>http://www.camara.gov.br/proposicoesWeb/prop_m...</td>\n",
       "      <td>NaN</td>\n",
       "    </tr>\n",
       "  </tbody>\n",
       "</table>\n",
       "<p>5 rows × 24 columns</p>\n",
       "</div>"
      ],
      "text/plain": [
       "  tipo  numero   ano                nome_proposicao  id_proposicao  \\\n",
       "0  REQ    1030  2015   REQ 1030/2015 => PL 644/2015        1049075   \n",
       "1  REQ    1041  2015  REQ 1041/2015 => PL 6232/2013        1049167   \n",
       "2   PL     846  2015                    PL 846/2015        1049380   \n",
       "3  MPV     671  2015                   MPV 671/2015        1050558   \n",
       "4   PL     863  2015                    PL 863/2015        1050643   \n",
       "\n",
       "   id_proposicao_principal nome_proposicao_origem  \\\n",
       "0                 994678.0                    NaN   \n",
       "1                 589924.0                    NaN   \n",
       "2                      NaN                    NaN   \n",
       "3                      NaN                    NaN   \n",
       "4                      NaN                    NaN   \n",
       "\n",
       "                               tipo_proposicao  \\\n",
       "0  Requerimento de Urgência (Art. 155 do RICD)   \n",
       "1  Requerimento de Urgência (Art. 155 do RICD)   \n",
       "2                               Projeto de Lei   \n",
       "3                            Medida Provisória   \n",
       "4                               Projeto de Lei   \n",
       "\n",
       "                               tema  \\\n",
       "0                               NaN   \n",
       "1                               NaN   \n",
       "2  Direito Penal e Processual Penal   \n",
       "3      Desporto e Lazer; Tributação   \n",
       "4                        Tributação   \n",
       "\n",
       "                                              ementa    ...    partido_autor  \\\n",
       "0  Com base no art. 155 do Regimento Interno, req...    ...               PP   \n",
       "1  Requeremos a Vossa Excelência, nos termos do a...    ...             PMDB   \n",
       "2  Acrescenta parágrafo ao artigo 121 do Decreto-...    ...             PMDB   \n",
       "3  Institui o Programa de Modernização da Gestão ...    ...              NaN   \n",
       "4  Altera a Lei nº 12.546, de 14 de dezembro de 2...    ...              NaN   \n",
       "\n",
       "  data_apresentacao       regime_tramitacao data_ultimo_despacho  \\\n",
       "0        18/03/2015                       .                  NaN   \n",
       "1        18/03/2015                       .                  NaN   \n",
       "2        19/03/2015  Urgência art. 155 RICD           19/03/2015   \n",
       "3        20/03/2015                Urgência           01/07/2015   \n",
       "4        20/03/2015     Urgência art. 64 CF           13/05/2015   \n",
       "\n",
       "                                     ultimo_despacho  \\\n",
       "0                                                NaN   \n",
       "1                                                NaN   \n",
       "2  Apense-se à(ao) PL-3131/2008. Proposição Sujei...   \n",
       "3             Ao Plenário para leitura. Publique-se.   \n",
       "4  Revejo o despacho de deferimento proferido no ...   \n",
       "\n",
       "                                    apreciacao  \\\n",
       "0                                            .   \n",
       "1                                            .   \n",
       "2  Proposição Sujeita à Apreciação do Plenário   \n",
       "3  Proposição Sujeita à Apreciação do Plenário   \n",
       "4  Proposição Sujeita à Apreciação do Plenário   \n",
       "\n",
       "                                           indexacao  \\\n",
       "0                                                NaN   \n",
       "1                                                NaN   \n",
       "2  Alteração, Código Penal, agravação penal, homi...   \n",
       "3  Alteração, Estatuto de Defesa do Torcedor, Lei...   \n",
       "4  Alteração, Lei do Bem, contribuição previdenci...   \n",
       "\n",
       "                                       situacao  \\\n",
       "0  MESA - Tramitação do Requerimento Finalizada   \n",
       "1        COAPP(SGM) - Aguardando Encaminhamento   \n",
       "2    Tranformada no(a) Lei Ordinária 13142/2015   \n",
       "3    Tranformada no(a) Lei Ordinária 13155/2015   \n",
       "4    Tranformada no(a) Lei Ordinária 13161/2015   \n",
       "\n",
       "                                   link_inteiro_teor apensadas  \n",
       "0  http://www.camara.gov.br/proposicoesWeb/prop_m...       NaN  \n",
       "1  http://www.camara.gov.br/proposicoesWeb/prop_m...       NaN  \n",
       "2  http://www.camara.gov.br/proposicoesWeb/prop_m...       NaN  \n",
       "3  http://www.camara.gov.br/proposicoesWeb/prop_m...       NaN  \n",
       "4  http://www.camara.gov.br/proposicoesWeb/prop_m...       NaN  \n",
       "\n",
       "[5 rows x 24 columns]"
      ]
     },
     "execution_count": 5,
     "metadata": {},
     "output_type": "execute_result"
    }
   ],
   "source": [
    "prop.head()"
   ]
  },
  {
   "cell_type": "code",
   "execution_count": 7,
   "metadata": {},
   "outputs": [
    {
     "data": {
      "text/plain": [
       "0                                       Eduardo da Fonte\n",
       "1                                      Leonardo Picciani\n",
       "2                                      Leonardo Picciani\n",
       "3                                        Poder Executivo\n",
       "4                                        Poder Executivo\n",
       "5                                      Leonardo Picciani\n",
       "6                                         Mendonça Filho\n",
       "7                                       Celso Russomanno\n",
       "8                                       Eduardo da Fonte\n",
       "9                                       Eduardo da Fonte\n",
       "10                                      Eduardo da Fonte\n",
       "11                                      Eduardo da Fonte\n",
       "12                                        Mendonça Filho\n",
       "13                                        Senado Federal\n",
       "14                                       Poder Executivo\n",
       "15                                           Jorge Solla\n",
       "16                                        Mendonça Filho\n",
       "17     Comissão de Relações Exteriores e de Defesa Na...\n",
       "18                                     Leonardo Picciani\n",
       "19                                           Bruno Covas\n",
       "20                                        Altineu Côrtes\n",
       "21                                       Poder Executivo\n",
       "22                                         Júlio Delgado\n",
       "23                                         Alceu Moreira\n",
       "24                                      Eduardo da Fonte\n",
       "25                                     BENEDITO DOMINGOS\n",
       "26                                         Alberto Fraga\n",
       "27                                       Poder Executivo\n",
       "28                                       Poder Executivo\n",
       "29                                       Poder Executivo\n",
       "                             ...                        \n",
       "176                     Senado Federal - Roberto Requião\n",
       "177                                   Cândido Vaccarezza\n",
       "178    Comissão de Relações Exteriores e de Defesa Na...\n",
       "179                                       Senado Federal\n",
       "180                         Senado Federal - Romero Jucá\n",
       "181                                       Jovair Arantes\n",
       "182                                        Alex Canziani\n",
       "183                               Paulo Pereira da Silva\n",
       "184                                      Poder Executivo\n",
       "185                          Defensoria Pública da União\n",
       "186                                      Poder Executivo\n",
       "187                                      Poder Executivo\n",
       "188                                        George Hilton\n",
       "189                                              Líderes\n",
       "190                                      Poder Executivo\n",
       "191                                      Poder Executivo\n",
       "192                                      Poder Executivo\n",
       "193                                       Lucas Vergilio\n",
       "194                                      Poder Executivo\n",
       "195                                     Vanderlei Macris\n",
       "196                                      Rosangela Gomes\n",
       "197                                     André Figueiredo\n",
       "198                                         Rubens Bueno\n",
       "199                Mesa Diretora da Câmara dos Deputados\n",
       "200                                      Esperidião Amin\n",
       "201                                       Mendonça Filho\n",
       "202                                         Bruno Araújo\n",
       "203                                        Rogério Rosso\n",
       "204                                         Renata Abreu\n",
       "205                                      Poder Executivo\n",
       "Name: autor, Length: 206, dtype: object"
      ]
     },
     "execution_count": 7,
     "metadata": {},
     "output_type": "execute_result"
    }
   ],
   "source": [
    "prop['autor']"
   ]
  },
  {
   "cell_type": "code",
   "execution_count": 9,
   "metadata": {},
   "outputs": [
    {
     "data": {
      "text/plain": [
       "Index([u'tipo', u'numero', u'ano', u'nome_proposicao', u'id_proposicao',\n",
       "       u'id_proposicao_principal', u'nome_proposicao_origem',\n",
       "       u'tipo_proposicao', u'tema', u'ementa', u'explicacao_ementa', u'autor',\n",
       "       u'ide_cadastro', u'uf_autor', u'partido_autor', u'data_apresentacao',\n",
       "       u'regime_tramitacao', u'data_ultimo_despacho', u'ultimo_despacho',\n",
       "       u'apreciacao', u'indexacao', u'situacao', u'link_inteiro_teor',\n",
       "       u'apensadas'],\n",
       "      dtype='object')"
      ]
     },
     "execution_count": 9,
     "metadata": {},
     "output_type": "execute_result"
    }
   ],
   "source": [
    "prop.columns"
   ]
  },
  {
   "cell_type": "code",
   "execution_count": 18,
   "metadata": {},
   "outputs": [
    {
     "name": "stdout",
     "output_type": "stream",
     "text": [
      "7    Com base no art. 155 do Regimento Interno, req...\n",
      "Name: ementa, dtype: object\n"
     ]
    }
   ],
   "source": []
  },
  {
   "cell_type": "code",
   "execution_count": null,
   "metadata": {
    "collapsed": true
   },
   "outputs": [],
   "source": []
  }
 ],
 "metadata": {
  "kernelspec": {
   "display_name": "Python 2",
   "language": "python",
   "name": "python2"
  },
  "language_info": {
   "codemirror_mode": {
    "name": "ipython",
    "version": 2
   },
   "file_extension": ".py",
   "mimetype": "text/x-python",
   "name": "python",
   "nbconvert_exporter": "python",
   "pygments_lexer": "ipython2",
   "version": "2.7.12"
  }
 },
 "nbformat": 4,
 "nbformat_minor": 2
}
