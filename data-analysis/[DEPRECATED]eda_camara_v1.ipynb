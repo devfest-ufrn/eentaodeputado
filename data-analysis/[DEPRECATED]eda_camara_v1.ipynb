{
 "cells": [
  {
   "cell_type": "code",
   "execution_count": 42,
   "metadata": {
    "collapsed": true
   },
   "outputs": [],
   "source": [
    "import requests as re\n",
    "import pandas as pd\n",
    "import numpy as np\n",
    "import xmltodict\n",
    "import xml.etree.ElementTree as ET\n",
    "import matplotlib.pyplot as plt\n",
    "import seaborn as sns\n",
    "import sys\n",
    "%matplotlib inline\n"
   ]
  },
  {
   "cell_type": "markdown",
   "metadata": {},
   "source": [
    "## Lista de endpoints disponíveis"
   ]
  },
  {
   "cell_type": "code",
   "execution_count": 8,
   "metadata": {
    "collapsed": true
   },
   "outputs": [],
   "source": [
    "endpoints = {\n",
    "    'obterDeputados': 'http://www.camara.leg.br/SitCamaraWS/deputados.asmx/ObterDeputados', \n",
    "    'listarPresencasParlamentar': 'http://www.camara.leg.br/SitCamaraWS/sessoesreunioes.asmx/ListarPresencasParlamentar', \n",
    "    'listarPresencasDia': 'http://www.camara.leg.br/SitCamaraWS/sessoesreunioes.asmx/ListarPresencasDia',\n",
    "    'obterVotacaoProposicao':'http://www.camara.leg.br/SitCamaraWS/Proposicoes.asmx/ObterVotacaoProposicao'\n",
    "    # Incompleta\n",
    "}"
   ]
  },
  {
   "cell_type": "code",
   "execution_count": 9,
   "metadata": {
    "collapsed": true
   },
   "outputs": [],
   "source": [
    "def fetch_data(url, params=None):\n",
    "    response = re.get(url, params=params)\n",
    "    print('Url: %s\\nStatus: %s' % (response.url, response.status_code))\n",
    "    return xmltodict.parse(response.content)"
   ]
  },
  {
   "cell_type": "markdown",
   "metadata": {},
   "source": [
    "## Obter _dataset_ de deputados e salvar em um csv"
   ]
  },
  {
   "cell_type": "code",
   "execution_count": 10,
   "metadata": {},
   "outputs": [
    {
     "name": "stdout",
     "output_type": "stream",
     "text": [
      "Url: http://www.camara.leg.br/SitCamaraWS/deputados.asmx/ObterDeputados\n",
      "Status: 200\n"
     ]
    }
   ],
   "source": [
    "root = fetch_data(endpoints['obterDeputados'])"
   ]
  },
  {
   "cell_type": "code",
   "execution_count": 11,
   "metadata": {
    "collapsed": true
   },
   "outputs": [],
   "source": [
    "deputados = root['deputados']['deputado']\n",
    "deputados_df = pd.DataFrame.from_dict(deputados, orient='columns')\n"
   ]
  },
  {
   "cell_type": "code",
   "execution_count": 12,
   "metadata": {},
   "outputs": [
    {
     "name": "stdout",
     "output_type": "stream",
     "text": [
      "Quantidade de deputados: 513\n",
      "Quantidade de colunas: 16\n"
     ]
    }
   ],
   "source": [
    "print('Quantidade de deputados: %d\\nQuantidade de colunas: %d' % (deputados_df.shape))"
   ]
  },
  {
   "cell_type": "code",
   "execution_count": 14,
   "metadata": {
    "collapsed": true
   },
   "outputs": [],
   "source": [
    "# Salva dados em Csv\n",
    "deputados_df.to_csv('deputados.csv', encoding='utf-8')"
   ]
  },
  {
   "cell_type": "code",
   "execution_count": 13,
   "metadata": {},
   "outputs": [
    {
     "data": {
      "text/html": [
       "<div>\n",
       "<style>\n",
       "    .dataframe thead tr:only-child th {\n",
       "        text-align: right;\n",
       "    }\n",
       "\n",
       "    .dataframe thead th {\n",
       "        text-align: left;\n",
       "    }\n",
       "\n",
       "    .dataframe tbody tr th {\n",
       "        vertical-align: top;\n",
       "    }\n",
       "</style>\n",
       "<table border=\"1\" class=\"dataframe\">\n",
       "  <thead>\n",
       "    <tr style=\"text-align: right;\">\n",
       "      <th></th>\n",
       "      <th>ideCadastro</th>\n",
       "      <th>codOrcamento</th>\n",
       "      <th>condicao</th>\n",
       "      <th>matricula</th>\n",
       "      <th>idParlamentar</th>\n",
       "      <th>nome</th>\n",
       "      <th>nomeParlamentar</th>\n",
       "      <th>urlFoto</th>\n",
       "      <th>sexo</th>\n",
       "      <th>uf</th>\n",
       "      <th>partido</th>\n",
       "      <th>gabinete</th>\n",
       "      <th>anexo</th>\n",
       "      <th>fone</th>\n",
       "      <th>email</th>\n",
       "      <th>comissoes</th>\n",
       "    </tr>\n",
       "  </thead>\n",
       "  <tbody>\n",
       "    <tr>\n",
       "      <th>0</th>\n",
       "      <td>178980</td>\n",
       "      <td>3283</td>\n",
       "      <td>Titular</td>\n",
       "      <td>361</td>\n",
       "      <td>5830382</td>\n",
       "      <td>ANTONIO GOULART DOS REIS</td>\n",
       "      <td>GOULART</td>\n",
       "      <td>http://www.camara.gov.br/internet/deputado/ban...</td>\n",
       "      <td>masculino</td>\n",
       "      <td>SP</td>\n",
       "      <td>PSD</td>\n",
       "      <td>533</td>\n",
       "      <td>4</td>\n",
       "      <td>3215-5533</td>\n",
       "      <td>dep.goulart@camara.gov.br</td>\n",
       "      <td>{u'titular': None, u'suplente': None}</td>\n",
       "    </tr>\n",
       "    <tr>\n",
       "      <th>1</th>\n",
       "      <td>141335</td>\n",
       "      <td>2152</td>\n",
       "      <td>Titular</td>\n",
       "      <td>19</td>\n",
       "      <td>5830714</td>\n",
       "      <td>JOSÉ ROBERTO OLIVEIRA FARO</td>\n",
       "      <td>BETO FARO</td>\n",
       "      <td>http://www.camara.gov.br/internet/deputado/ban...</td>\n",
       "      <td>masculino</td>\n",
       "      <td>PA</td>\n",
       "      <td>PT</td>\n",
       "      <td>723</td>\n",
       "      <td>4</td>\n",
       "      <td>3215-5723</td>\n",
       "      <td>dep.betofaro@camara.gov.br</td>\n",
       "      <td>{u'titular': None, u'suplente': None}</td>\n",
       "    </tr>\n",
       "    <tr>\n",
       "      <th>2</th>\n",
       "      <td>141531</td>\n",
       "      <td>2488</td>\n",
       "      <td>Titular</td>\n",
       "      <td>268</td>\n",
       "      <td>5830453</td>\n",
       "      <td>RODRIGO BATISTA DE CASTRO</td>\n",
       "      <td>RODRIGO DE CASTRO</td>\n",
       "      <td>http://www.camara.gov.br/internet/deputado/ban...</td>\n",
       "      <td>masculino</td>\n",
       "      <td>MG</td>\n",
       "      <td>PSDB</td>\n",
       "      <td>701</td>\n",
       "      <td>4</td>\n",
       "      <td>3215-5701</td>\n",
       "      <td>dep.rodrigodecastro@camara.gov.br</td>\n",
       "      <td>{u'titular': None, u'suplente': None}</td>\n",
       "    </tr>\n",
       "    <tr>\n",
       "      <th>3</th>\n",
       "      <td>141478</td>\n",
       "      <td>2551</td>\n",
       "      <td>Titular</td>\n",
       "      <td>412</td>\n",
       "      <td>5830785</td>\n",
       "      <td>LAERTE RODRIGUES DE BESSA</td>\n",
       "      <td>LAERTE BESSA</td>\n",
       "      <td>http://www.camara.gov.br/internet/deputado/ban...</td>\n",
       "      <td>masculino</td>\n",
       "      <td>DF</td>\n",
       "      <td>PR</td>\n",
       "      <td>340</td>\n",
       "      <td>4</td>\n",
       "      <td>3215-5340</td>\n",
       "      <td>dep.laertebessa@camara.gov.br</td>\n",
       "      <td>{u'titular': None, u'suplente': None}</td>\n",
       "    </tr>\n",
       "    <tr>\n",
       "      <th>4</th>\n",
       "      <td>178826</td>\n",
       "      <td>3712</td>\n",
       "      <td>Titular</td>\n",
       "      <td>368</td>\n",
       "      <td>5830405</td>\n",
       "      <td>SERGIO OLIMPIO GOMES</td>\n",
       "      <td>MAJOR OLIMPIO</td>\n",
       "      <td>http://www.camara.gov.br/internet/deputado/ban...</td>\n",
       "      <td>masculino</td>\n",
       "      <td>SP</td>\n",
       "      <td>SD</td>\n",
       "      <td>279</td>\n",
       "      <td>3</td>\n",
       "      <td>3215-5279</td>\n",
       "      <td>dep.majorolimpio@camara.gov.br</td>\n",
       "      <td>{u'titular': None, u'suplente': None}</td>\n",
       "    </tr>\n",
       "  </tbody>\n",
       "</table>\n",
       "</div>"
      ],
      "text/plain": [
       "  ideCadastro codOrcamento condicao matricula idParlamentar  \\\n",
       "0      178980         3283  Titular       361       5830382   \n",
       "1      141335         2152  Titular        19       5830714   \n",
       "2      141531         2488  Titular       268       5830453   \n",
       "3      141478         2551  Titular       412       5830785   \n",
       "4      178826         3712  Titular       368       5830405   \n",
       "\n",
       "                         nome    nomeParlamentar  \\\n",
       "0    ANTONIO GOULART DOS REIS            GOULART   \n",
       "1  JOSÉ ROBERTO OLIVEIRA FARO          BETO FARO   \n",
       "2   RODRIGO BATISTA DE CASTRO  RODRIGO DE CASTRO   \n",
       "3   LAERTE RODRIGUES DE BESSA       LAERTE BESSA   \n",
       "4        SERGIO OLIMPIO GOMES      MAJOR OLIMPIO   \n",
       "\n",
       "                                             urlFoto       sexo  uf partido  \\\n",
       "0  http://www.camara.gov.br/internet/deputado/ban...  masculino  SP     PSD   \n",
       "1  http://www.camara.gov.br/internet/deputado/ban...  masculino  PA      PT   \n",
       "2  http://www.camara.gov.br/internet/deputado/ban...  masculino  MG    PSDB   \n",
       "3  http://www.camara.gov.br/internet/deputado/ban...  masculino  DF      PR   \n",
       "4  http://www.camara.gov.br/internet/deputado/ban...  masculino  SP      SD   \n",
       "\n",
       "  gabinete anexo       fone                              email  \\\n",
       "0      533     4  3215-5533          dep.goulart@camara.gov.br   \n",
       "1      723     4  3215-5723         dep.betofaro@camara.gov.br   \n",
       "2      701     4  3215-5701  dep.rodrigodecastro@camara.gov.br   \n",
       "3      340     4  3215-5340      dep.laertebessa@camara.gov.br   \n",
       "4      279     3  3215-5279     dep.majorolimpio@camara.gov.br   \n",
       "\n",
       "                               comissoes  \n",
       "0  {u'titular': None, u'suplente': None}  \n",
       "1  {u'titular': None, u'suplente': None}  \n",
       "2  {u'titular': None, u'suplente': None}  \n",
       "3  {u'titular': None, u'suplente': None}  \n",
       "4  {u'titular': None, u'suplente': None}  "
      ]
     },
     "execution_count": 13,
     "metadata": {},
     "output_type": "execute_result"
    }
   ],
   "source": [
    "\n",
    "deputados_df.head()"
   ]
  }
 ],
 "metadata": {
  "kernelspec": {
   "display_name": "Python 2",
   "language": "python",
   "name": "python2"
  },
  "language_info": {
   "codemirror_mode": {
    "name": "ipython",
    "version": 2
   },
   "file_extension": ".py",
   "mimetype": "text/x-python",
   "name": "python",
   "nbconvert_exporter": "python",
   "pygments_lexer": "ipython2",
   "version": "2.7.12"
  }
 },
 "nbformat": 4,
 "nbformat_minor": 2
}
