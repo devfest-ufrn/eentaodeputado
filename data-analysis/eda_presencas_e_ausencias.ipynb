{
 "cells": [
  {
   "cell_type": "markdown",
   "metadata": {},
   "source": [
    "## Minerando presenças dos deputados\n",
    "\n",
    "Foi-se utilizado uma base previamente limpa, que pode ser encontrada neste link: [Dados da câmara federal _by_ Nazareno](https://github.com/nazareno/dados-da-camara-federal)\n",
    "\n",
    "> Obs.: Os dados estão atualizados até o mês de **agosto** de 2017, e a possiblidade de haver uma mineração direto da fonte não foi descartada"
   ]
  },
  {
   "cell_type": "code",
   "execution_count": 56,
   "metadata": {
    "collapsed": true
   },
   "outputs": [],
   "source": [
    "import requests as re\n",
    "import pandas as pd\n",
    "import numpy as np\n",
    "import xmltodict\n",
    "import xml.etree.ElementTree as ET\n",
    "import matplotlib.pyplot as plt\n",
    "import seaborn as sns\n",
    "import sys\n",
    "%matplotlib inline"
   ]
  },
  {
   "cell_type": "code",
   "execution_count": 57,
   "metadata": {},
   "outputs": [
    {
     "data": {
      "text/plain": [
       "Index([u'tipo', u'num_pro', u'ano', u'id_votacao', u'data', u'hora', u'sessao',\n",
       "       u'nome', u'id_dep', u'partido', u'uf', u'voto', u'orientacao_partido',\n",
       "       u'orientacao_gov'],\n",
       "      dtype='object')"
      ]
     },
     "execution_count": 57,
     "metadata": {},
     "output_type": "execute_result"
    }
   ],
   "source": [
    "votacoes = pd.read_csv('../data/votacoes.csv')\n",
    "votacoes.columns"
   ]
  },
  {
   "cell_type": "code",
   "execution_count": 58,
   "metadata": {},
   "outputs": [
    {
     "data": {
      "text/plain": [
       "(243916, 14)"
      ]
     },
     "execution_count": 58,
     "metadata": {},
     "output_type": "execute_result"
    }
   ],
   "source": [
    "votacoes.shape"
   ]
  },
  {
   "cell_type": "code",
   "execution_count": 59,
   "metadata": {},
   "outputs": [
    {
     "data": {
      "text/html": [
       "<div>\n",
       "<style>\n",
       "    .dataframe thead tr:only-child th {\n",
       "        text-align: right;\n",
       "    }\n",
       "\n",
       "    .dataframe thead th {\n",
       "        text-align: left;\n",
       "    }\n",
       "\n",
       "    .dataframe tbody tr th {\n",
       "        vertical-align: top;\n",
       "    }\n",
       "</style>\n",
       "<table border=\"1\" class=\"dataframe\">\n",
       "  <thead>\n",
       "    <tr style=\"text-align: right;\">\n",
       "      <th></th>\n",
       "      <th>tipo</th>\n",
       "      <th>num_pro</th>\n",
       "      <th>ano</th>\n",
       "      <th>id_votacao</th>\n",
       "      <th>data</th>\n",
       "      <th>hora</th>\n",
       "      <th>sessao</th>\n",
       "      <th>nome</th>\n",
       "      <th>id_dep</th>\n",
       "      <th>partido</th>\n",
       "      <th>uf</th>\n",
       "      <th>voto</th>\n",
       "      <th>orientacao_partido</th>\n",
       "      <th>orientacao_gov</th>\n",
       "    </tr>\n",
       "  </thead>\n",
       "  <tbody>\n",
       "    <tr>\n",
       "      <th>0</th>\n",
       "      <td>PEC</td>\n",
       "      <td>1</td>\n",
       "      <td>2015</td>\n",
       "      <td>1</td>\n",
       "      <td>22/3/2016</td>\n",
       "      <td>76200</td>\n",
       "      <td>5820</td>\n",
       "      <td>Ariosto Holanda</td>\n",
       "      <td>74103.0</td>\n",
       "      <td>pdt</td>\n",
       "      <td>CE</td>\n",
       "      <td>sim</td>\n",
       "      <td>sim</td>\n",
       "      <td>sim</td>\n",
       "    </tr>\n",
       "    <tr>\n",
       "      <th>1</th>\n",
       "      <td>PEC</td>\n",
       "      <td>1</td>\n",
       "      <td>2015</td>\n",
       "      <td>1</td>\n",
       "      <td>22/3/2016</td>\n",
       "      <td>76200</td>\n",
       "      <td>5820</td>\n",
       "      <td>Flavio Nogueira</td>\n",
       "      <td>191923.0</td>\n",
       "      <td>pdt</td>\n",
       "      <td>PI</td>\n",
       "      <td>sim</td>\n",
       "      <td>sim</td>\n",
       "      <td>sim</td>\n",
       "    </tr>\n",
       "    <tr>\n",
       "      <th>2</th>\n",
       "      <td>PEC</td>\n",
       "      <td>1</td>\n",
       "      <td>2015</td>\n",
       "      <td>1</td>\n",
       "      <td>22/3/2016</td>\n",
       "      <td>76200</td>\n",
       "      <td>5820</td>\n",
       "      <td>Zé Augusto Nalin</td>\n",
       "      <td>191945.0</td>\n",
       "      <td>pmdb</td>\n",
       "      <td>RJ</td>\n",
       "      <td>sim</td>\n",
       "      <td>NaN</td>\n",
       "      <td>sim</td>\n",
       "    </tr>\n",
       "    <tr>\n",
       "      <th>3</th>\n",
       "      <td>PEC</td>\n",
       "      <td>1</td>\n",
       "      <td>2015</td>\n",
       "      <td>1</td>\n",
       "      <td>22/3/2016</td>\n",
       "      <td>76200</td>\n",
       "      <td>5820</td>\n",
       "      <td>Paulo Henrique Lustosa</td>\n",
       "      <td>141517.0</td>\n",
       "      <td>pp</td>\n",
       "      <td>CE</td>\n",
       "      <td>sim</td>\n",
       "      <td>sim</td>\n",
       "      <td>sim</td>\n",
       "    </tr>\n",
       "    <tr>\n",
       "      <th>4</th>\n",
       "      <td>PEC</td>\n",
       "      <td>1</td>\n",
       "      <td>2015</td>\n",
       "      <td>1</td>\n",
       "      <td>22/3/2016</td>\n",
       "      <td>76200</td>\n",
       "      <td>5820</td>\n",
       "      <td>Wilson Beserra</td>\n",
       "      <td>193066.0</td>\n",
       "      <td>pmdb</td>\n",
       "      <td>RJ</td>\n",
       "      <td>sim</td>\n",
       "      <td>NaN</td>\n",
       "      <td>sim</td>\n",
       "    </tr>\n",
       "  </tbody>\n",
       "</table>\n",
       "</div>"
      ],
      "text/plain": [
       "  tipo  num_pro   ano  id_votacao       data   hora  sessao  \\\n",
       "0  PEC        1  2015           1  22/3/2016  76200    5820   \n",
       "1  PEC        1  2015           1  22/3/2016  76200    5820   \n",
       "2  PEC        1  2015           1  22/3/2016  76200    5820   \n",
       "3  PEC        1  2015           1  22/3/2016  76200    5820   \n",
       "4  PEC        1  2015           1  22/3/2016  76200    5820   \n",
       "\n",
       "                     nome    id_dep partido  uf voto orientacao_partido  \\\n",
       "0         Ariosto Holanda   74103.0     pdt  CE  sim                sim   \n",
       "1         Flavio Nogueira  191923.0     pdt  PI  sim                sim   \n",
       "2        Zé Augusto Nalin  191945.0    pmdb  RJ  sim                NaN   \n",
       "3  Paulo Henrique Lustosa  141517.0      pp  CE  sim                sim   \n",
       "4          Wilson Beserra  193066.0    pmdb  RJ  sim                NaN   \n",
       "\n",
       "  orientacao_gov  \n",
       "0            sim  \n",
       "1            sim  \n",
       "2            sim  \n",
       "3            sim  \n",
       "4            sim  "
      ]
     },
     "execution_count": 59,
     "metadata": {},
     "output_type": "execute_result"
    }
   ],
   "source": [
    "votacoes.head()"
   ]
  },
  {
   "cell_type": "code",
   "execution_count": 60,
   "metadata": {
    "collapsed": true
   },
   "outputs": [],
   "source": [
    "meses = ['jan', 'fev', 'mar', 'abr', 'mai', 'jun', 'jul', 'ago', 'set', 'out', 'nov', 'dez']\n",
    "votacoes['mes'] = [meses[int(x[1])-1] for x in votacoes['data'].str.split('/')]"
   ]
  },
  {
   "cell_type": "code",
   "execution_count": 61,
   "metadata": {},
   "outputs": [
    {
     "data": {
      "text/html": [
       "<div>\n",
       "<style>\n",
       "    .dataframe thead tr:only-child th {\n",
       "        text-align: right;\n",
       "    }\n",
       "\n",
       "    .dataframe thead th {\n",
       "        text-align: left;\n",
       "    }\n",
       "\n",
       "    .dataframe tbody tr th {\n",
       "        vertical-align: top;\n",
       "    }\n",
       "</style>\n",
       "<table border=\"1\" class=\"dataframe\">\n",
       "  <thead>\n",
       "    <tr style=\"text-align: right;\">\n",
       "      <th></th>\n",
       "      <th>tipo</th>\n",
       "      <th>num_pro</th>\n",
       "      <th>ano</th>\n",
       "      <th>id_votacao</th>\n",
       "      <th>data</th>\n",
       "      <th>hora</th>\n",
       "      <th>sessao</th>\n",
       "      <th>nome</th>\n",
       "      <th>id_dep</th>\n",
       "      <th>partido</th>\n",
       "      <th>uf</th>\n",
       "      <th>voto</th>\n",
       "      <th>orientacao_partido</th>\n",
       "      <th>orientacao_gov</th>\n",
       "      <th>mes</th>\n",
       "    </tr>\n",
       "  </thead>\n",
       "  <tbody>\n",
       "    <tr>\n",
       "      <th>67363</th>\n",
       "      <td>PEC</td>\n",
       "      <td>304</td>\n",
       "      <td>2017</td>\n",
       "      <td>1</td>\n",
       "      <td>10/5/2017</td>\n",
       "      <td>76860</td>\n",
       "      <td>16201</td>\n",
       "      <td>Luiza Erundina</td>\n",
       "      <td>74784.0</td>\n",
       "      <td>psol</td>\n",
       "      <td>SP</td>\n",
       "      <td>não</td>\n",
       "      <td>não</td>\n",
       "      <td>sim</td>\n",
       "      <td>mai</td>\n",
       "    </tr>\n",
       "    <tr>\n",
       "      <th>67364</th>\n",
       "      <td>PEC</td>\n",
       "      <td>304</td>\n",
       "      <td>2017</td>\n",
       "      <td>1</td>\n",
       "      <td>10/5/2017</td>\n",
       "      <td>76860</td>\n",
       "      <td>16201</td>\n",
       "      <td>Roberto Alves</td>\n",
       "      <td>152610.0</td>\n",
       "      <td>prb</td>\n",
       "      <td>SP</td>\n",
       "      <td>sim</td>\n",
       "      <td>sim</td>\n",
       "      <td>sim</td>\n",
       "      <td>mai</td>\n",
       "    </tr>\n",
       "    <tr>\n",
       "      <th>67365</th>\n",
       "      <td>PEC</td>\n",
       "      <td>304</td>\n",
       "      <td>2017</td>\n",
       "      <td>1</td>\n",
       "      <td>10/5/2017</td>\n",
       "      <td>76860</td>\n",
       "      <td>16201</td>\n",
       "      <td>Lázaro Botelho</td>\n",
       "      <td>141480.0</td>\n",
       "      <td>pp</td>\n",
       "      <td>TO</td>\n",
       "      <td>sim</td>\n",
       "      <td>sim</td>\n",
       "      <td>sim</td>\n",
       "      <td>mai</td>\n",
       "    </tr>\n",
       "    <tr>\n",
       "      <th>67366</th>\n",
       "      <td>PEC</td>\n",
       "      <td>304</td>\n",
       "      <td>2017</td>\n",
       "      <td>1</td>\n",
       "      <td>10/5/2017</td>\n",
       "      <td>76860</td>\n",
       "      <td>16201</td>\n",
       "      <td>Sérgio Brito</td>\n",
       "      <td>73808.0</td>\n",
       "      <td>psd</td>\n",
       "      <td>BA</td>\n",
       "      <td>sim</td>\n",
       "      <td>sim</td>\n",
       "      <td>sim</td>\n",
       "      <td>mai</td>\n",
       "    </tr>\n",
       "    <tr>\n",
       "      <th>67367</th>\n",
       "      <td>PEC</td>\n",
       "      <td>304</td>\n",
       "      <td>2017</td>\n",
       "      <td>1</td>\n",
       "      <td>10/5/2017</td>\n",
       "      <td>76860</td>\n",
       "      <td>16201</td>\n",
       "      <td>Erivelton Santana</td>\n",
       "      <td>99654.0</td>\n",
       "      <td>pen</td>\n",
       "      <td>BA</td>\n",
       "      <td>não</td>\n",
       "      <td>NaN</td>\n",
       "      <td>sim</td>\n",
       "      <td>mai</td>\n",
       "    </tr>\n",
       "  </tbody>\n",
       "</table>\n",
       "</div>"
      ],
      "text/plain": [
       "      tipo  num_pro   ano  id_votacao       data   hora  sessao  \\\n",
       "67363  PEC      304  2017           1  10/5/2017  76860   16201   \n",
       "67364  PEC      304  2017           1  10/5/2017  76860   16201   \n",
       "67365  PEC      304  2017           1  10/5/2017  76860   16201   \n",
       "67366  PEC      304  2017           1  10/5/2017  76860   16201   \n",
       "67367  PEC      304  2017           1  10/5/2017  76860   16201   \n",
       "\n",
       "                    nome    id_dep partido  uf voto orientacao_partido  \\\n",
       "67363     Luiza Erundina   74784.0    psol  SP  não                não   \n",
       "67364      Roberto Alves  152610.0     prb  SP  sim                sim   \n",
       "67365     Lázaro Botelho  141480.0      pp  TO  sim                sim   \n",
       "67366       Sérgio Brito   73808.0     psd  BA  sim                sim   \n",
       "67367  Erivelton Santana   99654.0     pen  BA  não                NaN   \n",
       "\n",
       "      orientacao_gov  mes  \n",
       "67363            sim  mai  \n",
       "67364            sim  mai  \n",
       "67365            sim  mai  \n",
       "67366            sim  mai  \n",
       "67367            sim  mai  "
      ]
     },
     "execution_count": 61,
     "metadata": {},
     "output_type": "execute_result"
    }
   ],
   "source": [
    "votacoes_2017 = votacoes[votacoes['ano'] == 2017]\n",
    "votacoes_2017.head()"
   ]
  },
  {
   "cell_type": "markdown",
   "metadata": {},
   "source": [
    "- ### Ordenando por presença em sessões no plenário"
   ]
  },
  {
   "cell_type": "markdown",
   "metadata": {},
   "source": [
    "   #### Deputados com o menor número de presenças"
   ]
  },
  {
   "cell_type": "code",
   "execution_count": 62,
   "metadata": {},
   "outputs": [
    {
     "name": "stdout",
     "output_type": "stream",
     "text": [
      "['n\\xc3\\xa3o' 'sim' '-' 'absten\\xc3\\xa7\\xc3\\xa3o' 'art. 17'\n",
      " 'obstru\\xc3\\xa7\\xc3\\xa3o']\n"
     ]
    }
   ],
   "source": [
    "print(votacoes_2017['voto'].unique())"
   ]
  },
  {
   "cell_type": "code",
   "execution_count": 63,
   "metadata": {},
   "outputs": [
    {
     "data": {
      "text/plain": [
       "nome                  partido     id_dep  \n",
       "Pr. Luciano Braga     pmb         193982.0     1\n",
       "Dagoberto             pdt         141411.0     1\n",
       "Lourival Gomes        ptn         196358.0     1\n",
       "Rogério Silva         pmdb        198963.0     1\n",
       "Edinho Bez            pmdb        73793.0      3\n",
       "Alexandre Baldy       pode        178875.0     3\n",
       "Marcos Medrado        solidaried  74634.0      5\n",
       "                      pode        74634.0      6\n",
       "Mário Heringer        pdt         74158.0      6\n",
       "Carlos Zarattini      pt          141398.0     7\n",
       "Valtenir Pereira      psb         141552.0     7\n",
       "Odorico Monteiro      psb         178868.0     8\n",
       "Antônio Jácome        pode        178950.0     8\n",
       "Renata Abreu          pode        178989.0     9\n",
       "Jozi  Araújo          pode        178851.0     9\n",
       "Aluisio Mendes        pode        178881.0     9\n",
       "Vicente Candido       pt          160622.0     9\n",
       "Vinicius Gurgel       pr          160591.0     9\n",
       "Silas Freire          pode        187008.0     9\n",
       "Ezequiel Teixeira     pode        178941.0     9\n",
       "Ademir Camilo         pode        133374.0    10\n",
       "Ricardo Teobaldo      pode        178920.0    10\n",
       "Franklin              pp          186775.0    11\n",
       "Dr. Sinval Malheiros  pode        178830.0    12\n",
       "Tia Eron              prb         178862.0    12\n",
       "Osmar Serraglio       pmdb        73463.0     12\n",
       "Jozi  Araújo          ptn         178851.0    13\n",
       "Aníbal Gomes          pmdb        74212.0     14\n",
       "Roberto Freire        pps         73805.0     14\n",
       "Ariosto Holanda       pdt         74103.0     14\n",
       "Name: voto, dtype: int64"
      ]
     },
     "execution_count": 63,
     "metadata": {},
     "output_type": "execute_result"
    }
   ],
   "source": [
    "presencas = votacoes_2017[(votacoes_2017['voto'] <> '-') & (votacoes_2017['voto'] <> 'obtrução')].groupby([votacoes_2017['nome'], votacoes_2017['partido'], votacoes_2017['id_dep']])['voto'].count()\n",
    "presencas.sort_values().head(30)"
   ]
  },
  {
   "cell_type": "markdown",
   "metadata": {},
   "source": [
    "#### Deputados com maior número de presenças"
   ]
  },
  {
   "cell_type": "code",
   "execution_count": 64,
   "metadata": {},
   "outputs": [
    {
     "data": {
      "text/plain": [
       "nome                      partido     id_dep  \n",
       "Tenente Lúcio             psb         178898.0    48\n",
       "Flavinho                  psb         178978.0    48\n",
       "Tiririca                  pr          160976.0    48\n",
       "Ivan Valente              psol        73531.0     48\n",
       "Carlos Manato             solidaried  74163.0     48\n",
       "Luiz Couto                pt          74041.0     47\n",
       "João Daniel               pt          178970.0    47\n",
       "Miro Teixeira             rede        74862.0     47\n",
       "Glauber Braga             psol        152605.0    47\n",
       "Victor Mendes             psd         178888.0    47\n",
       "Rogério Peninha Mendonça  pmdb        160651.0    47\n",
       "Ronaldo Benedet           pmdb        160515.0    47\n",
       "Afonso Motta              pdt         178835.0    47\n",
       "Delegado Edson Moreira    pr          178893.0    47\n",
       "Walney Rocha              pen         160631.0    47\n",
       "Valmir Assunção           pt          160610.0    46\n",
       "Izaque Silva              psdb        196378.0    46\n",
       "Jarbas Vasconcelos        pmdb        131943.0    46\n",
       "Chico Lopes               pcdob       141440.0    46\n",
       "Marcio Alvino             pr          178983.0    46\n",
       "Jose Stédile              psb         160607.0    46\n",
       "Átila Lira                psb         74459.0     46\n",
       "Expedito Netto            psd         178953.0    46\n",
       "Laudivio Carvalho         solidaried  178894.0    46\n",
       "Jutahy Junior             psdb        74570.0     46\n",
       "Lobbe Neto                psdb        74277.0     46\n",
       "Miguel Lombardi           pr          178985.0    45\n",
       "Leopoldo Meyer            psb         160663.0    45\n",
       "Eduardo Bolsonaro         psc         92346.0     45\n",
       "Edmilson Rodrigues        psol        134812.0    45\n",
       "Name: voto, dtype: int64"
      ]
     },
     "execution_count": 64,
     "metadata": {},
     "output_type": "execute_result"
    }
   ],
   "source": [
    "presencas.sort_values(ascending=False).head(30)"
   ]
  },
  {
   "cell_type": "markdown",
   "metadata": {},
   "source": [
    "#### Deputados ausentes que não justificaram"
   ]
  },
  {
   "cell_type": "markdown",
   "metadata": {},
   "source": [
    " * #### Mais ausentes"
   ]
  },
  {
   "cell_type": "code",
   "execution_count": 65,
   "metadata": {
    "collapsed": true
   },
   "outputs": [],
   "source": [
    "ausencias = votacoes_2017[(votacoes_2017['voto'] == '-')].groupby([votacoes_2017['nome'], votacoes_2017['partido'], votacoes_2017['id_dep']])['voto'].count()"
   ]
  },
  {
   "cell_type": "code",
   "execution_count": 66,
   "metadata": {},
   "outputs": [
    {
     "data": {
      "text/plain": [
       "nome                 partido     id_dep  \n",
       "José Otávio Germano  pp          74395.0     45\n",
       "Giovani Cherini      pr          160673.0    45\n",
       "Carlos Zarattini     pt          141398.0    38\n",
       "Vinicius Gurgel      pr          160591.0    36\n",
       "Vicente Candido      pt          160622.0    36\n",
       "Aníbal Gomes         pmdb        74212.0     34\n",
       "Guilherme Mussi      pp          160667.0    33\n",
       "Luizianne Lins       pt          178866.0    33\n",
       "Giacobo              pr          74383.0     32\n",
       "Jéssica Sales        pmdb        178839.0    32\n",
       "Marco Maia           pt          133373.0    31\n",
       "Roberto Góes         pdt         178995.0    31\n",
       "João Carlos Bacelar  pr          141458.0    31\n",
       "Hermes Parcianello   pmdb        73772.0     31\n",
       "Ariosto Holanda      pdt         74103.0     31\n",
       "Sérgio Reis          prb         178991.0    30\n",
       "César Halum          prb         160576.0    30\n",
       "Bruna Furlan         psdb        160589.0    30\n",
       "Diego Garcia         phs         178929.0    29\n",
       "Wladimir Costa       solidaried  73930.0     29\n",
       "Eli Corrêa Filho     dem         160532.0    29\n",
       "Evandro Gussi        pv          178828.0    28\n",
       "Marcos Soares        dem         178943.0    28\n",
       "Zeca Dirceu          pt          160592.0    28\n",
       "Silvio Costa         ptdob       4930.0      28\n",
       "Jovair Arantes       ptb         73666.0     27\n",
       "Brunny               pr          178999.0    27\n",
       "Andre Moura          psc         160543.0    27\n",
       "Genecias Noronha     solidaried  160669.0    26\n",
       "Gonzaga Patriota     psb         74419.0     26\n",
       "Name: voto, dtype: int64"
      ]
     },
     "execution_count": 66,
     "metadata": {},
     "output_type": "execute_result"
    }
   ],
   "source": [
    "ausencias.sort_values(ascending=False).head(30)"
   ]
  },
  {
   "cell_type": "markdown",
   "metadata": {},
   "source": [
    " * #### Menos ausentes"
   ]
  },
  {
   "cell_type": "code",
   "execution_count": 67,
   "metadata": {},
   "outputs": [
    {
     "data": {
      "text/plain": [
       "nome                      partido     id_dep  \n",
       "Mário Heringer            pdt         74158.0     1\n",
       "Laudivio Carvalho         solidaried  178894.0    1\n",
       "Miro Teixeira             rede        74862.0     1\n",
       "Jarbas Vasconcelos        pmdb        131943.0    1\n",
       "Rogério Peninha Mendonça  pmdb        160651.0    1\n",
       "Luciano Bivar             psl         74478.0     1\n",
       "Luiz Carlos Ramos         pode        178802.0    1\n",
       "Glauber Braga             psol        152605.0    1\n",
       "Pedro Chaves              pmdb        74812.0     1\n",
       "Francisco Chapadinha      ptn         178907.0    1\n",
       "Josias Gomes              pt          74141.0     1\n",
       "Francisco Chapadinha      pode        178907.0    1\n",
       "Chico D Angelo            pt          141439.0    1\n",
       "Valtenir Pereira          psb         141552.0    1\n",
       "Victor Mendes             psd         178888.0    1\n",
       "Walney Rocha              pen         160631.0    1\n",
       "Fernando Torres           psd         160676.0    1\n",
       "Luiz Couto                pt          74041.0     1\n",
       "Marcos Medrado            pode        74634.0     1\n",
       "                          solidaried  74634.0     1\n",
       "Afonso Motta              pdt         178835.0    1\n",
       "João Daniel               pt          178970.0    1\n",
       "Luiz Carlos Ramos         ptn         178802.0    2\n",
       "Bacelar                   ptn         69871.0     2\n",
       "Lobbe Neto                psdb        74277.0     2\n",
       "Marcio Alvino             pr          178983.0    2\n",
       "Jutahy Junior             psdb        74570.0     2\n",
       "Átila Lira                psb         74459.0     2\n",
       "Geovania de Sá            psdb        178966.0    2\n",
       "Eduardo Bolsonaro         psc         92346.0     2\n",
       "Expedito Netto            psd         178953.0    2\n",
       "Chico Lopes               pcdob       141440.0    2\n",
       "Valmir Assunção           pt          160610.0    2\n",
       "Roberto Alves             prb         152610.0    2\n",
       "Izaque Silva              psdb        196378.0    2\n",
       "Jose Stédile              psb         160607.0    2\n",
       "Roberto Freire            pps         73805.0     2\n",
       "Rubens Bueno              pps         73466.0     2\n",
       "Benito Gama               ptb         74535.0     3\n",
       "Chico Alencar             psol        74171.0     3\n",
       "Name: voto, dtype: int64"
      ]
     },
     "execution_count": 67,
     "metadata": {},
     "output_type": "execute_result"
    }
   ],
   "source": [
    "ausencias.sort_values().head(40)"
   ]
  },
  {
   "cell_type": "markdown",
   "metadata": {},
   "source": [
    "- ### Visualização de dados"
   ]
  },
  {
   "cell_type": "markdown",
   "metadata": {},
   "source": [
    "Algo que me supreendeu aqui: Cerca de pouco mais de 200 deputados foram à mais de 30 sessões. _No mínimo interessante!_"
   ]
  },
  {
   "cell_type": "code",
   "execution_count": 68,
   "metadata": {},
   "outputs": [
    {
     "data": {
      "text/plain": [
       "<matplotlib.axes._subplots.AxesSubplot at 0x7f18c4d8df10>"
      ]
     },
     "execution_count": 68,
     "metadata": {},
     "output_type": "execute_result"
    },
    {
     "data": {
      "image/png": "[encoded data removed]",
      "text/plain": [
       "<matplotlib.figure.Figure at 0x7f18c488add0>"
      ]
     },
     "metadata": {},
     "output_type": "display_data"
    }
   ],
   "source": [
    "presencas.plot.hist(bins=5)"
   ]
  },
  {
   "cell_type": "markdown",
   "metadata": {},
   "source": [
    "E em sua grande maioria, possuem menos de 10 faltas não justificadas."
   ]
  },
  {
   "cell_type": "code",
   "execution_count": 69,
   "metadata": {},
   "outputs": [
    {
     "data": {
      "text/plain": [
       "<matplotlib.axes._subplots.AxesSubplot at 0x7f18c4905510>"
      ]
     },
     "execution_count": 69,
     "metadata": {},
     "output_type": "execute_result"
    },
    {
     "data": {
      "image/png": "[encoded data removed]",
      "text/plain": [
       "<matplotlib.figure.Figure at 0x7f18c48faf90>"
      ]
     },
     "metadata": {},
     "output_type": "display_data"
    }
   ],
   "source": [
    "ausencias.plot.hist(bins=5)"
   ]
  },
  {
   "cell_type": "code",
   "execution_count": 70,
   "metadata": {
    "collapsed": true
   },
   "outputs": [],
   "source": [
    "presencas_df = presencas.to_frame('qtd')\n",
    "ausencias_df = ausencias.to_frame('qtd')"
   ]
  },
  {
   "cell_type": "code",
   "execution_count": 71,
   "metadata": {},
   "outputs": [
    {
     "data": {
      "text/html": [
       "<div>\n",
       "<style>\n",
       "    .dataframe thead tr:only-child th {\n",
       "        text-align: right;\n",
       "    }\n",
       "\n",
       "    .dataframe thead th {\n",
       "        text-align: left;\n",
       "    }\n",
       "\n",
       "    .dataframe tbody tr th {\n",
       "        vertical-align: top;\n",
       "    }\n",
       "</style>\n",
       "<table border=\"1\" class=\"dataframe\">\n",
       "  <thead>\n",
       "    <tr style=\"text-align: right;\">\n",
       "      <th></th>\n",
       "      <th></th>\n",
       "      <th></th>\n",
       "      <th>qtd</th>\n",
       "    </tr>\n",
       "    <tr>\n",
       "      <th>nome</th>\n",
       "      <th>partido</th>\n",
       "      <th>id_dep</th>\n",
       "      <th></th>\n",
       "    </tr>\n",
       "  </thead>\n",
       "  <tbody>\n",
       "    <tr>\n",
       "      <th>Abel Mesquita Jr.</th>\n",
       "      <th>dem</th>\n",
       "      <th>178957.0</th>\n",
       "      <td>35</td>\n",
       "    </tr>\n",
       "    <tr>\n",
       "      <th>Adail Carneiro</th>\n",
       "      <th>pp</th>\n",
       "      <th>178864.0</th>\n",
       "      <td>28</td>\n",
       "    </tr>\n",
       "    <tr>\n",
       "      <th>Adalberto Cavalcanti</th>\n",
       "      <th>ptb</th>\n",
       "      <th>178914.0</th>\n",
       "      <td>37</td>\n",
       "    </tr>\n",
       "    <tr>\n",
       "      <th>Adelmo Carneiro Leão</th>\n",
       "      <th>pt</th>\n",
       "      <th>178890.0</th>\n",
       "      <td>42</td>\n",
       "    </tr>\n",
       "    <tr>\n",
       "      <th>Adelson Barreto</th>\n",
       "      <th>pr</th>\n",
       "      <th>178968.0</th>\n",
       "      <td>39</td>\n",
       "    </tr>\n",
       "  </tbody>\n",
       "</table>\n",
       "</div>"
      ],
      "text/plain": [
       "                                       qtd\n",
       "nome                 partido id_dep       \n",
       "Abel Mesquita Jr.    dem     178957.0   35\n",
       "Adail Carneiro       pp      178864.0   28\n",
       "Adalberto Cavalcanti ptb     178914.0   37\n",
       "Adelmo Carneiro Leão pt      178890.0   42\n",
       "Adelson Barreto      pr      178968.0   39"
      ]
     },
     "execution_count": 71,
     "metadata": {},
     "output_type": "execute_result"
    }
   ],
   "source": [
    "presencas_df.head()"
   ]
  },
  {
   "cell_type": "code",
   "execution_count": 72,
   "metadata": {},
   "outputs": [
    {
     "data": {
      "text/html": [
       "<div>\n",
       "<style>\n",
       "    .dataframe thead tr:only-child th {\n",
       "        text-align: right;\n",
       "    }\n",
       "\n",
       "    .dataframe thead th {\n",
       "        text-align: left;\n",
       "    }\n",
       "\n",
       "    .dataframe tbody tr th {\n",
       "        vertical-align: top;\n",
       "    }\n",
       "</style>\n",
       "<table border=\"1\" class=\"dataframe\">\n",
       "  <thead>\n",
       "    <tr style=\"text-align: right;\">\n",
       "      <th></th>\n",
       "      <th></th>\n",
       "      <th></th>\n",
       "      <th>qtd</th>\n",
       "    </tr>\n",
       "    <tr>\n",
       "      <th>nome</th>\n",
       "      <th>partido</th>\n",
       "      <th>id_dep</th>\n",
       "      <th></th>\n",
       "    </tr>\n",
       "  </thead>\n",
       "  <tbody>\n",
       "    <tr>\n",
       "      <th>Abel Mesquita Jr.</th>\n",
       "      <th>dem</th>\n",
       "      <th>178957.0</th>\n",
       "      <td>11</td>\n",
       "    </tr>\n",
       "    <tr>\n",
       "      <th>Adail Carneiro</th>\n",
       "      <th>pp</th>\n",
       "      <th>178864.0</th>\n",
       "      <td>20</td>\n",
       "    </tr>\n",
       "    <tr>\n",
       "      <th>Adalberto Cavalcanti</th>\n",
       "      <th>ptb</th>\n",
       "      <th>178914.0</th>\n",
       "      <td>10</td>\n",
       "    </tr>\n",
       "    <tr>\n",
       "      <th>Adelmo Carneiro Leão</th>\n",
       "      <th>pt</th>\n",
       "      <th>178890.0</th>\n",
       "      <td>6</td>\n",
       "    </tr>\n",
       "    <tr>\n",
       "      <th>Adelson Barreto</th>\n",
       "      <th>pr</th>\n",
       "      <th>178968.0</th>\n",
       "      <td>9</td>\n",
       "    </tr>\n",
       "  </tbody>\n",
       "</table>\n",
       "</div>"
      ],
      "text/plain": [
       "                                       qtd\n",
       "nome                 partido id_dep       \n",
       "Abel Mesquita Jr.    dem     178957.0   11\n",
       "Adail Carneiro       pp      178864.0   20\n",
       "Adalberto Cavalcanti ptb     178914.0   10\n",
       "Adelmo Carneiro Leão pt      178890.0    6\n",
       "Adelson Barreto      pr      178968.0    9"
      ]
     },
     "execution_count": 72,
     "metadata": {},
     "output_type": "execute_result"
    }
   ],
   "source": [
    "ausencias_df.head()"
   ]
  },
  {
   "cell_type": "code",
   "execution_count": 73,
   "metadata": {
    "collapsed": true
   },
   "outputs": [],
   "source": [
    "ausencias_df.to_csv('../data/qtdausencia_bydeputado.csv', sep=',')\n",
    "presencas_df.to_csv('../data/qtdpresenca_bydeputado.csv', sep=',')"
   ]
  },
  {
   "cell_type": "code",
   "execution_count": null,
   "metadata": {
    "collapsed": true
   },
   "outputs": [],
   "source": []
  }
 ],
 "metadata": {
  "kernelspec": {
   "display_name": "Python 2",
   "language": "python",
   "name": "python2"
  },
  "language_info": {
   "codemirror_mode": {
    "name": "ipython",
    "version": 2
   },
   "file_extension": ".py",
   "mimetype": "text/x-python",
   "name": "python",
   "nbconvert_exporter": "python",
   "pygments_lexer": "ipython2",
   "version": "2.7.12"
  }
 },
 "nbformat": 4,
 "nbformat_minor": 2
}
