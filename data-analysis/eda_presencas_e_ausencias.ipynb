{
 "cells": [
  {
   "cell_type": "markdown",
   "metadata": {},
   "source": [
    "## Minerando presenças dos deputados\n",
    "\n",
    "Foi-se utilizado uma base previamente limpa, que pode ser encontrada neste link: [Dados da câmara federal _by_ Nazareno](https://github.com/nazareno/dados-da-camara-federal)\n",
    "\n",
    "> Obs.: Os dados estão atualizados até o mês de **agosto** de 2017, e a possiblidade de haver uma mineração direto da fonte não foi descartada"
   ]
  },
  {
   "cell_type": "code",
   "execution_count": 1,
   "metadata": {
    "collapsed": true
   },
   "outputs": [],
   "source": [
    "import requests as re\n",
    "import pandas as pd\n",
    "import numpy as np\n",
    "import xmltodict\n",
    "import xml.etree.ElementTree as ET\n",
    "import matplotlib.pyplot as plt\n",
    "import seaborn as sns\n",
    "import sys\n",
    "%matplotlib inline"
   ]
  },
  {
   "cell_type": "code",
   "execution_count": 2,
   "metadata": {},
   "outputs": [
    {
     "data": {
      "text/plain": [
       "Index([u'tipo', u'num_pro', u'ano', u'id_votacao', u'data', u'hora', u'sessao',\n",
       "       u'nome', u'id_dep', u'partido', u'uf', u'voto', u'orientacao_partido',\n",
       "       u'orientacao_gov'],\n",
       "      dtype='object')"
      ]
     },
     "execution_count": 2,
     "metadata": {},
     "output_type": "execute_result"
    }
   ],
   "source": [
    "votacoes = pd.read_csv('https://raw.githubusercontent.com/nazareno/dados-da-camara-federal/master/dados/votacoes.csv')\n",
    "votacoes.columns"
   ]
  },
  {
   "cell_type": "code",
   "execution_count": 3,
   "metadata": {},
   "outputs": [
    {
     "data": {
      "text/plain": [
       "(243916, 14)"
      ]
     },
     "execution_count": 3,
     "metadata": {},
     "output_type": "execute_result"
    }
   ],
   "source": [
    "votacoes.shape"
   ]
  },
  {
   "cell_type": "code",
   "execution_count": 4,
   "metadata": {},
   "outputs": [
    {
     "data": {
      "text/html": [
       "<div>\n",
       "<style>\n",
       "    .dataframe thead tr:only-child th {\n",
       "        text-align: right;\n",
       "    }\n",
       "\n",
       "    .dataframe thead th {\n",
       "        text-align: left;\n",
       "    }\n",
       "\n",
       "    .dataframe tbody tr th {\n",
       "        vertical-align: top;\n",
       "    }\n",
       "</style>\n",
       "<table border=\"1\" class=\"dataframe\">\n",
       "  <thead>\n",
       "    <tr style=\"text-align: right;\">\n",
       "      <th></th>\n",
       "      <th>tipo</th>\n",
       "      <th>num_pro</th>\n",
       "      <th>ano</th>\n",
       "      <th>id_votacao</th>\n",
       "      <th>data</th>\n",
       "      <th>hora</th>\n",
       "      <th>sessao</th>\n",
       "      <th>nome</th>\n",
       "      <th>id_dep</th>\n",
       "      <th>partido</th>\n",
       "      <th>uf</th>\n",
       "      <th>voto</th>\n",
       "      <th>orientacao_partido</th>\n",
       "      <th>orientacao_gov</th>\n",
       "    </tr>\n",
       "  </thead>\n",
       "  <tbody>\n",
       "    <tr>\n",
       "      <th>0</th>\n",
       "      <td>PEC</td>\n",
       "      <td>1</td>\n",
       "      <td>2015</td>\n",
       "      <td>1</td>\n",
       "      <td>22/3/2016</td>\n",
       "      <td>76200</td>\n",
       "      <td>5820</td>\n",
       "      <td>Ariosto Holanda</td>\n",
       "      <td>74103.0</td>\n",
       "      <td>pdt</td>\n",
       "      <td>CE</td>\n",
       "      <td>sim</td>\n",
       "      <td>sim</td>\n",
       "      <td>sim</td>\n",
       "    </tr>\n",
       "    <tr>\n",
       "      <th>1</th>\n",
       "      <td>PEC</td>\n",
       "      <td>1</td>\n",
       "      <td>2015</td>\n",
       "      <td>1</td>\n",
       "      <td>22/3/2016</td>\n",
       "      <td>76200</td>\n",
       "      <td>5820</td>\n",
       "      <td>Flavio Nogueira</td>\n",
       "      <td>191923.0</td>\n",
       "      <td>pdt</td>\n",
       "      <td>PI</td>\n",
       "      <td>sim</td>\n",
       "      <td>sim</td>\n",
       "      <td>sim</td>\n",
       "    </tr>\n",
       "    <tr>\n",
       "      <th>2</th>\n",
       "      <td>PEC</td>\n",
       "      <td>1</td>\n",
       "      <td>2015</td>\n",
       "      <td>1</td>\n",
       "      <td>22/3/2016</td>\n",
       "      <td>76200</td>\n",
       "      <td>5820</td>\n",
       "      <td>Zé Augusto Nalin</td>\n",
       "      <td>191945.0</td>\n",
       "      <td>pmdb</td>\n",
       "      <td>RJ</td>\n",
       "      <td>sim</td>\n",
       "      <td>NaN</td>\n",
       "      <td>sim</td>\n",
       "    </tr>\n",
       "    <tr>\n",
       "      <th>3</th>\n",
       "      <td>PEC</td>\n",
       "      <td>1</td>\n",
       "      <td>2015</td>\n",
       "      <td>1</td>\n",
       "      <td>22/3/2016</td>\n",
       "      <td>76200</td>\n",
       "      <td>5820</td>\n",
       "      <td>Paulo Henrique Lustosa</td>\n",
       "      <td>141517.0</td>\n",
       "      <td>pp</td>\n",
       "      <td>CE</td>\n",
       "      <td>sim</td>\n",
       "      <td>sim</td>\n",
       "      <td>sim</td>\n",
       "    </tr>\n",
       "    <tr>\n",
       "      <th>4</th>\n",
       "      <td>PEC</td>\n",
       "      <td>1</td>\n",
       "      <td>2015</td>\n",
       "      <td>1</td>\n",
       "      <td>22/3/2016</td>\n",
       "      <td>76200</td>\n",
       "      <td>5820</td>\n",
       "      <td>Wilson Beserra</td>\n",
       "      <td>193066.0</td>\n",
       "      <td>pmdb</td>\n",
       "      <td>RJ</td>\n",
       "      <td>sim</td>\n",
       "      <td>NaN</td>\n",
       "      <td>sim</td>\n",
       "    </tr>\n",
       "  </tbody>\n",
       "</table>\n",
       "</div>"
      ],
      "text/plain": [
       "  tipo  num_pro   ano  id_votacao       data   hora  sessao  \\\n",
       "0  PEC        1  2015           1  22/3/2016  76200    5820   \n",
       "1  PEC        1  2015           1  22/3/2016  76200    5820   \n",
       "2  PEC        1  2015           1  22/3/2016  76200    5820   \n",
       "3  PEC        1  2015           1  22/3/2016  76200    5820   \n",
       "4  PEC        1  2015           1  22/3/2016  76200    5820   \n",
       "\n",
       "                     nome    id_dep partido  uf voto orientacao_partido  \\\n",
       "0         Ariosto Holanda   74103.0     pdt  CE  sim                sim   \n",
       "1         Flavio Nogueira  191923.0     pdt  PI  sim                sim   \n",
       "2        Zé Augusto Nalin  191945.0    pmdb  RJ  sim                NaN   \n",
       "3  Paulo Henrique Lustosa  141517.0      pp  CE  sim                sim   \n",
       "4          Wilson Beserra  193066.0    pmdb  RJ  sim                NaN   \n",
       "\n",
       "  orientacao_gov  \n",
       "0            sim  \n",
       "1            sim  \n",
       "2            sim  \n",
       "3            sim  \n",
       "4            sim  "
      ]
     },
     "execution_count": 4,
     "metadata": {},
     "output_type": "execute_result"
    }
   ],
   "source": [
    "votacoes.head()"
   ]
  },
  {
   "cell_type": "code",
   "execution_count": 5,
   "metadata": {
    "collapsed": true
   },
   "outputs": [],
   "source": [
    "meses = ['jan', 'fev', 'mar', 'abr', 'mai', 'jun', 'jul', 'ago', 'set', 'out', 'nov', 'dez']\n",
    "votacoes['mes'] = [meses[int(x[1])-1] for x in votacoes['data'].str.split('/')]"
   ]
  },
  {
   "cell_type": "code",
   "execution_count": 6,
   "metadata": {},
   "outputs": [
    {
     "data": {
      "text/html": [
       "<div>\n",
       "<style>\n",
       "    .dataframe thead tr:only-child th {\n",
       "        text-align: right;\n",
       "    }\n",
       "\n",
       "    .dataframe thead th {\n",
       "        text-align: left;\n",
       "    }\n",
       "\n",
       "    .dataframe tbody tr th {\n",
       "        vertical-align: top;\n",
       "    }\n",
       "</style>\n",
       "<table border=\"1\" class=\"dataframe\">\n",
       "  <thead>\n",
       "    <tr style=\"text-align: right;\">\n",
       "      <th></th>\n",
       "      <th>tipo</th>\n",
       "      <th>num_pro</th>\n",
       "      <th>ano</th>\n",
       "      <th>id_votacao</th>\n",
       "      <th>data</th>\n",
       "      <th>hora</th>\n",
       "      <th>sessao</th>\n",
       "      <th>nome</th>\n",
       "      <th>id_dep</th>\n",
       "      <th>partido</th>\n",
       "      <th>uf</th>\n",
       "      <th>voto</th>\n",
       "      <th>orientacao_partido</th>\n",
       "      <th>orientacao_gov</th>\n",
       "      <th>mes</th>\n",
       "    </tr>\n",
       "  </thead>\n",
       "  <tbody>\n",
       "    <tr>\n",
       "      <th>67363</th>\n",
       "      <td>PEC</td>\n",
       "      <td>304</td>\n",
       "      <td>2017</td>\n",
       "      <td>1</td>\n",
       "      <td>10/5/2017</td>\n",
       "      <td>76860</td>\n",
       "      <td>16201</td>\n",
       "      <td>Luiza Erundina</td>\n",
       "      <td>74784.0</td>\n",
       "      <td>psol</td>\n",
       "      <td>SP</td>\n",
       "      <td>não</td>\n",
       "      <td>não</td>\n",
       "      <td>sim</td>\n",
       "      <td>mai</td>\n",
       "    </tr>\n",
       "    <tr>\n",
       "      <th>67364</th>\n",
       "      <td>PEC</td>\n",
       "      <td>304</td>\n",
       "      <td>2017</td>\n",
       "      <td>1</td>\n",
       "      <td>10/5/2017</td>\n",
       "      <td>76860</td>\n",
       "      <td>16201</td>\n",
       "      <td>Roberto Alves</td>\n",
       "      <td>152610.0</td>\n",
       "      <td>prb</td>\n",
       "      <td>SP</td>\n",
       "      <td>sim</td>\n",
       "      <td>sim</td>\n",
       "      <td>sim</td>\n",
       "      <td>mai</td>\n",
       "    </tr>\n",
       "    <tr>\n",
       "      <th>67365</th>\n",
       "      <td>PEC</td>\n",
       "      <td>304</td>\n",
       "      <td>2017</td>\n",
       "      <td>1</td>\n",
       "      <td>10/5/2017</td>\n",
       "      <td>76860</td>\n",
       "      <td>16201</td>\n",
       "      <td>Lázaro Botelho</td>\n",
       "      <td>141480.0</td>\n",
       "      <td>pp</td>\n",
       "      <td>TO</td>\n",
       "      <td>sim</td>\n",
       "      <td>sim</td>\n",
       "      <td>sim</td>\n",
       "      <td>mai</td>\n",
       "    </tr>\n",
       "    <tr>\n",
       "      <th>67366</th>\n",
       "      <td>PEC</td>\n",
       "      <td>304</td>\n",
       "      <td>2017</td>\n",
       "      <td>1</td>\n",
       "      <td>10/5/2017</td>\n",
       "      <td>76860</td>\n",
       "      <td>16201</td>\n",
       "      <td>Sérgio Brito</td>\n",
       "      <td>73808.0</td>\n",
       "      <td>psd</td>\n",
       "      <td>BA</td>\n",
       "      <td>sim</td>\n",
       "      <td>sim</td>\n",
       "      <td>sim</td>\n",
       "      <td>mai</td>\n",
       "    </tr>\n",
       "    <tr>\n",
       "      <th>67367</th>\n",
       "      <td>PEC</td>\n",
       "      <td>304</td>\n",
       "      <td>2017</td>\n",
       "      <td>1</td>\n",
       "      <td>10/5/2017</td>\n",
       "      <td>76860</td>\n",
       "      <td>16201</td>\n",
       "      <td>Erivelton Santana</td>\n",
       "      <td>99654.0</td>\n",
       "      <td>pen</td>\n",
       "      <td>BA</td>\n",
       "      <td>não</td>\n",
       "      <td>NaN</td>\n",
       "      <td>sim</td>\n",
       "      <td>mai</td>\n",
       "    </tr>\n",
       "  </tbody>\n",
       "</table>\n",
       "</div>"
      ],
      "text/plain": [
       "      tipo  num_pro   ano  id_votacao       data   hora  sessao  \\\n",
       "67363  PEC      304  2017           1  10/5/2017  76860   16201   \n",
       "67364  PEC      304  2017           1  10/5/2017  76860   16201   \n",
       "67365  PEC      304  2017           1  10/5/2017  76860   16201   \n",
       "67366  PEC      304  2017           1  10/5/2017  76860   16201   \n",
       "67367  PEC      304  2017           1  10/5/2017  76860   16201   \n",
       "\n",
       "                    nome    id_dep partido  uf voto orientacao_partido  \\\n",
       "67363     Luiza Erundina   74784.0    psol  SP  não                não   \n",
       "67364      Roberto Alves  152610.0     prb  SP  sim                sim   \n",
       "67365     Lázaro Botelho  141480.0      pp  TO  sim                sim   \n",
       "67366       Sérgio Brito   73808.0     psd  BA  sim                sim   \n",
       "67367  Erivelton Santana   99654.0     pen  BA  não                NaN   \n",
       "\n",
       "      orientacao_gov  mes  \n",
       "67363            sim  mai  \n",
       "67364            sim  mai  \n",
       "67365            sim  mai  \n",
       "67366            sim  mai  \n",
       "67367            sim  mai  "
      ]
     },
     "execution_count": 6,
     "metadata": {},
     "output_type": "execute_result"
    }
   ],
   "source": [
    "votacoes_2017 = votacoes[votacoes['ano'] == 2017]\n",
    "votacoes_2017.head()"
   ]
  },
  {
   "cell_type": "markdown",
   "metadata": {},
   "source": [
    "- ### Ordenando por presença em sessões no plenário"
   ]
  },
  {
   "cell_type": "markdown",
   "metadata": {},
   "source": [
    "   #### Deputados com o menor número de presenças"
   ]
  },
  {
   "cell_type": "code",
   "execution_count": 7,
   "metadata": {},
   "outputs": [
    {
     "name": "stdout",
     "output_type": "stream",
     "text": [
      "['n\\xc3\\xa3o' 'sim' '-' 'absten\\xc3\\xa7\\xc3\\xa3o' 'art. 17'\n",
      " 'obstru\\xc3\\xa7\\xc3\\xa3o']\n"
     ]
    }
   ],
   "source": [
    "print(votacoes_2017['voto'].unique())"
   ]
  },
  {
   "cell_type": "code",
   "execution_count": 8,
   "metadata": {},
   "outputs": [
    {
     "data": {
      "text/plain": [
       "nome                  partido   \n",
       "Pr. Luciano Braga     pmb            1\n",
       "Dagoberto             pdt            1\n",
       "Lourival Gomes        ptn            1\n",
       "Rogério Silva         pmdb           1\n",
       "Edinho Bez            pmdb           3\n",
       "Alexandre Baldy       pode           3\n",
       "Marcos Medrado        solidaried     5\n",
       "                      pode           6\n",
       "Mário Heringer        pdt            6\n",
       "Carlos Zarattini      pt             7\n",
       "Valtenir Pereira      psb            7\n",
       "Odorico Monteiro      psb            8\n",
       "Antônio Jácome        pode           8\n",
       "Renata Abreu          pode           9\n",
       "Jozi  Araújo          pode           9\n",
       "Aluisio Mendes        pode           9\n",
       "Vicente Candido       pt             9\n",
       "Vinicius Gurgel       pr             9\n",
       "Silas Freire          pode           9\n",
       "Ezequiel Teixeira     pode           9\n",
       "Ademir Camilo         pode          10\n",
       "Ricardo Teobaldo      pode          10\n",
       "Franklin              pp            11\n",
       "Dr. Sinval Malheiros  pode          12\n",
       "Tia Eron              prb           12\n",
       "Osmar Serraglio       pmdb          12\n",
       "Jozi  Araújo          ptn           13\n",
       "Aníbal Gomes          pmdb          14\n",
       "Roberto Freire        pps           14\n",
       "Ariosto Holanda       pdt           14\n",
       "Name: voto, dtype: int64"
      ]
     },
     "execution_count": 8,
     "metadata": {},
     "output_type": "execute_result"
    }
   ],
   "source": [
    "presencas = votacoes_2017[(votacoes_2017['voto'] <> '-') & (votacoes_2017['voto'] <> 'obtrução')].groupby([votacoes_2017['nome'], votacoes_2017['partido']])['voto'].count()\n",
    "presencas.sort_values().head(30)"
   ]
  },
  {
   "cell_type": "markdown",
   "metadata": {},
   "source": [
    "#### Deputados com maior número de presenças"
   ]
  },
  {
   "cell_type": "code",
   "execution_count": 9,
   "metadata": {},
   "outputs": [
    {
     "data": {
      "text/plain": [
       "nome                      partido   \n",
       "Tenente Lúcio             psb           48\n",
       "Flavinho                  psb           48\n",
       "Tiririca                  pr            48\n",
       "Ivan Valente              psol          48\n",
       "Carlos Manato             solidaried    48\n",
       "Luiz Couto                pt            47\n",
       "João Daniel               pt            47\n",
       "Miro Teixeira             rede          47\n",
       "Glauber Braga             psol          47\n",
       "Victor Mendes             psd           47\n",
       "Rogério Peninha Mendonça  pmdb          47\n",
       "Ronaldo Benedet           pmdb          47\n",
       "Afonso Motta              pdt           47\n",
       "Delegado Edson Moreira    pr            47\n",
       "Walney Rocha              pen           47\n",
       "Valmir Assunção           pt            46\n",
       "Izaque Silva              psdb          46\n",
       "Jarbas Vasconcelos        pmdb          46\n",
       "Chico Lopes               pcdob         46\n",
       "Marcio Alvino             pr            46\n",
       "Jose Stédile              psb           46\n",
       "Átila Lira                psb           46\n",
       "Expedito Netto            psd           46\n",
       "Laudivio Carvalho         solidaried    46\n",
       "Jutahy Junior             psdb          46\n",
       "Lobbe Neto                psdb          46\n",
       "Miguel Lombardi           pr            45\n",
       "Leopoldo Meyer            psb           45\n",
       "Eduardo Bolsonaro         psc           45\n",
       "Edmilson Rodrigues        psol          45\n",
       "Name: voto, dtype: int64"
      ]
     },
     "execution_count": 9,
     "metadata": {},
     "output_type": "execute_result"
    }
   ],
   "source": [
    "presencas.sort_values(ascending=False).head(30)"
   ]
  },
  {
   "cell_type": "markdown",
   "metadata": {},
   "source": [
    "#### Deputados ausentes que não justificaram"
   ]
  },
  {
   "cell_type": "markdown",
   "metadata": {},
   "source": [
    " * #### Mais ausentes"
   ]
  },
  {
   "cell_type": "code",
   "execution_count": 10,
   "metadata": {
    "collapsed": true
   },
   "outputs": [],
   "source": [
    "ausencias = votacoes_2017[(votacoes_2017['voto'] == '-')].groupby([votacoes_2017['nome'], votacoes_2017['partido']])['voto'].count()"
   ]
  },
  {
   "cell_type": "code",
   "execution_count": 11,
   "metadata": {},
   "outputs": [
    {
     "data": {
      "text/plain": [
       "nome                 partido   \n",
       "José Otávio Germano  pp            45\n",
       "Giovani Cherini      pr            45\n",
       "Carlos Zarattini     pt            38\n",
       "Vinicius Gurgel      pr            36\n",
       "Vicente Candido      pt            36\n",
       "Aníbal Gomes         pmdb          34\n",
       "Guilherme Mussi      pp            33\n",
       "Luizianne Lins       pt            33\n",
       "Giacobo              pr            32\n",
       "Jéssica Sales        pmdb          32\n",
       "Marco Maia           pt            31\n",
       "Roberto Góes         pdt           31\n",
       "João Carlos Bacelar  pr            31\n",
       "Hermes Parcianello   pmdb          31\n",
       "Ariosto Holanda      pdt           31\n",
       "Sérgio Reis          prb           30\n",
       "César Halum          prb           30\n",
       "Bruna Furlan         psdb          30\n",
       "Diego Garcia         phs           29\n",
       "Wladimir Costa       solidaried    29\n",
       "Eli Corrêa Filho     dem           29\n",
       "Evandro Gussi        pv            28\n",
       "Marcos Soares        dem           28\n",
       "Zeca Dirceu          pt            28\n",
       "Silvio Costa         ptdob         28\n",
       "Jovair Arantes       ptb           27\n",
       "Brunny               pr            27\n",
       "Andre Moura          psc           27\n",
       "Genecias Noronha     solidaried    26\n",
       "Gonzaga Patriota     psb           26\n",
       "Name: voto, dtype: int64"
      ]
     },
     "execution_count": 11,
     "metadata": {},
     "output_type": "execute_result"
    }
   ],
   "source": [
    "ausencias.sort_values(ascending=False).head(30)"
   ]
  },
  {
   "cell_type": "markdown",
   "metadata": {},
   "source": [
    " * #### Menos ausentes"
   ]
  },
  {
   "cell_type": "code",
   "execution_count": 12,
   "metadata": {},
   "outputs": [
    {
     "data": {
      "text/plain": [
       "nome                      partido   \n",
       "Mário Heringer            pdt           1\n",
       "Laudivio Carvalho         solidaried    1\n",
       "Miro Teixeira             rede          1\n",
       "Jarbas Vasconcelos        pmdb          1\n",
       "Rogério Peninha Mendonça  pmdb          1\n",
       "Luciano Bivar             psl           1\n",
       "Luiz Carlos Ramos         pode          1\n",
       "Glauber Braga             psol          1\n",
       "Pedro Chaves              pmdb          1\n",
       "Francisco Chapadinha      ptn           1\n",
       "Josias Gomes              pt            1\n",
       "Francisco Chapadinha      pode          1\n",
       "Chico D Angelo            pt            1\n",
       "Valtenir Pereira          psb           1\n",
       "Victor Mendes             psd           1\n",
       "Walney Rocha              pen           1\n",
       "Fernando Torres           psd           1\n",
       "Luiz Couto                pt            1\n",
       "Marcos Medrado            pode          1\n",
       "                          solidaried    1\n",
       "Afonso Motta              pdt           1\n",
       "João Daniel               pt            1\n",
       "Luiz Carlos Ramos         ptn           2\n",
       "Bacelar                   ptn           2\n",
       "Lobbe Neto                psdb          2\n",
       "Marcio Alvino             pr            2\n",
       "Jutahy Junior             psdb          2\n",
       "Átila Lira                psb           2\n",
       "Geovania de Sá            psdb          2\n",
       "Eduardo Bolsonaro         psc           2\n",
       "Expedito Netto            psd           2\n",
       "Chico Lopes               pcdob         2\n",
       "Valmir Assunção           pt            2\n",
       "Roberto Alves             prb           2\n",
       "Izaque Silva              psdb          2\n",
       "Jose Stédile              psb           2\n",
       "Roberto Freire            pps           2\n",
       "Rubens Bueno              pps           2\n",
       "Benito Gama               ptb           3\n",
       "Chico Alencar             psol          3\n",
       "Name: voto, dtype: int64"
      ]
     },
     "execution_count": 12,
     "metadata": {},
     "output_type": "execute_result"
    }
   ],
   "source": [
    "ausencias.sort_values().head(40)"
   ]
  },
  {
   "cell_type": "markdown",
   "metadata": {},
   "source": [
    "- ### Visualização de dados"
   ]
  },
  {
   "cell_type": "markdown",
   "metadata": {},
   "source": [
    "Algo que me supreendeu aqui: Cerca de pouco mais de 200 deputados foram à mais de 30 sessões. _No mínimo interessante!_"
   ]
  },
  {
   "cell_type": "code",
   "execution_count": 26,
   "metadata": {},
   "outputs": [
    {
     "data": {
      "text/plain": [
       "<matplotlib.axes._subplots.AxesSubplot at 0x7f27cdcd3d90>"
      ]
     },
     "execution_count": 26,
     "metadata": {},
     "output_type": "execute_result"
    },
    {
     "data": {
      "image/png": "[encoded data removed]",
      "text/plain": [
       "<matplotlib.figure.Figure at 0x7f27cdcc6b50>"
      ]
     },
     "metadata": {},
     "output_type": "display_data"
    }
   ],
   "source": [
    "presencas.plot.hist(bins=5)"
   ]
  },
  {
   "cell_type": "markdown",
   "metadata": {},
   "source": [
    "E em sua grande maioria, possuem menos de 10 faltas não justificadas."
   ]
  },
  {
   "cell_type": "code",
   "execution_count": 27,
   "metadata": {},
   "outputs": [
    {
     "data": {
      "text/plain": [
       "<matplotlib.axes._subplots.AxesSubplot at 0x7f27cdba9b90>"
      ]
     },
     "execution_count": 27,
     "metadata": {},
     "output_type": "execute_result"
    },
    {
     "data": {
      "image/png": "[encoded data removed]",
      "text/plain": [
       "<matplotlib.figure.Figure at 0x7f27cdc1d990>"
      ]
     },
     "metadata": {},
     "output_type": "display_data"
    }
   ],
   "source": [
    "ausencias.plot.hist(bins=5)"
   ]
  }
 ],
 "metadata": {
  "kernelspec": {
   "display_name": "Python 2",
   "language": "python",
   "name": "python2"
  },
  "language_info": {
   "codemirror_mode": {
    "name": "ipython",
    "version": 2
   },
   "file_extension": ".py",
   "mimetype": "text/x-python",
   "name": "python",
   "nbconvert_exporter": "python",
   "pygments_lexer": "ipython2",
   "version": "2.7.12"
  }
 },
 "nbformat": 4,
 "nbformat_minor": 2
}
