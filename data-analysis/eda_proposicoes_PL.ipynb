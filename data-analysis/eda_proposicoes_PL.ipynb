{
 "cells": [
  {
   "cell_type": "code",
   "execution_count": 2,
   "metadata": {
    "collapsed": true
   },
   "outputs": [],
   "source": [
    "import pandas as pd\n",
    "import numpy as np\n",
    "import matplotlib.pyplot as plt\n",
    "import seaborn as sns\n",
    "import requests as re\n",
    "import xmltodict as xml2dict\n",
    "from collections import OrderedDict\n",
    "\n",
    "%matplotlib inline"
   ]
  },
  {
   "cell_type": "code",
   "execution_count": 34,
   "metadata": {
    "collapsed": true
   },
   "outputs": [],
   "source": [
    "url = 'http://www.camara.leg.br/SitCamaraWS/Proposicoes.asmx/ListarProposicoes'\n",
    "params = {\n",
    "    'sigla':'',\n",
    "    'numero':'',\n",
    "    'ano':'',\n",
    "    'datApresentacaoIni':'',\n",
    "    'datApresentacaoFim':'',\n",
    "    'parteNomeAutor':'',\n",
    "    'idTipoAutor':'',\n",
    "    'siglaPartidoAutor':'',\n",
    "    'siglaUFAutor':'',\n",
    "    'generoAutor':'',\n",
    "    'codEstado':'',\n",
    "    'codOrgaoEstado':'',\n",
    "    'emTramitacao':''\n",
    "}"
   ]
  },
  {
   "cell_type": "code",
   "execution_count": 35,
   "metadata": {},
   "outputs": [
    {
     "name": "stdout",
     "output_type": "stream",
     "text": [
      "URL: http://www.camara.leg.br/SitCamaraWS/Proposicoes.asmx/ListarProposicoes?generoAutor=&siglaUFAutor=&ano=2017&numero=&codOrgaoEstado=&emTramitacao=&datApresentacaoIni=&idTipoAutor=&siglaPartidoAutor=&codEstado=&datApresentacaoFim=&parteNomeAutor=&sigla=PL\n",
      "Status: 200\n"
     ]
    }
   ],
   "source": [
    "params['sigla'] = 'PL'\n",
    "params['ano'] = '2017'\n",
    "response = re.get(url, params)\n",
    "print('URL: %s\\nStatus: %s' % (response.url, response.status_code))"
   ]
  },
  {
   "cell_type": "code",
   "execution_count": 36,
   "metadata": {
    "collapsed": true
   },
   "outputs": [],
   "source": [
    "tree = xml2dict.parse(response.content)\n"
   ]
  },
  {
   "cell_type": "code",
   "execution_count": 37,
   "metadata": {},
   "outputs": [
    {
     "data": {
      "text/plain": [
       "[u'proposicoes']"
      ]
     },
     "execution_count": 37,
     "metadata": {},
     "output_type": "execute_result"
    }
   ],
   "source": [
    "tree.keys()"
   ]
  },
  {
   "cell_type": "code",
   "execution_count": 38,
   "metadata": {},
   "outputs": [
    {
     "data": {
      "text/plain": [
       "[u'proposicao']"
      ]
     },
     "execution_count": 38,
     "metadata": {},
     "output_type": "execute_result"
    }
   ],
   "source": [
    "proposicoes = tree['proposicoes']\n",
    "[x for x in proposicoes.keys()]"
   ]
  },
  {
   "cell_type": "code",
   "execution_count": 39,
   "metadata": {},
   "outputs": [
    {
     "data": {
      "text/plain": [
       "[u'id',\n",
       " u'nome',\n",
       " u'tipoProposicao',\n",
       " u'numero',\n",
       " u'ano',\n",
       " u'orgaoNumerador',\n",
       " u'datApresentacao',\n",
       " u'txtEmenta',\n",
       " u'txtExplicacaoEmenta',\n",
       " u'regime',\n",
       " u'apreciacao',\n",
       " u'autor1',\n",
       " u'qtdAutores',\n",
       " u'ultimoDespacho',\n",
       " u'situacao',\n",
       " u'indGenero',\n",
       " u'qtdOrgaosComEstado']"
      ]
     },
     "execution_count": 39,
     "metadata": {},
     "output_type": "execute_result"
    }
   ],
   "source": [
    "proposicoes['proposicao'][0].keys()"
   ]
  },
  {
   "cell_type": "code",
   "execution_count": 82,
   "metadata": {
    "collapsed": true
   },
   "outputs": [],
   "source": [
    "proposicao = proposicoes['proposicao']"
   ]
  },
  {
   "cell_type": "markdown",
   "metadata": {},
   "source": [
    "## Nosso resultado tem dicionários aninhados, segue o algoritmo que resolve esse problema"
   ]
  },
  {
   "cell_type": "code",
   "execution_count": 83,
   "metadata": {
    "collapsed": true
   },
   "outputs": [],
   "source": [
    "new_dict = {}\n",
    "chaves_to_delete = []\n",
    "\n",
    "for prop in proposicao:\n",
    "    for item in prop:\n",
    "        if isinstance(prop[item], OrderedDict):\n",
    "            for x in prop[item].items():\n",
    "                new_dict[item+'_'+x[0]] = x[1]\n",
    "            chaves_to_delete.append(item)\n",
    "            prop.update(new_dict)"
   ]
  },
  {
   "cell_type": "code",
   "execution_count": 84,
   "metadata": {
    "collapsed": true
   },
   "outputs": [],
   "source": [
    "for prop in proposicao:\n",
    "    for chave in prop.keys():\n",
    "        if chave in chaves_to_delete:\n",
    "            del prop[chave]"
   ]
  },
  {
   "cell_type": "code",
   "execution_count": 103,
   "metadata": {},
   "outputs": [
    {
     "name": "stdout",
     "output_type": "stream",
     "text": [
      "2299\n"
     ]
    }
   ],
   "source": [
    "proposicao_df = pd.DataFrame(proposicao)\n",
    "proposicao_df.head()\n",
    "print(len(proposicao_df))"
   ]
  },
  {
   "cell_type": "code",
   "execution_count": 104,
   "metadata": {},
   "outputs": [
    {
     "name": "stdout",
     "output_type": "stream",
     "text": [
      "2299 linhas, 33 colunas\n"
     ]
    }
   ],
   "source": [
    "shape = proposicao_df.shape\n",
    "print('%s linhas, %s colunas' % (shape[0], shape[1]))"
   ]
  },
  {
   "cell_type": "code",
   "execution_count": 105,
   "metadata": {},
   "outputs": [
    {
     "data": {
      "text/plain": [
       "Index([u'id', u'nome', u'numero', u'ano', u'datApresentacao', u'txtEmenta',\n",
       "       u'txtExplicacaoEmenta', u'qtdAutores', u'indGenero',\n",
       "       u'qtdOrgaosComEstado', u'tipoProposicao_id', u'tipoProposicao_sigla',\n",
       "       u'tipoProposicao_nome', u'orgaoNumerador_sigla', u'orgaoNumerador_nome',\n",
       "       u'orgaoNumerador_id', u'regime_txtRegime', u'regime_codRegime',\n",
       "       u'apreciacao_txtApreciacao', u'apreciacao_id',\n",
       "       u'autor1_txtSiglaPartido', u'autor1_idecadastro',\n",
       "       u'autor1_txtNomeAutor', u'autor1_codPartido', u'autor1_txtSiglaUF',\n",
       "       u'ultimoDespacho_datDespacho', u'ultimoDespacho_txtDespacho',\n",
       "       u'situacao_id', u'situacao_descricao',\n",
       "       u'situacao_principal_proposicaoPrincipal',\n",
       "       u'situacao_principal_codProposicaoPrincipal',\n",
       "       u'situacao_orgao_codOrgaoEstado', u'situacao_orgao_siglaOrgaoEstado'],\n",
       "      dtype='object')"
      ]
     },
     "execution_count": 105,
     "metadata": {},
     "output_type": "execute_result"
    }
   ],
   "source": [
    "proposicao_df.columns"
   ]
  },
  {
   "cell_type": "code",
   "execution_count": 115,
   "metadata": {},
   "outputs": [
    {
     "name": "stdout",
     "output_type": "stream",
     "text": [
      "Index([u'id', u'nome', u'numero', u'ano', u'datApresentacao', u'txtEmenta',\n",
      "       u'txtExplicacaoEmenta', u'qtdAutores', u'indGenero',\n",
      "       u'qtdOrgaosComEstado', u'tipoProposicao_id', u'tipoProposicao_sigla',\n",
      "       u'tipoProposicao_nome', u'orgaoNumerador_sigla', u'orgaoNumerador_nome',\n",
      "       u'orgaoNumerador_id', u'regime_txtRegime', u'regime_codRegime',\n",
      "       u'apreciacao_txtApreciacao', u'apreciacao_id',\n",
      "       u'autor1_txtSiglaPartido', u'autor1_idecadastro',\n",
      "       u'autor1_txtNomeAutor', u'autor1_codPartido', u'autor1_txtSiglaUF',\n",
      "       u'ultimoDespacho_datDespacho', u'ultimoDespacho_txtDespacho',\n",
      "       u'situacao_id', u'situacao_descricao',\n",
      "       u'situacao_principal_proposicaoPrincipal',\n",
      "       u'situacao_principal_codProposicaoPrincipal',\n",
      "       u'situacao_orgao_codOrgaoEstado', u'situacao_orgao_siglaOrgaoEstado'],\n",
      "      dtype='object')\n"
     ]
    }
   ],
   "source": [
    "print(proposicao_df.columns)\n",
    "proposicao_clean = proposicao_df[pd.notnull(proposicao_df['autor1_idecadastro'])]"
   ]
  },
  {
   "cell_type": "code",
   "execution_count": 118,
   "metadata": {
    "collapsed": true
   },
   "outputs": [],
   "source": [
    "proposicao_clean.to_csv('../data/proposicoes_PL.csv', sep=',', encoding='utf-8')"
   ]
  },
  {
   "cell_type": "markdown",
   "metadata": {},
   "source": [
    "### Podemos ver que nosso dataset possui a relação que precisávamos *( deputados <-> proposições )*"
   ]
  },
  {
   "cell_type": "code",
   "execution_count": 4,
   "metadata": {},
   "outputs": [
    {
     "data": {
      "text/html": [
       "<div>\n",
       "<style>\n",
       "    .dataframe thead tr:only-child th {\n",
       "        text-align: right;\n",
       "    }\n",
       "\n",
       "    .dataframe thead th {\n",
       "        text-align: left;\n",
       "    }\n",
       "\n",
       "    .dataframe tbody tr th {\n",
       "        vertical-align: top;\n",
       "    }\n",
       "</style>\n",
       "<table border=\"1\" class=\"dataframe\">\n",
       "  <thead>\n",
       "    <tr style=\"text-align: right;\">\n",
       "      <th></th>\n",
       "      <th>autor1_idecadastro</th>\n",
       "      <th>autor1_txtNomeAutor</th>\n",
       "    </tr>\n",
       "  </thead>\n",
       "  <tbody>\n",
       "    <tr>\n",
       "      <th>0</th>\n",
       "      <td>178828</td>\n",
       "      <td>Evandro Gussi</td>\n",
       "    </tr>\n",
       "    <tr>\n",
       "      <th>1</th>\n",
       "      <td>195866</td>\n",
       "      <td>Vaidon Oliveira</td>\n",
       "    </tr>\n",
       "    <tr>\n",
       "      <th>2</th>\n",
       "      <td>74787</td>\n",
       "      <td>Milton Monti</td>\n",
       "    </tr>\n",
       "    <tr>\n",
       "      <th>3</th>\n",
       "      <td>141401</td>\n",
       "      <td>Carlos Bezerra</td>\n",
       "    </tr>\n",
       "    <tr>\n",
       "      <th>4</th>\n",
       "      <td>74399</td>\n",
       "      <td>Onyx Lorenzoni</td>\n",
       "    </tr>\n",
       "  </tbody>\n",
       "</table>\n",
       "</div>"
      ],
      "text/plain": [
       "   autor1_idecadastro autor1_txtNomeAutor\n",
       "0              178828       Evandro Gussi\n",
       "1              195866     Vaidon Oliveira\n",
       "2               74787        Milton Monti\n",
       "3              141401      Carlos Bezerra\n",
       "4               74399      Onyx Lorenzoni"
      ]
     },
     "execution_count": 4,
     "metadata": {},
     "output_type": "execute_result"
    }
   ],
   "source": [
    "proposicoes = pd.read_csv('../data/proposicoes_PL.csv')\n",
    "p[['autor1_idecadastro', 'autor1_txtNomeAutor']].head()"
   ]
  },
  {
   "cell_type": "code",
   "execution_count": 5,
   "metadata": {},
   "outputs": [
    {
     "data": {
      "text/html": [
       "<div>\n",
       "<style>\n",
       "    .dataframe thead tr:only-child th {\n",
       "        text-align: right;\n",
       "    }\n",
       "\n",
       "    .dataframe thead th {\n",
       "        text-align: left;\n",
       "    }\n",
       "\n",
       "    .dataframe tbody tr th {\n",
       "        vertical-align: top;\n",
       "    }\n",
       "</style>\n",
       "<table border=\"1\" class=\"dataframe\">\n",
       "  <thead>\n",
       "    <tr style=\"text-align: right;\">\n",
       "      <th></th>\n",
       "      <th>Unnamed: 0</th>\n",
       "      <th>id</th>\n",
       "      <th>nome</th>\n",
       "      <th>numero</th>\n",
       "      <th>ano</th>\n",
       "      <th>datApresentacao</th>\n",
       "      <th>txtEmenta</th>\n",
       "      <th>txtExplicacaoEmenta</th>\n",
       "      <th>qtdAutores</th>\n",
       "      <th>indGenero</th>\n",
       "      <th>...</th>\n",
       "      <th>autor1_codPartido</th>\n",
       "      <th>autor1_txtSiglaUF</th>\n",
       "      <th>ultimoDespacho_datDespacho</th>\n",
       "      <th>ultimoDespacho_txtDespacho</th>\n",
       "      <th>situacao_id</th>\n",
       "      <th>situacao_descricao</th>\n",
       "      <th>situacao_principal_proposicaoPrincipal</th>\n",
       "      <th>situacao_principal_codProposicaoPrincipal</th>\n",
       "      <th>situacao_orgao_codOrgaoEstado</th>\n",
       "      <th>situacao_orgao_siglaOrgaoEstado</th>\n",
       "    </tr>\n",
       "  </thead>\n",
       "  <tbody>\n",
       "    <tr>\n",
       "      <th>0</th>\n",
       "      <td>0</td>\n",
       "      <td>2162285</td>\n",
       "      <td>PL 9086/2017</td>\n",
       "      <td>9086</td>\n",
       "      <td>2017</td>\n",
       "      <td>14/11/2017 14:58:00</td>\n",
       "      <td>Dispõe sobre a Política Nacional de Biocombust...</td>\n",
       "      <td>Altera a Lei nº 9.478 de 1997.</td>\n",
       "      <td>1</td>\n",
       "      <td>o</td>\n",
       "      <td>...</td>\n",
       "      <td>140</td>\n",
       "      <td>SP</td>\n",
       "      <td>NaN</td>\n",
       "      <td>NaN</td>\n",
       "      <td>905.0</td>\n",
       "      <td>Aguardando Despacho do Presidente da Câmara do...</td>\n",
       "      <td>NaN</td>\n",
       "      <td>0</td>\n",
       "      <td>100001.0</td>\n",
       "      <td>SECAP(SGM)</td>\n",
       "    </tr>\n",
       "    <tr>\n",
       "      <th>1</th>\n",
       "      <td>2</td>\n",
       "      <td>2162215</td>\n",
       "      <td>PL 9084/2017</td>\n",
       "      <td>9084</td>\n",
       "      <td>2017</td>\n",
       "      <td>10/11/2017 17:16:00</td>\n",
       "      <td>Altera a Lei nº 9.427, de 26 de dezembro de 19...</td>\n",
       "      <td>NaN</td>\n",
       "      <td>1</td>\n",
       "      <td>o</td>\n",
       "      <td>...</td>\n",
       "      <td>222</td>\n",
       "      <td>CE</td>\n",
       "      <td>NaN</td>\n",
       "      <td>NaN</td>\n",
       "      <td>905.0</td>\n",
       "      <td>Aguardando Despacho do Presidente da Câmara do...</td>\n",
       "      <td>NaN</td>\n",
       "      <td>0</td>\n",
       "      <td>100001.0</td>\n",
       "      <td>SECAP(SGM)</td>\n",
       "    </tr>\n",
       "    <tr>\n",
       "      <th>2</th>\n",
       "      <td>3</td>\n",
       "      <td>2162212</td>\n",
       "      <td>PL 9083/2017</td>\n",
       "      <td>9083</td>\n",
       "      <td>2017</td>\n",
       "      <td>10/11/2017 15:28:00</td>\n",
       "      <td>Denomina \"Agência Sergio da Fonseca\" a agência...</td>\n",
       "      <td>NaN</td>\n",
       "      <td>1</td>\n",
       "      <td>o</td>\n",
       "      <td>...</td>\n",
       "      <td>168</td>\n",
       "      <td>SP</td>\n",
       "      <td>NaN</td>\n",
       "      <td>NaN</td>\n",
       "      <td>905.0</td>\n",
       "      <td>Aguardando Despacho do Presidente da Câmara do...</td>\n",
       "      <td>NaN</td>\n",
       "      <td>0</td>\n",
       "      <td>100001.0</td>\n",
       "      <td>SECAP(SGM)</td>\n",
       "    </tr>\n",
       "    <tr>\n",
       "      <th>3</th>\n",
       "      <td>4</td>\n",
       "      <td>2162161</td>\n",
       "      <td>PL 9082/2017</td>\n",
       "      <td>9082</td>\n",
       "      <td>2017</td>\n",
       "      <td>10/11/2017 09:48:00</td>\n",
       "      <td>Acrescenta novo § 5º ao art. 22 da Lei nº 11.1...</td>\n",
       "      <td>NaN</td>\n",
       "      <td>1</td>\n",
       "      <td>o</td>\n",
       "      <td>...</td>\n",
       "      <td>111</td>\n",
       "      <td>MT</td>\n",
       "      <td>NaN</td>\n",
       "      <td>NaN</td>\n",
       "      <td>905.0</td>\n",
       "      <td>Aguardando Despacho do Presidente da Câmara do...</td>\n",
       "      <td>NaN</td>\n",
       "      <td>0</td>\n",
       "      <td>100001.0</td>\n",
       "      <td>SECAP(SGM)</td>\n",
       "    </tr>\n",
       "    <tr>\n",
       "      <th>4</th>\n",
       "      <td>5</td>\n",
       "      <td>2162132</td>\n",
       "      <td>PL 9081/2017</td>\n",
       "      <td>9081</td>\n",
       "      <td>2017</td>\n",
       "      <td>9/11/2017 17:55:00</td>\n",
       "      <td>Altera a Lei nº 7.102, de 20 de junho de 1983,...</td>\n",
       "      <td>NaN</td>\n",
       "      <td>1</td>\n",
       "      <td>o</td>\n",
       "      <td>...</td>\n",
       "      <td>202</td>\n",
       "      <td>RS</td>\n",
       "      <td>NaN</td>\n",
       "      <td>NaN</td>\n",
       "      <td>905.0</td>\n",
       "      <td>Aguardando Despacho do Presidente da Câmara do...</td>\n",
       "      <td>NaN</td>\n",
       "      <td>0</td>\n",
       "      <td>100001.0</td>\n",
       "      <td>SECAP(SGM)</td>\n",
       "    </tr>\n",
       "  </tbody>\n",
       "</table>\n",
       "<p>5 rows × 34 columns</p>\n",
       "</div>"
      ],
      "text/plain": [
       "   Unnamed: 0       id          nome  numero   ano      datApresentacao  \\\n",
       "0           0  2162285  PL 9086/2017    9086  2017  14/11/2017 14:58:00   \n",
       "1           2  2162215  PL 9084/2017    9084  2017  10/11/2017 17:16:00   \n",
       "2           3  2162212  PL 9083/2017    9083  2017  10/11/2017 15:28:00   \n",
       "3           4  2162161  PL 9082/2017    9082  2017  10/11/2017 09:48:00   \n",
       "4           5  2162132  PL 9081/2017    9081  2017   9/11/2017 17:55:00   \n",
       "\n",
       "                                           txtEmenta  \\\n",
       "0  Dispõe sobre a Política Nacional de Biocombust...   \n",
       "1  Altera a Lei nº 9.427, de 26 de dezembro de 19...   \n",
       "2  Denomina \"Agência Sergio da Fonseca\" a agência...   \n",
       "3  Acrescenta novo § 5º ao art. 22 da Lei nº 11.1...   \n",
       "4  Altera a Lei nº 7.102, de 20 de junho de 1983,...   \n",
       "\n",
       "              txtExplicacaoEmenta  qtdAutores indGenero  \\\n",
       "0  Altera a Lei nº 9.478 de 1997.           1         o   \n",
       "1                             NaN           1         o   \n",
       "2                             NaN           1         o   \n",
       "3                             NaN           1         o   \n",
       "4                             NaN           1         o   \n",
       "\n",
       "                ...                autor1_codPartido  autor1_txtSiglaUF  \\\n",
       "0               ...                              140                 SP   \n",
       "1               ...                              222                 CE   \n",
       "2               ...                              168                 SP   \n",
       "3               ...                              111                 MT   \n",
       "4               ...                              202                 RS   \n",
       "\n",
       "  ultimoDespacho_datDespacho ultimoDespacho_txtDespacho situacao_id  \\\n",
       "0                        NaN                        NaN       905.0   \n",
       "1                        NaN                        NaN       905.0   \n",
       "2                        NaN                        NaN       905.0   \n",
       "3                        NaN                        NaN       905.0   \n",
       "4                        NaN                        NaN       905.0   \n",
       "\n",
       "                                  situacao_descricao  \\\n",
       "0  Aguardando Despacho do Presidente da Câmara do...   \n",
       "1  Aguardando Despacho do Presidente da Câmara do...   \n",
       "2  Aguardando Despacho do Presidente da Câmara do...   \n",
       "3  Aguardando Despacho do Presidente da Câmara do...   \n",
       "4  Aguardando Despacho do Presidente da Câmara do...   \n",
       "\n",
       "   situacao_principal_proposicaoPrincipal  \\\n",
       "0                                     NaN   \n",
       "1                                     NaN   \n",
       "2                                     NaN   \n",
       "3                                     NaN   \n",
       "4                                     NaN   \n",
       "\n",
       "  situacao_principal_codProposicaoPrincipal  situacao_orgao_codOrgaoEstado  \\\n",
       "0                                         0                       100001.0   \n",
       "1                                         0                       100001.0   \n",
       "2                                         0                       100001.0   \n",
       "3                                         0                       100001.0   \n",
       "4                                         0                       100001.0   \n",
       "\n",
       "  situacao_orgao_siglaOrgaoEstado  \n",
       "0                      SECAP(SGM)  \n",
       "1                      SECAP(SGM)  \n",
       "2                      SECAP(SGM)  \n",
       "3                      SECAP(SGM)  \n",
       "4                      SECAP(SGM)  \n",
       "\n",
       "[5 rows x 34 columns]"
      ]
     },
     "execution_count": 5,
     "metadata": {},
     "output_type": "execute_result"
    }
   ],
   "source": [
    "proposicoes.head()"
   ]
  },
  {
   "cell_type": "code",
   "execution_count": 12,
   "metadata": {},
   "outputs": [
    {
     "data": {
      "text/plain": [
       "['Unnamed: 0',\n",
       " 'id',\n",
       " 'nome',\n",
       " 'numero',\n",
       " 'ano',\n",
       " 'datApresentacao',\n",
       " 'txtEmenta',\n",
       " 'txtExplicacaoEmenta',\n",
       " 'qtdAutores',\n",
       " 'indGenero',\n",
       " 'qtdOrgaosComEstado',\n",
       " 'tipoProposicao_id',\n",
       " 'tipoProposicao_sigla',\n",
       " 'tipoProposicao_nome',\n",
       " 'orgaoNumerador_sigla',\n",
       " 'orgaoNumerador_nome',\n",
       " 'orgaoNumerador_id',\n",
       " 'regime_txtRegime',\n",
       " 'regime_codRegime',\n",
       " 'apreciacao_txtApreciacao',\n",
       " 'apreciacao_id',\n",
       " 'autor1_txtSiglaPartido',\n",
       " 'autor1_idecadastro',\n",
       " 'autor1_txtNomeAutor',\n",
       " 'autor1_codPartido',\n",
       " 'autor1_txtSiglaUF',\n",
       " 'ultimoDespacho_datDespacho',\n",
       " 'ultimoDespacho_txtDespacho',\n",
       " 'situacao_id',\n",
       " 'situacao_descricao',\n",
       " 'situacao_principal_proposicaoPrincipal',\n",
       " 'situacao_principal_codProposicaoPrincipal',\n",
       " 'situacao_orgao_codOrgaoEstado',\n",
       " 'situacao_orgao_siglaOrgaoEstado']"
      ]
     },
     "execution_count": 12,
     "metadata": {},
     "output_type": "execute_result"
    }
   ],
   "source": [
    "[x for x in proposicoes.columns]"
   ]
  },
  {
   "cell_type": "markdown",
   "metadata": {},
   "source": [
    "### Deletando coluna *Unnamed: 0*"
   ]
  },
  {
   "cell_type": "code",
   "execution_count": 28,
   "metadata": {},
   "outputs": [],
   "source": [
    "proposicoes.drop('Unnamed: 0', axis=1, inplace=True)"
   ]
  },
  {
   "cell_type": "code",
   "execution_count": 29,
   "metadata": {},
   "outputs": [
    {
     "data": {
      "text/plain": [
       "Index([u'id', u'nome', u'numero', u'ano', u'datApresentacao', u'txtEmenta',\n",
       "       u'txtExplicacaoEmenta', u'qtdAutores', u'indGenero',\n",
       "       u'qtdOrgaosComEstado', u'tipoProposicao_id', u'tipoProposicao_sigla',\n",
       "       u'tipoProposicao_nome', u'orgaoNumerador_sigla', u'orgaoNumerador_nome',\n",
       "       u'orgaoNumerador_id', u'regime_txtRegime', u'regime_codRegime',\n",
       "       u'apreciacao_txtApreciacao', u'apreciacao_id',\n",
       "       u'autor1_txtSiglaPartido', u'autor1_idecadastro',\n",
       "       u'autor1_txtNomeAutor', u'autor1_codPartido', u'autor1_txtSiglaUF',\n",
       "       u'ultimoDespacho_datDespacho', u'ultimoDespacho_txtDespacho',\n",
       "       u'situacao_id', u'situacao_descricao',\n",
       "       u'situacao_principal_proposicaoPrincipal',\n",
       "       u'situacao_principal_codProposicaoPrincipal',\n",
       "       u'situacao_orgao_codOrgaoEstado', u'situacao_orgao_siglaOrgaoEstado'],\n",
       "      dtype='object')"
      ]
     },
     "execution_count": 29,
     "metadata": {},
     "output_type": "execute_result"
    }
   ],
   "source": [
    "proposicoes.columns"
   ]
  },
  {
   "cell_type": "markdown",
   "metadata": {},
   "source": [
    "#### Colunas do tipo *autor1_** são ruins para serem trabalhadas, portanto, temos que consertar isso"
   ]
  },
  {
   "cell_type": "code",
   "execution_count": 50,
   "metadata": {},
   "outputs": [
    {
     "name": "stdout",
     "output_type": "stream",
     "text": [
      "-- Lista atualizada --\n",
      "['id', 'nome', 'numero', 'ano', 'datApresentacao', 'txtEmenta', 'txtExplicacaoEmenta', 'qtdAutores', 'indGenero', 'qtdOrgaosComEstado', 'tipoProposicao_id', 'tipoProposicao_sigla', 'tipoProposicao_nome', 'orgaoNumerador_sigla', 'orgaoNumerador_nome', 'orgaoNumerador_id', 'regime_txtRegime', 'regime_codRegime', 'apreciacao_txtApreciacao', 'apreciacao_id', 'txtSiglaPartido', 'idecadastro', 'txtNomeAutor', 'codPartido', 'txtSiglaUF', 'ultimoDespacho_datDespacho', 'ultimoDespacho_txtDespacho', 'situacao_id', 'situacao_descricao', 'situacao_principal_proposicaoPrincipal', 'situacao_principal_codProposicaoPrincipal', 'situacao_orgao_codOrgaoEstado', 'situacao_orgao_siglaOrgaoEstado']\n"
     ]
    }
   ],
   "source": [
    "columns = list(proposicoes.columns)\n",
    "keys_to_replaced = []\n",
    "results = []\n",
    "for name in columns:\n",
    "        if \"autor1\" in name:\n",
    "            index = columns.index(name)\n",
    "            columns[index] = name.split(\"_\")[1]\n",
    "\n",
    "print('-- Lista atualizada --')\n",
    "print(columns)"
   ]
  },
  {
   "cell_type": "code",
   "execution_count": 51,
   "metadata": {},
   "outputs": [],
   "source": [
    "proposicoes.columns = columns"
   ]
  },
  {
   "cell_type": "markdown",
   "metadata": {},
   "source": [
    "### Nossas colunas problemáticas foram corrigidas :)"
   ]
  },
  {
   "cell_type": "code",
   "execution_count": 54,
   "metadata": {
    "scrolled": true
   },
   "outputs": [
    {
     "data": {
      "text/plain": [
       "['id',\n",
       " 'nome',\n",
       " 'numero',\n",
       " 'ano',\n",
       " 'datApresentacao',\n",
       " 'txtEmenta',\n",
       " 'txtExplicacaoEmenta',\n",
       " 'qtdAutores',\n",
       " 'indGenero',\n",
       " 'qtdOrgaosComEstado',\n",
       " 'tipoProposicao_id',\n",
       " 'tipoProposicao_sigla',\n",
       " 'tipoProposicao_nome',\n",
       " 'orgaoNumerador_sigla',\n",
       " 'orgaoNumerador_nome',\n",
       " 'orgaoNumerador_id',\n",
       " 'regime_txtRegime',\n",
       " 'regime_codRegime',\n",
       " 'apreciacao_txtApreciacao',\n",
       " 'apreciacao_id',\n",
       " 'txtSiglaPartido',\n",
       " 'idecadastro',\n",
       " 'txtNomeAutor',\n",
       " 'codPartido',\n",
       " 'txtSiglaUF',\n",
       " 'ultimoDespacho_datDespacho',\n",
       " 'ultimoDespacho_txtDespacho',\n",
       " 'situacao_id',\n",
       " 'situacao_descricao',\n",
       " 'situacao_principal_proposicaoPrincipal',\n",
       " 'situacao_principal_codProposicaoPrincipal',\n",
       " 'situacao_orgao_codOrgaoEstado',\n",
       " 'situacao_orgao_siglaOrgaoEstado']"
      ]
     },
     "execution_count": 54,
     "metadata": {},
     "output_type": "execute_result"
    }
   ],
   "source": [
    "list(proposicoes.columns)"
   ]
  },
  {
   "cell_type": "markdown",
   "metadata": {},
   "source": [
    "## Vamos tentar limpar nossos dados, retirar as colunas que são \"redundantes\" ou que não nos interessam no momento"
   ]
  },
  {
   "cell_type": "code",
   "execution_count": 60,
   "metadata": {},
   "outputs": [
    {
     "data": {
      "text/html": [
       "<div>\n",
       "<style>\n",
       "    .dataframe thead tr:only-child th {\n",
       "        text-align: right;\n",
       "    }\n",
       "\n",
       "    .dataframe thead th {\n",
       "        text-align: left;\n",
       "    }\n",
       "\n",
       "    .dataframe tbody tr th {\n",
       "        vertical-align: top;\n",
       "    }\n",
       "</style>\n",
       "<table border=\"1\" class=\"dataframe\">\n",
       "  <thead>\n",
       "    <tr style=\"text-align: right;\">\n",
       "      <th></th>\n",
       "      <th>tipoProposicao_id</th>\n",
       "      <th>tipoProposicao_nome</th>\n",
       "      <th>tipoProposicao_sigla</th>\n",
       "    </tr>\n",
       "  </thead>\n",
       "  <tbody>\n",
       "    <tr>\n",
       "      <th>0</th>\n",
       "      <td>139</td>\n",
       "      <td>Projeto de Lei</td>\n",
       "      <td>PL</td>\n",
       "    </tr>\n",
       "    <tr>\n",
       "      <th>1</th>\n",
       "      <td>139</td>\n",
       "      <td>Projeto de Lei</td>\n",
       "      <td>PL</td>\n",
       "    </tr>\n",
       "    <tr>\n",
       "      <th>2</th>\n",
       "      <td>139</td>\n",
       "      <td>Projeto de Lei</td>\n",
       "      <td>PL</td>\n",
       "    </tr>\n",
       "    <tr>\n",
       "      <th>3</th>\n",
       "      <td>139</td>\n",
       "      <td>Projeto de Lei</td>\n",
       "      <td>PL</td>\n",
       "    </tr>\n",
       "    <tr>\n",
       "      <th>4</th>\n",
       "      <td>139</td>\n",
       "      <td>Projeto de Lei</td>\n",
       "      <td>PL</td>\n",
       "    </tr>\n",
       "  </tbody>\n",
       "</table>\n",
       "</div>"
      ],
      "text/plain": [
       "   tipoProposicao_id tipoProposicao_nome tipoProposicao_sigla\n",
       "0                139      Projeto de Lei                   PL\n",
       "1                139      Projeto de Lei                   PL\n",
       "2                139      Projeto de Lei                   PL\n",
       "3                139      Projeto de Lei                   PL\n",
       "4                139      Projeto de Lei                   PL"
      ]
     },
     "execution_count": 60,
     "metadata": {},
     "output_type": "execute_result"
    }
   ],
   "source": [
    "proposicoes[['tipoProposicao_id', 'tipoProposicao_nome', 'tipoProposicao_sigla']].head()"
   ]
  },
  {
   "cell_type": "code",
   "execution_count": 62,
   "metadata": {},
   "outputs": [],
   "source": [
    "proposicoes.drop(['tipoProposicao_id', 'tipoProposicao_nome'], axis=1, inplace=True)"
   ]
  },
  {
   "cell_type": "code",
   "execution_count": 63,
   "metadata": {},
   "outputs": [
    {
     "data": {
      "text/plain": [
       "Index([u'id', u'nome', u'numero', u'ano', u'datApresentacao', u'txtEmenta',\n",
       "       u'txtExplicacaoEmenta', u'qtdAutores', u'indGenero',\n",
       "       u'qtdOrgaosComEstado', u'tipoProposicao_sigla', u'orgaoNumerador_sigla',\n",
       "       u'orgaoNumerador_nome', u'orgaoNumerador_id', u'regime_txtRegime',\n",
       "       u'regime_codRegime', u'apreciacao_txtApreciacao', u'apreciacao_id',\n",
       "       u'txtSiglaPartido', u'idecadastro', u'txtNomeAutor', u'codPartido',\n",
       "       u'txtSiglaUF', u'ultimoDespacho_datDespacho',\n",
       "       u'ultimoDespacho_txtDespacho', u'situacao_id', u'situacao_descricao',\n",
       "       u'situacao_principal_proposicaoPrincipal',\n",
       "       u'situacao_principal_codProposicaoPrincipal',\n",
       "       u'situacao_orgao_codOrgaoEstado', u'situacao_orgao_siglaOrgaoEstado'],\n",
       "      dtype='object')"
      ]
     },
     "execution_count": 63,
     "metadata": {},
     "output_type": "execute_result"
    }
   ],
   "source": [
    "proposicoes.columns"
   ]
  },
  {
   "cell_type": "code",
   "execution_count": 64,
   "metadata": {},
   "outputs": [
    {
     "data": {
      "text/html": [
       "<div>\n",
       "<style>\n",
       "    .dataframe thead tr:only-child th {\n",
       "        text-align: right;\n",
       "    }\n",
       "\n",
       "    .dataframe thead th {\n",
       "        text-align: left;\n",
       "    }\n",
       "\n",
       "    .dataframe tbody tr th {\n",
       "        vertical-align: top;\n",
       "    }\n",
       "</style>\n",
       "<table border=\"1\" class=\"dataframe\">\n",
       "  <thead>\n",
       "    <tr style=\"text-align: right;\">\n",
       "      <th></th>\n",
       "      <th>orgaoNumerador_sigla</th>\n",
       "      <th>orgaoNumerador_nome</th>\n",
       "      <th>orgaoNumerador_id</th>\n",
       "    </tr>\n",
       "  </thead>\n",
       "  <tbody>\n",
       "    <tr>\n",
       "      <th>0</th>\n",
       "      <td>PLEN</td>\n",
       "      <td>PLENÁRIO</td>\n",
       "      <td>180</td>\n",
       "    </tr>\n",
       "    <tr>\n",
       "      <th>1</th>\n",
       "      <td>PLEN</td>\n",
       "      <td>PLENÁRIO</td>\n",
       "      <td>180</td>\n",
       "    </tr>\n",
       "    <tr>\n",
       "      <th>2</th>\n",
       "      <td>PLEN</td>\n",
       "      <td>PLENÁRIO</td>\n",
       "      <td>180</td>\n",
       "    </tr>\n",
       "    <tr>\n",
       "      <th>3</th>\n",
       "      <td>PLEN</td>\n",
       "      <td>PLENÁRIO</td>\n",
       "      <td>180</td>\n",
       "    </tr>\n",
       "    <tr>\n",
       "      <th>4</th>\n",
       "      <td>PLEN</td>\n",
       "      <td>PLENÁRIO</td>\n",
       "      <td>180</td>\n",
       "    </tr>\n",
       "  </tbody>\n",
       "</table>\n",
       "</div>"
      ],
      "text/plain": [
       "  orgaoNumerador_sigla orgaoNumerador_nome  orgaoNumerador_id\n",
       "0                 PLEN            PLENÁRIO                180\n",
       "1                 PLEN            PLENÁRIO                180\n",
       "2                 PLEN            PLENÁRIO                180\n",
       "3                 PLEN            PLENÁRIO                180\n",
       "4                 PLEN            PLENÁRIO                180"
      ]
     },
     "execution_count": 64,
     "metadata": {},
     "output_type": "execute_result"
    }
   ],
   "source": [
    "proposicoes[['orgaoNumerador_sigla', 'orgaoNumerador_nome', 'orgaoNumerador_id']].head()"
   ]
  },
  {
   "cell_type": "code",
   "execution_count": 65,
   "metadata": {
    "collapsed": true
   },
   "outputs": [],
   "source": [
    "proposicoes.drop(['orgaoNumerador_sigla', 'orgaoNumerador_id'], axis=1, inplace=True)"
   ]
  },
  {
   "cell_type": "code",
   "execution_count": 66,
   "metadata": {},
   "outputs": [
    {
     "data": {
      "text/plain": [
       "['id',\n",
       " 'nome',\n",
       " 'numero',\n",
       " 'ano',\n",
       " 'datApresentacao',\n",
       " 'txtEmenta',\n",
       " 'txtExplicacaoEmenta',\n",
       " 'qtdAutores',\n",
       " 'indGenero',\n",
       " 'qtdOrgaosComEstado',\n",
       " 'tipoProposicao_sigla',\n",
       " 'orgaoNumerador_nome',\n",
       " 'regime_txtRegime',\n",
       " 'regime_codRegime',\n",
       " 'apreciacao_txtApreciacao',\n",
       " 'apreciacao_id',\n",
       " 'txtSiglaPartido',\n",
       " 'idecadastro',\n",
       " 'txtNomeAutor',\n",
       " 'codPartido',\n",
       " 'txtSiglaUF',\n",
       " 'ultimoDespacho_datDespacho',\n",
       " 'ultimoDespacho_txtDespacho',\n",
       " 'situacao_id',\n",
       " 'situacao_descricao',\n",
       " 'situacao_principal_proposicaoPrincipal',\n",
       " 'situacao_principal_codProposicaoPrincipal',\n",
       " 'situacao_orgao_codOrgaoEstado',\n",
       " 'situacao_orgao_siglaOrgaoEstado']"
      ]
     },
     "execution_count": 66,
     "metadata": {},
     "output_type": "execute_result"
    }
   ],
   "source": [
    "list(proposicoes.columns)"
   ]
  },
  {
   "cell_type": "code",
   "execution_count": 67,
   "metadata": {},
   "outputs": [
    {
     "data": {
      "text/html": [
       "<div>\n",
       "<style>\n",
       "    .dataframe thead tr:only-child th {\n",
       "        text-align: right;\n",
       "    }\n",
       "\n",
       "    .dataframe thead th {\n",
       "        text-align: left;\n",
       "    }\n",
       "\n",
       "    .dataframe tbody tr th {\n",
       "        vertical-align: top;\n",
       "    }\n",
       "</style>\n",
       "<table border=\"1\" class=\"dataframe\">\n",
       "  <thead>\n",
       "    <tr style=\"text-align: right;\">\n",
       "      <th></th>\n",
       "      <th>regime_txtRegime</th>\n",
       "      <th>regime_codRegime</th>\n",
       "    </tr>\n",
       "  </thead>\n",
       "  <tbody>\n",
       "    <tr>\n",
       "      <th>0</th>\n",
       "      <td>.</td>\n",
       "      <td>99</td>\n",
       "    </tr>\n",
       "    <tr>\n",
       "      <th>1</th>\n",
       "      <td>.</td>\n",
       "      <td>99</td>\n",
       "    </tr>\n",
       "    <tr>\n",
       "      <th>2</th>\n",
       "      <td>.</td>\n",
       "      <td>99</td>\n",
       "    </tr>\n",
       "    <tr>\n",
       "      <th>3</th>\n",
       "      <td>.</td>\n",
       "      <td>99</td>\n",
       "    </tr>\n",
       "    <tr>\n",
       "      <th>4</th>\n",
       "      <td>.</td>\n",
       "      <td>99</td>\n",
       "    </tr>\n",
       "  </tbody>\n",
       "</table>\n",
       "</div>"
      ],
      "text/plain": [
       "  regime_txtRegime  regime_codRegime\n",
       "0                .                99\n",
       "1                .                99\n",
       "2                .                99\n",
       "3                .                99\n",
       "4                .                99"
      ]
     },
     "execution_count": 67,
     "metadata": {},
     "output_type": "execute_result"
    }
   ],
   "source": [
    "proposicoes[['regime_txtRegime', 'regime_codRegime']].head()"
   ]
  },
  {
   "cell_type": "code",
   "execution_count": 68,
   "metadata": {
    "collapsed": true
   },
   "outputs": [],
   "source": [
    "proposicoes.drop(['regime_txtRegime', 'regime_codRegime'], axis=1, inplace=True)"
   ]
  },
  {
   "cell_type": "code",
   "execution_count": 69,
   "metadata": {},
   "outputs": [
    {
     "data": {
      "text/plain": [
       "['id',\n",
       " 'nome',\n",
       " 'numero',\n",
       " 'ano',\n",
       " 'datApresentacao',\n",
       " 'txtEmenta',\n",
       " 'txtExplicacaoEmenta',\n",
       " 'qtdAutores',\n",
       " 'indGenero',\n",
       " 'qtdOrgaosComEstado',\n",
       " 'tipoProposicao_sigla',\n",
       " 'orgaoNumerador_nome',\n",
       " 'apreciacao_txtApreciacao',\n",
       " 'apreciacao_id',\n",
       " 'txtSiglaPartido',\n",
       " 'idecadastro',\n",
       " 'txtNomeAutor',\n",
       " 'codPartido',\n",
       " 'txtSiglaUF',\n",
       " 'ultimoDespacho_datDespacho',\n",
       " 'ultimoDespacho_txtDespacho',\n",
       " 'situacao_id',\n",
       " 'situacao_descricao',\n",
       " 'situacao_principal_proposicaoPrincipal',\n",
       " 'situacao_principal_codProposicaoPrincipal',\n",
       " 'situacao_orgao_codOrgaoEstado',\n",
       " 'situacao_orgao_siglaOrgaoEstado']"
      ]
     },
     "execution_count": 69,
     "metadata": {},
     "output_type": "execute_result"
    }
   ],
   "source": [
    "list(proposicoes.columns)"
   ]
  },
  {
   "cell_type": "code",
   "execution_count": 70,
   "metadata": {},
   "outputs": [
    {
     "data": {
      "text/html": [
       "<div>\n",
       "<style>\n",
       "    .dataframe thead tr:only-child th {\n",
       "        text-align: right;\n",
       "    }\n",
       "\n",
       "    .dataframe thead th {\n",
       "        text-align: left;\n",
       "    }\n",
       "\n",
       "    .dataframe tbody tr th {\n",
       "        vertical-align: top;\n",
       "    }\n",
       "</style>\n",
       "<table border=\"1\" class=\"dataframe\">\n",
       "  <thead>\n",
       "    <tr style=\"text-align: right;\">\n",
       "      <th></th>\n",
       "      <th>apreciacao_txtApreciacao</th>\n",
       "      <th>apreciacao_id</th>\n",
       "    </tr>\n",
       "  </thead>\n",
       "  <tbody>\n",
       "    <tr>\n",
       "      <th>0</th>\n",
       "      <td>.</td>\n",
       "      <td>99</td>\n",
       "    </tr>\n",
       "    <tr>\n",
       "      <th>1</th>\n",
       "      <td>.</td>\n",
       "      <td>99</td>\n",
       "    </tr>\n",
       "    <tr>\n",
       "      <th>2</th>\n",
       "      <td>.</td>\n",
       "      <td>99</td>\n",
       "    </tr>\n",
       "    <tr>\n",
       "      <th>3</th>\n",
       "      <td>.</td>\n",
       "      <td>99</td>\n",
       "    </tr>\n",
       "    <tr>\n",
       "      <th>4</th>\n",
       "      <td>.</td>\n",
       "      <td>99</td>\n",
       "    </tr>\n",
       "  </tbody>\n",
       "</table>\n",
       "</div>"
      ],
      "text/plain": [
       "  apreciacao_txtApreciacao  apreciacao_id\n",
       "0                        .             99\n",
       "1                        .             99\n",
       "2                        .             99\n",
       "3                        .             99\n",
       "4                        .             99"
      ]
     },
     "execution_count": 70,
     "metadata": {},
     "output_type": "execute_result"
    }
   ],
   "source": [
    "proposicoes[['apreciacao_txtApreciacao', 'apreciacao_id']].head()"
   ]
  },
  {
   "cell_type": "code",
   "execution_count": 71,
   "metadata": {
    "collapsed": true
   },
   "outputs": [],
   "source": [
    "proposicoes.drop(['apreciacao_txtApreciacao', 'apreciacao_id'], axis=1, inplace=True)"
   ]
  },
  {
   "cell_type": "code",
   "execution_count": 72,
   "metadata": {
    "collapsed": true
   },
   "outputs": [],
   "source": [
    "proposicoes.drop(['ultimoDespacho_datDespacho', 'ultimoDespacho_txtDespacho', 'situacao_id', 'situacao_descricao', 'situacao_principal_proposicaoPrincipal', 'situacao_principal_codProposicaoPrincipal', 'situacao_orgao_codOrgaoEstado', 'situacao_orgao_siglaOrgaoEstado'], axis=1, inplace=True)"
   ]
  },
  {
   "cell_type": "code",
   "execution_count": 74,
   "metadata": {},
   "outputs": [
    {
     "data": {
      "text/plain": [
       "['id',\n",
       " 'nome',\n",
       " 'numero',\n",
       " 'ano',\n",
       " 'datApresentacao',\n",
       " 'txtEmenta',\n",
       " 'txtExplicacaoEmenta',\n",
       " 'qtdAutores',\n",
       " 'indGenero',\n",
       " 'qtdOrgaosComEstado',\n",
       " 'tipoProposicao_sigla',\n",
       " 'orgaoNumerador_nome',\n",
       " 'txtSiglaPartido',\n",
       " 'idecadastro',\n",
       " 'txtNomeAutor',\n",
       " 'codPartido',\n",
       " 'txtSiglaUF']"
      ]
     },
     "execution_count": 74,
     "metadata": {},
     "output_type": "execute_result"
    }
   ],
   "source": [
    "list(proposicoes.columns)"
   ]
  },
  {
   "cell_type": "code",
   "execution_count": 76,
   "metadata": {},
   "outputs": [],
   "source": [
    "proposicoes.drop(['indGenero'], axis=1, inplace=True)"
   ]
  },
  {
   "cell_type": "code",
   "execution_count": 87,
   "metadata": {},
   "outputs": [
    {
     "data": {
      "text/plain": [
       "['id',\n",
       " 'nome',\n",
       " 'numero',\n",
       " 'ano',\n",
       " 'datApresentacao',\n",
       " 'txtEmenta',\n",
       " 'txtExplicacaoEmenta',\n",
       " 'tipoProposicao_sigla',\n",
       " 'orgaoNumerador_nome',\n",
       " 'txtSiglaPartido',\n",
       " 'idecadastro',\n",
       " 'txtNomeAutor',\n",
       " 'txtSiglaUF']"
      ]
     },
     "execution_count": 87,
     "metadata": {},
     "output_type": "execute_result"
    }
   ],
   "source": [
    "list(proposicoes.columns)"
   ]
  },
  {
   "cell_type": "code",
   "execution_count": 85,
   "metadata": {},
   "outputs": [],
   "source": [
    "proposicoes.drop('qtdOrgaosComEstado', axis=1, inplace=True)"
   ]
  },
  {
   "cell_type": "code",
   "execution_count": 88,
   "metadata": {},
   "outputs": [
    {
     "data": {
      "text/plain": [
       "0    178828\n",
       "1    195866\n",
       "2     74787\n",
       "3    141401\n",
       "4     74399\n",
       "Name: idecadastro, dtype: int64"
      ]
     },
     "execution_count": 88,
     "metadata": {},
     "output_type": "execute_result"
    }
   ],
   "source": [
    "proposicoes['idecadastro'].head()"
   ]
  },
  {
   "cell_type": "markdown",
   "metadata": {},
   "source": [
    "### Salvando em um CSV"
   ]
  },
  {
   "cell_type": "code",
   "execution_count": 55,
   "metadata": {
    "collapsed": true
   },
   "outputs": [],
   "source": [
    "proposicoes.to_csv('../data/proposicoes_PL.csv', sep=',')"
   ]
  },
  {
   "cell_type": "code",
   "execution_count": null,
   "metadata": {
    "collapsed": true
   },
   "outputs": [],
   "source": []
  }
 ],
 "metadata": {
  "kernelspec": {
   "display_name": "Python 2",
   "language": "python",
   "name": "python2"
  },
  "language_info": {
   "codemirror_mode": {
    "name": "ipython",
    "version": 2
   },
   "file_extension": ".py",
   "mimetype": "text/x-python",
   "name": "python",
   "nbconvert_exporter": "python",
   "pygments_lexer": "ipython2",
   "version": "2.7.12"
  }
 },
 "nbformat": 4,
 "nbformat_minor": 2
}
