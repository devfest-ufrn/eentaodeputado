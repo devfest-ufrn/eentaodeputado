{
 "cells": [
  {
   "cell_type": "code",
   "execution_count": 1,
   "metadata": {
    "collapsed": true
   },
   "outputs": [],
   "source": [
    "import pandas as pd\n",
    "import numpy as np\n",
    "import matplotlib.pyplot as plt\n",
    "import seaborn as sns\n",
    "import requests as re\n",
    "import xmltodict as xml2dict\n",
    "from collections import OrderedDict\n",
    "\n",
    "%matplotlib inline"
   ]
  },
  {
   "cell_type": "code",
   "execution_count": 34,
   "metadata": {
    "collapsed": true
   },
   "outputs": [],
   "source": [
    "url = 'http://www.camara.leg.br/SitCamaraWS/Proposicoes.asmx/ListarProposicoes'\n",
    "params = {\n",
    "    'sigla':'',\n",
    "    'numero':'',\n",
    "    'ano':'',\n",
    "    'datApresentacaoIni':'',\n",
    "    'datApresentacaoFim':'',\n",
    "    'parteNomeAutor':'',\n",
    "    'idTipoAutor':'',\n",
    "    'siglaPartidoAutor':'',\n",
    "    'siglaUFAutor':'',\n",
    "    'generoAutor':'',\n",
    "    'codEstado':'',\n",
    "    'codOrgaoEstado':'',\n",
    "    'emTramitacao':''\n",
    "}"
   ]
  },
  {
   "cell_type": "code",
   "execution_count": 35,
   "metadata": {},
   "outputs": [
    {
     "name": "stdout",
     "output_type": "stream",
     "text": [
      "URL: http://www.camara.leg.br/SitCamaraWS/Proposicoes.asmx/ListarProposicoes?generoAutor=&siglaUFAutor=&ano=2017&numero=&codOrgaoEstado=&emTramitacao=&datApresentacaoIni=&idTipoAutor=&siglaPartidoAutor=&codEstado=&datApresentacaoFim=&parteNomeAutor=&sigla=PL\n",
      "Status: 200\n"
     ]
    }
   ],
   "source": [
    "params['sigla'] = 'PL'\n",
    "params['ano'] = '2017'\n",
    "response = re.get(url, params)\n",
    "print('URL: %s\\nStatus: %s' % (response.url, response.status_code))"
   ]
  },
  {
   "cell_type": "code",
   "execution_count": 36,
   "metadata": {
    "collapsed": true
   },
   "outputs": [],
   "source": [
    "tree = xml2dict.parse(response.content)\n"
   ]
  },
  {
   "cell_type": "code",
   "execution_count": 37,
   "metadata": {},
   "outputs": [
    {
     "data": {
      "text/plain": [
       "[u'proposicoes']"
      ]
     },
     "execution_count": 37,
     "metadata": {},
     "output_type": "execute_result"
    }
   ],
   "source": [
    "tree.keys()"
   ]
  },
  {
   "cell_type": "code",
   "execution_count": 38,
   "metadata": {},
   "outputs": [
    {
     "data": {
      "text/plain": [
       "[u'proposicao']"
      ]
     },
     "execution_count": 38,
     "metadata": {},
     "output_type": "execute_result"
    }
   ],
   "source": [
    "proposicoes = tree['proposicoes']\n",
    "[x for x in proposicoes.keys()]"
   ]
  },
  {
   "cell_type": "code",
   "execution_count": 39,
   "metadata": {},
   "outputs": [
    {
     "data": {
      "text/plain": [
       "[u'id',\n",
       " u'nome',\n",
       " u'tipoProposicao',\n",
       " u'numero',\n",
       " u'ano',\n",
       " u'orgaoNumerador',\n",
       " u'datApresentacao',\n",
       " u'txtEmenta',\n",
       " u'txtExplicacaoEmenta',\n",
       " u'regime',\n",
       " u'apreciacao',\n",
       " u'autor1',\n",
       " u'qtdAutores',\n",
       " u'ultimoDespacho',\n",
       " u'situacao',\n",
       " u'indGenero',\n",
       " u'qtdOrgaosComEstado']"
      ]
     },
     "execution_count": 39,
     "metadata": {},
     "output_type": "execute_result"
    }
   ],
   "source": [
    "proposicoes['proposicao'][0].keys()"
   ]
  },
  {
   "cell_type": "code",
   "execution_count": 82,
   "metadata": {
    "collapsed": true
   },
   "outputs": [],
   "source": [
    "proposicao = proposicoes['proposicao']"
   ]
  },
  {
   "cell_type": "markdown",
   "metadata": {},
   "source": [
    "## Nosso resultado tem dicionários aninhados, segue o algoritmo que resolve esse problema"
   ]
  },
  {
   "cell_type": "code",
   "execution_count": 83,
   "metadata": {
    "collapsed": true
   },
   "outputs": [],
   "source": [
    "new_dict = {}\n",
    "chaves_to_delete = []\n",
    "\n",
    "for prop in proposicao:\n",
    "    for item in prop:\n",
    "        if isinstance(prop[item], OrderedDict):\n",
    "            for x in prop[item].items():\n",
    "                new_dict[item+'_'+x[0]] = x[1]\n",
    "            chaves_to_delete.append(item)\n",
    "            prop.update(new_dict)"
   ]
  },
  {
   "cell_type": "code",
   "execution_count": 84,
   "metadata": {
    "collapsed": true
   },
   "outputs": [],
   "source": [
    "for prop in proposicao:\n",
    "    for chave in prop.keys():\n",
    "        if chave in chaves_to_delete:\n",
    "            del prop[chave]"
   ]
  },
  {
   "cell_type": "code",
   "execution_count": 103,
   "metadata": {},
   "outputs": [
    {
     "name": "stdout",
     "output_type": "stream",
     "text": [
      "2299\n"
     ]
    }
   ],
   "source": [
    "proposicao_df = pd.DataFrame(proposicao)\n",
    "proposicao_df.head()\n",
    "print(len(proposicao_df))"
   ]
  },
  {
   "cell_type": "code",
   "execution_count": 104,
   "metadata": {},
   "outputs": [
    {
     "name": "stdout",
     "output_type": "stream",
     "text": [
      "2299 linhas, 33 colunas\n"
     ]
    }
   ],
   "source": [
    "shape = proposicao_df.shape\n",
    "print('%s linhas, %s colunas' % (shape[0], shape[1]))"
   ]
  },
  {
   "cell_type": "code",
   "execution_count": 105,
   "metadata": {},
   "outputs": [
    {
     "data": {
      "text/plain": [
       "Index([u'id', u'nome', u'numero', u'ano', u'datApresentacao', u'txtEmenta',\n",
       "       u'txtExplicacaoEmenta', u'qtdAutores', u'indGenero',\n",
       "       u'qtdOrgaosComEstado', u'tipoProposicao_id', u'tipoProposicao_sigla',\n",
       "       u'tipoProposicao_nome', u'orgaoNumerador_sigla', u'orgaoNumerador_nome',\n",
       "       u'orgaoNumerador_id', u'regime_txtRegime', u'regime_codRegime',\n",
       "       u'apreciacao_txtApreciacao', u'apreciacao_id',\n",
       "       u'autor1_txtSiglaPartido', u'autor1_idecadastro',\n",
       "       u'autor1_txtNomeAutor', u'autor1_codPartido', u'autor1_txtSiglaUF',\n",
       "       u'ultimoDespacho_datDespacho', u'ultimoDespacho_txtDespacho',\n",
       "       u'situacao_id', u'situacao_descricao',\n",
       "       u'situacao_principal_proposicaoPrincipal',\n",
       "       u'situacao_principal_codProposicaoPrincipal',\n",
       "       u'situacao_orgao_codOrgaoEstado', u'situacao_orgao_siglaOrgaoEstado'],\n",
       "      dtype='object')"
      ]
     },
     "execution_count": 105,
     "metadata": {},
     "output_type": "execute_result"
    }
   ],
   "source": [
    "proposicao_df.columns"
   ]
  },
  {
   "cell_type": "code",
   "execution_count": 115,
   "metadata": {},
   "outputs": [
    {
     "name": "stdout",
     "output_type": "stream",
     "text": [
      "Index([u'id', u'nome', u'numero', u'ano', u'datApresentacao', u'txtEmenta',\n",
      "       u'txtExplicacaoEmenta', u'qtdAutores', u'indGenero',\n",
      "       u'qtdOrgaosComEstado', u'tipoProposicao_id', u'tipoProposicao_sigla',\n",
      "       u'tipoProposicao_nome', u'orgaoNumerador_sigla', u'orgaoNumerador_nome',\n",
      "       u'orgaoNumerador_id', u'regime_txtRegime', u'regime_codRegime',\n",
      "       u'apreciacao_txtApreciacao', u'apreciacao_id',\n",
      "       u'autor1_txtSiglaPartido', u'autor1_idecadastro',\n",
      "       u'autor1_txtNomeAutor', u'autor1_codPartido', u'autor1_txtSiglaUF',\n",
      "       u'ultimoDespacho_datDespacho', u'ultimoDespacho_txtDespacho',\n",
      "       u'situacao_id', u'situacao_descricao',\n",
      "       u'situacao_principal_proposicaoPrincipal',\n",
      "       u'situacao_principal_codProposicaoPrincipal',\n",
      "       u'situacao_orgao_codOrgaoEstado', u'situacao_orgao_siglaOrgaoEstado'],\n",
      "      dtype='object')\n"
     ]
    }
   ],
   "source": [
    "print(proposicao_df.columns)\n",
    "proposicao_clean = proposicao_df[pd.notnull(proposicao_df['autor1_idecadastro'])]"
   ]
  },
  {
   "cell_type": "code",
   "execution_count": 118,
   "metadata": {
    "collapsed": true
   },
   "outputs": [],
   "source": [
    "proposicao_clean.to_csv('../data/proposicoes_PL.csv', sep=',', encoding='utf-8')"
   ]
  },
  {
   "cell_type": "markdown",
   "metadata": {},
   "source": [
    "### Podemos ver que nosso dataset possui a relação que precisávamos *( deputados <-> proposições )*"
   ]
  },
  {
   "cell_type": "code",
   "execution_count": 125,
   "metadata": {},
   "outputs": [
    {
     "data": {
      "text/html": [
       "<div>\n",
       "<style>\n",
       "    .dataframe thead tr:only-child th {\n",
       "        text-align: right;\n",
       "    }\n",
       "\n",
       "    .dataframe thead th {\n",
       "        text-align: left;\n",
       "    }\n",
       "\n",
       "    .dataframe tbody tr th {\n",
       "        vertical-align: top;\n",
       "    }\n",
       "</style>\n",
       "<table border=\"1\" class=\"dataframe\">\n",
       "  <thead>\n",
       "    <tr style=\"text-align: right;\">\n",
       "      <th></th>\n",
       "      <th>autor1_idecadastro</th>\n",
       "      <th>autor1_txtNomeAutor</th>\n",
       "    </tr>\n",
       "  </thead>\n",
       "  <tbody>\n",
       "    <tr>\n",
       "      <th>0</th>\n",
       "      <td>178828</td>\n",
       "      <td>Evandro Gussi</td>\n",
       "    </tr>\n",
       "    <tr>\n",
       "      <th>1</th>\n",
       "      <td>195866</td>\n",
       "      <td>Vaidon Oliveira</td>\n",
       "    </tr>\n",
       "    <tr>\n",
       "      <th>2</th>\n",
       "      <td>74787</td>\n",
       "      <td>Milton Monti</td>\n",
       "    </tr>\n",
       "    <tr>\n",
       "      <th>3</th>\n",
       "      <td>141401</td>\n",
       "      <td>Carlos Bezerra</td>\n",
       "    </tr>\n",
       "    <tr>\n",
       "      <th>4</th>\n",
       "      <td>74399</td>\n",
       "      <td>Onyx Lorenzoni</td>\n",
       "    </tr>\n",
       "  </tbody>\n",
       "</table>\n",
       "</div>"
      ],
      "text/plain": [
       "   autor1_idecadastro autor1_txtNomeAutor\n",
       "0              178828       Evandro Gussi\n",
       "1              195866     Vaidon Oliveira\n",
       "2               74787        Milton Monti\n",
       "3              141401      Carlos Bezerra\n",
       "4               74399      Onyx Lorenzoni"
      ]
     },
     "execution_count": 125,
     "metadata": {},
     "output_type": "execute_result"
    }
   ],
   "source": [
    "p = pd.read_csv('../data/proposicoes_PL.csv')\n",
    "p[['autor1_idecadastro', 'autor1_txtNomeAutor']].head()"
   ]
  },
  {
   "cell_type": "code",
   "execution_count": null,
   "metadata": {
    "collapsed": true
   },
   "outputs": [],
   "source": []
  }
 ],
 "metadata": {
  "kernelspec": {
   "display_name": "Python 2",
   "language": "python",
   "name": "python2"
  },
  "language_info": {
   "codemirror_mode": {
    "name": "ipython",
    "version": 2
   },
   "file_extension": ".py",
   "mimetype": "text/x-python",
   "name": "python",
   "nbconvert_exporter": "python",
   "pygments_lexer": "ipython2",
   "version": "2.7.12"
  }
 },
 "nbformat": 4,
 "nbformat_minor": 2
}
