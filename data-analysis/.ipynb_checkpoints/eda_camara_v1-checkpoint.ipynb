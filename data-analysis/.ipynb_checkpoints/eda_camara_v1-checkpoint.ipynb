{
 "cells": [
  {
   "cell_type": "code",
   "execution_count": 1,
   "metadata": {
    "collapsed": true
   },
   "outputs": [],
   "source": [
    "import requests as re\n",
    "import pandas as pd\n",
    "import numpy as np\n",
    "import xmltodict\n",
    "import xml.etree.ElementTree as ET\n",
    "import matplotlib.pyplot as plt\n",
    "import seaborn as sns\n",
    "%matplotlib inline"
   ]
  },
  {
   "cell_type": "markdown",
   "metadata": {},
   "source": [
    "## Lista de endpoints disponíveis"
   ]
  },
  {
   "cell_type": "code",
   "execution_count": 2,
   "metadata": {
    "collapsed": true
   },
   "outputs": [],
   "source": [
    "endpoints = {\n",
    "    'obterDeputados': 'http://www.camara.leg.br/SitCamaraWS/deputados.asmx/ObterDeputados', \n",
    "    'listarPresencasParlamentar': 'http://www.camara.leg.br/SitCamaraWS/sessoesreunioes.asmx/ListarPresencasParlamentar', \n",
    "    'listarPresencasDia': 'http://www.camara.leg.br/SitCamaraWS/sessoesreunioes.asmx/ListarPresencasDia',\n",
    "    'obterVotacaoProposicao':'http://www.camara.leg.br/SitCamaraWS/Proposicoes.asmx/ObterVotacaoProposicao'\n",
    "}"
   ]
  },
  {
   "cell_type": "code",
   "execution_count": 3,
   "metadata": {
    "collapsed": true
   },
   "outputs": [],
   "source": [
    "def fetch_data(url, params=None):\n",
    "    response = re.get(url, params=params)\n",
    "    print('Url: %s\\nStatus: %s' % (response.url, response.status_code))\n",
    "    return xmltodict.parse(response.content)"
   ]
  },
  {
   "cell_type": "markdown",
   "metadata": {},
   "source": [
    "## Obter _dataset_ de deputados e salvar em um csv"
   ]
  },
  {
   "cell_type": "code",
   "execution_count": 4,
   "metadata": {},
   "outputs": [
    {
     "name": "stdout",
     "output_type": "stream",
     "text": [
      "Url: http://www.camara.leg.br/SitCamaraWS/deputados.asmx/ObterDeputados\n",
      "Status: 200\n"
     ]
    }
   ],
   "source": [
    "root = fetch_data(endpoints['obterDeputados'])"
   ]
  },
  {
   "cell_type": "code",
   "execution_count": 5,
   "metadata": {},
   "outputs": [],
   "source": [
    "deputados = root['deputados']['deputado']\n",
    "deputados_df = pd.DataFrame.from_dict(deputados, orient='columns')\n"
   ]
  },
  {
   "cell_type": "code",
   "execution_count": 6,
   "metadata": {},
   "outputs": [
    {
     "name": "stdout",
     "output_type": "stream",
     "text": [
      "Quantidade de deputados: 513\n",
      "Quantidade de colunas: 16\n"
     ]
    }
   ],
   "source": [
    "print('Quantidade de deputados: %d\\nQuantidade de colunas: %d' % (deputados_df.shape))"
   ]
  },
  {
   "cell_type": "code",
   "execution_count": 215,
   "metadata": {},
   "outputs": [
    {
     "data": {
      "text/html": [
       "<div>\n",
       "<style>\n",
       "    .dataframe thead tr:only-child th {\n",
       "        text-align: right;\n",
       "    }\n",
       "\n",
       "    .dataframe thead th {\n",
       "        text-align: left;\n",
       "    }\n",
       "\n",
       "    .dataframe tbody tr th {\n",
       "        vertical-align: top;\n",
       "    }\n",
       "</style>\n",
       "<table border=\"1\" class=\"dataframe\">\n",
       "  <thead>\n",
       "    <tr style=\"text-align: right;\">\n",
       "      <th></th>\n",
       "      <th>ideCadastro</th>\n",
       "      <th>codOrcamento</th>\n",
       "      <th>condicao</th>\n",
       "      <th>matricula</th>\n",
       "      <th>idParlamentar</th>\n",
       "      <th>nome</th>\n",
       "      <th>nomeParlamentar</th>\n",
       "      <th>urlFoto</th>\n",
       "      <th>sexo</th>\n",
       "      <th>uf</th>\n",
       "      <th>partido</th>\n",
       "      <th>gabinete</th>\n",
       "      <th>anexo</th>\n",
       "      <th>fone</th>\n",
       "      <th>email</th>\n",
       "      <th>comissoes</th>\n",
       "    </tr>\n",
       "  </thead>\n",
       "  <tbody>\n",
       "    <tr>\n",
       "      <th>0</th>\n",
       "      <td>178980</td>\n",
       "      <td>3283</td>\n",
       "      <td>Titular</td>\n",
       "      <td>361</td>\n",
       "      <td>5830382</td>\n",
       "      <td>ANTONIO GOULART DOS REIS</td>\n",
       "      <td>GOULART</td>\n",
       "      <td>http://www.camara.gov.br/internet/deputado/ban...</td>\n",
       "      <td>masculino</td>\n",
       "      <td>SP</td>\n",
       "      <td>PSD</td>\n",
       "      <td>533</td>\n",
       "      <td>4</td>\n",
       "      <td>3215-5533</td>\n",
       "      <td>dep.goulart@camara.gov.br</td>\n",
       "      <td>{u'titular': None, u'suplente': None}</td>\n",
       "    </tr>\n",
       "    <tr>\n",
       "      <th>1</th>\n",
       "      <td>141335</td>\n",
       "      <td>2152</td>\n",
       "      <td>Titular</td>\n",
       "      <td>19</td>\n",
       "      <td>5830714</td>\n",
       "      <td>JOSÉ ROBERTO OLIVEIRA FARO</td>\n",
       "      <td>BETO FARO</td>\n",
       "      <td>http://www.camara.gov.br/internet/deputado/ban...</td>\n",
       "      <td>masculino</td>\n",
       "      <td>PA</td>\n",
       "      <td>PT</td>\n",
       "      <td>723</td>\n",
       "      <td>4</td>\n",
       "      <td>3215-5723</td>\n",
       "      <td>dep.betofaro@camara.gov.br</td>\n",
       "      <td>{u'titular': None, u'suplente': None}</td>\n",
       "    </tr>\n",
       "    <tr>\n",
       "      <th>2</th>\n",
       "      <td>141531</td>\n",
       "      <td>2488</td>\n",
       "      <td>Titular</td>\n",
       "      <td>268</td>\n",
       "      <td>5830453</td>\n",
       "      <td>RODRIGO BATISTA DE CASTRO</td>\n",
       "      <td>RODRIGO DE CASTRO</td>\n",
       "      <td>http://www.camara.gov.br/internet/deputado/ban...</td>\n",
       "      <td>masculino</td>\n",
       "      <td>MG</td>\n",
       "      <td>PSDB</td>\n",
       "      <td>701</td>\n",
       "      <td>4</td>\n",
       "      <td>3215-5701</td>\n",
       "      <td>dep.rodrigodecastro@camara.gov.br</td>\n",
       "      <td>{u'titular': None, u'suplente': None}</td>\n",
       "    </tr>\n",
       "    <tr>\n",
       "      <th>3</th>\n",
       "      <td>141478</td>\n",
       "      <td>2551</td>\n",
       "      <td>Titular</td>\n",
       "      <td>412</td>\n",
       "      <td>5830785</td>\n",
       "      <td>LAERTE RODRIGUES DE BESSA</td>\n",
       "      <td>LAERTE BESSA</td>\n",
       "      <td>http://www.camara.gov.br/internet/deputado/ban...</td>\n",
       "      <td>masculino</td>\n",
       "      <td>DF</td>\n",
       "      <td>PR</td>\n",
       "      <td>340</td>\n",
       "      <td>4</td>\n",
       "      <td>3215-5340</td>\n",
       "      <td>dep.laertebessa@camara.gov.br</td>\n",
       "      <td>{u'titular': None, u'suplente': None}</td>\n",
       "    </tr>\n",
       "    <tr>\n",
       "      <th>4</th>\n",
       "      <td>178826</td>\n",
       "      <td>3712</td>\n",
       "      <td>Titular</td>\n",
       "      <td>368</td>\n",
       "      <td>5830405</td>\n",
       "      <td>SERGIO OLIMPIO GOMES</td>\n",
       "      <td>MAJOR OLIMPIO</td>\n",
       "      <td>http://www.camara.gov.br/internet/deputado/ban...</td>\n",
       "      <td>masculino</td>\n",
       "      <td>SP</td>\n",
       "      <td>SD</td>\n",
       "      <td>279</td>\n",
       "      <td>3</td>\n",
       "      <td>3215-5279</td>\n",
       "      <td>dep.majorolimpio@camara.gov.br</td>\n",
       "      <td>{u'titular': None, u'suplente': None}</td>\n",
       "    </tr>\n",
       "  </tbody>\n",
       "</table>\n",
       "</div>"
      ],
      "text/plain": [
       "  ideCadastro codOrcamento condicao matricula idParlamentar  \\\n",
       "0      178980         3283  Titular       361       5830382   \n",
       "1      141335         2152  Titular        19       5830714   \n",
       "2      141531         2488  Titular       268       5830453   \n",
       "3      141478         2551  Titular       412       5830785   \n",
       "4      178826         3712  Titular       368       5830405   \n",
       "\n",
       "                         nome    nomeParlamentar  \\\n",
       "0    ANTONIO GOULART DOS REIS            GOULART   \n",
       "1  JOSÉ ROBERTO OLIVEIRA FARO          BETO FARO   \n",
       "2   RODRIGO BATISTA DE CASTRO  RODRIGO DE CASTRO   \n",
       "3   LAERTE RODRIGUES DE BESSA       LAERTE BESSA   \n",
       "4        SERGIO OLIMPIO GOMES      MAJOR OLIMPIO   \n",
       "\n",
       "                                             urlFoto       sexo  uf partido  \\\n",
       "0  http://www.camara.gov.br/internet/deputado/ban...  masculino  SP     PSD   \n",
       "1  http://www.camara.gov.br/internet/deputado/ban...  masculino  PA      PT   \n",
       "2  http://www.camara.gov.br/internet/deputado/ban...  masculino  MG    PSDB   \n",
       "3  http://www.camara.gov.br/internet/deputado/ban...  masculino  DF      PR   \n",
       "4  http://www.camara.gov.br/internet/deputado/ban...  masculino  SP      SD   \n",
       "\n",
       "  gabinete anexo       fone                              email  \\\n",
       "0      533     4  3215-5533          dep.goulart@camara.gov.br   \n",
       "1      723     4  3215-5723         dep.betofaro@camara.gov.br   \n",
       "2      701     4  3215-5701  dep.rodrigodecastro@camara.gov.br   \n",
       "3      340     4  3215-5340      dep.laertebessa@camara.gov.br   \n",
       "4      279     3  3215-5279     dep.majorolimpio@camara.gov.br   \n",
       "\n",
       "                               comissoes  \n",
       "0  {u'titular': None, u'suplente': None}  \n",
       "1  {u'titular': None, u'suplente': None}  \n",
       "2  {u'titular': None, u'suplente': None}  \n",
       "3  {u'titular': None, u'suplente': None}  \n",
       "4  {u'titular': None, u'suplente': None}  "
      ]
     },
     "execution_count": 215,
     "metadata": {},
     "output_type": "execute_result"
    }
   ],
   "source": [
    "\n",
    "deputados_df.head()"
   ]
  },
  {
   "cell_type": "code",
   "execution_count": 7,
   "metadata": {
    "collapsed": true
   },
   "outputs": [],
   "source": [
    "# Salva dados em Csv\n",
    "deputados_df.to_csv('deputados.csv', encoding='utf-8')"
   ]
  },
  {
   "cell_type": "markdown",
   "metadata": {},
   "source": [
    "## Minerando presenças dos deputados\n",
    "\n",
    "Foi-se utilizado uma base previamente limpa, que pode ser encontrada neste link: https://raw.githubusercontent.com/nazareno/dados-da-camara-federal/master/dados/votacoes.csv"
   ]
  },
  {
   "cell_type": "code",
   "execution_count": 8,
   "metadata": {},
   "outputs": [
    {
     "data": {
      "text/plain": [
       "Index([u'tipo', u'num_pro', u'ano', u'id_votacao', u'data', u'hora', u'sessao',\n",
       "       u'nome', u'id_dep', u'partido', u'uf', u'voto', u'orientacao_partido',\n",
       "       u'orientacao_gov'],\n",
       "      dtype='object')"
      ]
     },
     "execution_count": 8,
     "metadata": {},
     "output_type": "execute_result"
    }
   ],
   "source": [
    "votacoes = pd.read_csv('https://raw.githubusercontent.com/nazareno/dados-da-camara-federal/master/dados/votacoes.csv')\n",
    "votacoes.columns"
   ]
  },
  {
   "cell_type": "code",
   "execution_count": 9,
   "metadata": {},
   "outputs": [
    {
     "data": {
      "text/plain": [
       "(243916, 14)"
      ]
     },
     "execution_count": 9,
     "metadata": {},
     "output_type": "execute_result"
    }
   ],
   "source": [
    "votacoes.shape"
   ]
  },
  {
   "cell_type": "code",
   "execution_count": 10,
   "metadata": {
    "scrolled": false
   },
   "outputs": [
    {
     "data": {
      "text/html": [
       "<div>\n",
       "<style>\n",
       "    .dataframe thead tr:only-child th {\n",
       "        text-align: right;\n",
       "    }\n",
       "\n",
       "    .dataframe thead th {\n",
       "        text-align: left;\n",
       "    }\n",
       "\n",
       "    .dataframe tbody tr th {\n",
       "        vertical-align: top;\n",
       "    }\n",
       "</style>\n",
       "<table border=\"1\" class=\"dataframe\">\n",
       "  <thead>\n",
       "    <tr style=\"text-align: right;\">\n",
       "      <th></th>\n",
       "      <th>tipo</th>\n",
       "      <th>num_pro</th>\n",
       "      <th>ano</th>\n",
       "      <th>id_votacao</th>\n",
       "      <th>data</th>\n",
       "      <th>hora</th>\n",
       "      <th>sessao</th>\n",
       "      <th>nome</th>\n",
       "      <th>id_dep</th>\n",
       "      <th>partido</th>\n",
       "      <th>uf</th>\n",
       "      <th>voto</th>\n",
       "      <th>orientacao_partido</th>\n",
       "      <th>orientacao_gov</th>\n",
       "    </tr>\n",
       "  </thead>\n",
       "  <tbody>\n",
       "    <tr>\n",
       "      <th>0</th>\n",
       "      <td>PEC</td>\n",
       "      <td>1</td>\n",
       "      <td>2015</td>\n",
       "      <td>1</td>\n",
       "      <td>22/3/2016</td>\n",
       "      <td>76200</td>\n",
       "      <td>5820</td>\n",
       "      <td>Ariosto Holanda</td>\n",
       "      <td>74103.0</td>\n",
       "      <td>pdt</td>\n",
       "      <td>CE</td>\n",
       "      <td>sim</td>\n",
       "      <td>sim</td>\n",
       "      <td>sim</td>\n",
       "    </tr>\n",
       "    <tr>\n",
       "      <th>1</th>\n",
       "      <td>PEC</td>\n",
       "      <td>1</td>\n",
       "      <td>2015</td>\n",
       "      <td>1</td>\n",
       "      <td>22/3/2016</td>\n",
       "      <td>76200</td>\n",
       "      <td>5820</td>\n",
       "      <td>Flavio Nogueira</td>\n",
       "      <td>191923.0</td>\n",
       "      <td>pdt</td>\n",
       "      <td>PI</td>\n",
       "      <td>sim</td>\n",
       "      <td>sim</td>\n",
       "      <td>sim</td>\n",
       "    </tr>\n",
       "    <tr>\n",
       "      <th>2</th>\n",
       "      <td>PEC</td>\n",
       "      <td>1</td>\n",
       "      <td>2015</td>\n",
       "      <td>1</td>\n",
       "      <td>22/3/2016</td>\n",
       "      <td>76200</td>\n",
       "      <td>5820</td>\n",
       "      <td>Zé Augusto Nalin</td>\n",
       "      <td>191945.0</td>\n",
       "      <td>pmdb</td>\n",
       "      <td>RJ</td>\n",
       "      <td>sim</td>\n",
       "      <td>NaN</td>\n",
       "      <td>sim</td>\n",
       "    </tr>\n",
       "    <tr>\n",
       "      <th>3</th>\n",
       "      <td>PEC</td>\n",
       "      <td>1</td>\n",
       "      <td>2015</td>\n",
       "      <td>1</td>\n",
       "      <td>22/3/2016</td>\n",
       "      <td>76200</td>\n",
       "      <td>5820</td>\n",
       "      <td>Paulo Henrique Lustosa</td>\n",
       "      <td>141517.0</td>\n",
       "      <td>pp</td>\n",
       "      <td>CE</td>\n",
       "      <td>sim</td>\n",
       "      <td>sim</td>\n",
       "      <td>sim</td>\n",
       "    </tr>\n",
       "    <tr>\n",
       "      <th>4</th>\n",
       "      <td>PEC</td>\n",
       "      <td>1</td>\n",
       "      <td>2015</td>\n",
       "      <td>1</td>\n",
       "      <td>22/3/2016</td>\n",
       "      <td>76200</td>\n",
       "      <td>5820</td>\n",
       "      <td>Wilson Beserra</td>\n",
       "      <td>193066.0</td>\n",
       "      <td>pmdb</td>\n",
       "      <td>RJ</td>\n",
       "      <td>sim</td>\n",
       "      <td>NaN</td>\n",
       "      <td>sim</td>\n",
       "    </tr>\n",
       "  </tbody>\n",
       "</table>\n",
       "</div>"
      ],
      "text/plain": [
       "  tipo  num_pro   ano  id_votacao       data   hora  sessao  \\\n",
       "0  PEC        1  2015           1  22/3/2016  76200    5820   \n",
       "1  PEC        1  2015           1  22/3/2016  76200    5820   \n",
       "2  PEC        1  2015           1  22/3/2016  76200    5820   \n",
       "3  PEC        1  2015           1  22/3/2016  76200    5820   \n",
       "4  PEC        1  2015           1  22/3/2016  76200    5820   \n",
       "\n",
       "                     nome    id_dep partido  uf voto orientacao_partido  \\\n",
       "0         Ariosto Holanda   74103.0     pdt  CE  sim                sim   \n",
       "1         Flavio Nogueira  191923.0     pdt  PI  sim                sim   \n",
       "2        Zé Augusto Nalin  191945.0    pmdb  RJ  sim                NaN   \n",
       "3  Paulo Henrique Lustosa  141517.0      pp  CE  sim                sim   \n",
       "4          Wilson Beserra  193066.0    pmdb  RJ  sim                NaN   \n",
       "\n",
       "  orientacao_gov  \n",
       "0            sim  \n",
       "1            sim  \n",
       "2            sim  \n",
       "3            sim  \n",
       "4            sim  "
      ]
     },
     "execution_count": 10,
     "metadata": {},
     "output_type": "execute_result"
    }
   ],
   "source": [
    "votacoes.head()"
   ]
  },
  {
   "cell_type": "code",
   "execution_count": 11,
   "metadata": {
    "collapsed": true
   },
   "outputs": [],
   "source": [
    "meses = ['jan', 'fev', 'mar', 'abr', 'mai', 'jun', 'jul', 'ago', 'set', 'out', 'nov', 'dez']\n",
    "votacoes['mes'] = [meses[int(x[1])-1] for x in votacoes['data'].str.split('/')]"
   ]
  },
  {
   "cell_type": "code",
   "execution_count": 37,
   "metadata": {},
   "outputs": [],
   "source": [
    "votacoes_2017 = votacoes[votacoes['ano'] == 2017]"
   ]
  },
  {
   "cell_type": "code",
   "execution_count": 225,
   "metadata": {},
   "outputs": [
    {
     "data": {
      "text/plain": [
       "tipo                  24121\n",
       "num_pro               24121\n",
       "ano                   24121\n",
       "id_votacao            24121\n",
       "data                  24121\n",
       "hora                  24121\n",
       "sessao                24121\n",
       "nome                  24121\n",
       "id_dep                24121\n",
       "partido               24121\n",
       "uf                    24121\n",
       "voto                  24121\n",
       "orientacao_partido    24121\n",
       "orientacao_gov        24121\n",
       "mes                   24121\n",
       "dtype: int64"
      ]
     },
     "execution_count": 225,
     "metadata": {},
     "output_type": "execute_result"
    }
   ],
   "source": []
  },
  {
   "cell_type": "code",
   "execution_count": null,
   "metadata": {},
   "outputs": [],
   "source": []
  },
  {
   "cell_type": "code",
   "execution_count": 116,
   "metadata": {},
   "outputs": [
    {
     "data": {
      "text/html": [
       "<div>\n",
       "<style>\n",
       "    .dataframe thead tr:only-child th {\n",
       "        text-align: right;\n",
       "    }\n",
       "\n",
       "    .dataframe thead th {\n",
       "        text-align: left;\n",
       "    }\n",
       "\n",
       "    .dataframe tbody tr th {\n",
       "        vertical-align: top;\n",
       "    }\n",
       "</style>\n",
       "<table border=\"1\" class=\"dataframe\">\n",
       "  <thead>\n",
       "    <tr style=\"text-align: right;\">\n",
       "      <th></th>\n",
       "      <th>tipo</th>\n",
       "      <th>num_pro</th>\n",
       "      <th>ano</th>\n",
       "      <th>id_votacao</th>\n",
       "      <th>data</th>\n",
       "      <th>hora</th>\n",
       "      <th>sessao</th>\n",
       "      <th>nome</th>\n",
       "      <th>id_dep</th>\n",
       "      <th>partido</th>\n",
       "      <th>uf</th>\n",
       "      <th>voto</th>\n",
       "      <th>orientacao_partido</th>\n",
       "      <th>orientacao_gov</th>\n",
       "      <th>mes</th>\n",
       "    </tr>\n",
       "  </thead>\n",
       "  <tbody>\n",
       "    <tr>\n",
       "      <th>67363</th>\n",
       "      <td>PEC</td>\n",
       "      <td>304</td>\n",
       "      <td>2017</td>\n",
       "      <td>1</td>\n",
       "      <td>10/5/2017</td>\n",
       "      <td>76860</td>\n",
       "      <td>16201</td>\n",
       "      <td>Luiza Erundina</td>\n",
       "      <td>74784.0</td>\n",
       "      <td>psol</td>\n",
       "      <td>SP</td>\n",
       "      <td>não</td>\n",
       "      <td>não</td>\n",
       "      <td>sim</td>\n",
       "      <td>mai</td>\n",
       "    </tr>\n",
       "    <tr>\n",
       "      <th>67364</th>\n",
       "      <td>PEC</td>\n",
       "      <td>304</td>\n",
       "      <td>2017</td>\n",
       "      <td>1</td>\n",
       "      <td>10/5/2017</td>\n",
       "      <td>76860</td>\n",
       "      <td>16201</td>\n",
       "      <td>Roberto Alves</td>\n",
       "      <td>152610.0</td>\n",
       "      <td>prb</td>\n",
       "      <td>SP</td>\n",
       "      <td>sim</td>\n",
       "      <td>sim</td>\n",
       "      <td>sim</td>\n",
       "      <td>mai</td>\n",
       "    </tr>\n",
       "    <tr>\n",
       "      <th>67365</th>\n",
       "      <td>PEC</td>\n",
       "      <td>304</td>\n",
       "      <td>2017</td>\n",
       "      <td>1</td>\n",
       "      <td>10/5/2017</td>\n",
       "      <td>76860</td>\n",
       "      <td>16201</td>\n",
       "      <td>Lázaro Botelho</td>\n",
       "      <td>141480.0</td>\n",
       "      <td>pp</td>\n",
       "      <td>TO</td>\n",
       "      <td>sim</td>\n",
       "      <td>sim</td>\n",
       "      <td>sim</td>\n",
       "      <td>mai</td>\n",
       "    </tr>\n",
       "    <tr>\n",
       "      <th>67366</th>\n",
       "      <td>PEC</td>\n",
       "      <td>304</td>\n",
       "      <td>2017</td>\n",
       "      <td>1</td>\n",
       "      <td>10/5/2017</td>\n",
       "      <td>76860</td>\n",
       "      <td>16201</td>\n",
       "      <td>Sérgio Brito</td>\n",
       "      <td>73808.0</td>\n",
       "      <td>psd</td>\n",
       "      <td>BA</td>\n",
       "      <td>sim</td>\n",
       "      <td>sim</td>\n",
       "      <td>sim</td>\n",
       "      <td>mai</td>\n",
       "    </tr>\n",
       "    <tr>\n",
       "      <th>67367</th>\n",
       "      <td>PEC</td>\n",
       "      <td>304</td>\n",
       "      <td>2017</td>\n",
       "      <td>1</td>\n",
       "      <td>10/5/2017</td>\n",
       "      <td>76860</td>\n",
       "      <td>16201</td>\n",
       "      <td>Erivelton Santana</td>\n",
       "      <td>99654.0</td>\n",
       "      <td>pen</td>\n",
       "      <td>BA</td>\n",
       "      <td>não</td>\n",
       "      <td>NaN</td>\n",
       "      <td>sim</td>\n",
       "      <td>mai</td>\n",
       "    </tr>\n",
       "  </tbody>\n",
       "</table>\n",
       "</div>"
      ],
      "text/plain": [
       "      tipo  num_pro   ano  id_votacao       data   hora  sessao  \\\n",
       "67363  PEC      304  2017           1  10/5/2017  76860   16201   \n",
       "67364  PEC      304  2017           1  10/5/2017  76860   16201   \n",
       "67365  PEC      304  2017           1  10/5/2017  76860   16201   \n",
       "67366  PEC      304  2017           1  10/5/2017  76860   16201   \n",
       "67367  PEC      304  2017           1  10/5/2017  76860   16201   \n",
       "\n",
       "                    nome    id_dep partido  uf voto orientacao_partido  \\\n",
       "67363     Luiza Erundina   74784.0    psol  SP  não                não   \n",
       "67364      Roberto Alves  152610.0     prb  SP  sim                sim   \n",
       "67365     Lázaro Botelho  141480.0      pp  TO  sim                sim   \n",
       "67366       Sérgio Brito   73808.0     psd  BA  sim                sim   \n",
       "67367  Erivelton Santana   99654.0     pen  BA  não                NaN   \n",
       "\n",
       "      orientacao_gov  mes  \n",
       "67363            sim  mai  \n",
       "67364            sim  mai  \n",
       "67365            sim  mai  \n",
       "67366            sim  mai  \n",
       "67367            sim  mai  "
      ]
     },
     "execution_count": 116,
     "metadata": {},
     "output_type": "execute_result"
    }
   ],
   "source": [
    "votacoes_2017.head()"
   ]
  },
  {
   "cell_type": "markdown",
   "metadata": {},
   "source": [
    "## Ordenando por presença em sessões no plenário"
   ]
  },
  {
   "cell_type": "markdown",
   "metadata": {},
   "source": [
    "### Deputados com o menor número de presenças"
   ]
  },
  {
   "cell_type": "code",
   "execution_count": 201,
   "metadata": {},
   "outputs": [
    {
     "data": {
      "text/plain": [
       "nome\n",
       "Rogério Silva           1\n",
       "Lourival Gomes          1\n",
       "Dagoberto               1\n",
       "Edinho Bez              3\n",
       "Mário Heringer          6\n",
       "Carlos Zarattini        7\n",
       "Vinicius Gurgel         9\n",
       "Vicente Candido         9\n",
       "Franklin               11\n",
       "Marcos Medrado         11\n",
       "Osmar Serraglio        12\n",
       "Tia Eron               12\n",
       "Chico D´Angelo         14\n",
       "Roberto Freire         14\n",
       "Aníbal Gomes           14\n",
       "Ariosto Holanda        14\n",
       "Giacobo                14\n",
       "Guilherme Mussi        14\n",
       "Roberto Góes           14\n",
       "Luizianne Lins         15\n",
       "Hermes Parcianello     15\n",
       "Julião Amin Castro     15\n",
       "Marco Maia             16\n",
       "César Halum            16\n",
       "Jéssica Sales          16\n",
       "Wladimir Costa         16\n",
       "Mário Negromonte Jr    16\n",
       "João Carlos Bacelar    16\n",
       "Evandro Gussi          17\n",
       "Andre Moura            18\n",
       "Name: voto, dtype: int64"
      ]
     },
     "execution_count": 201,
     "metadata": {},
     "output_type": "execute_result"
    }
   ],
   "source": [
    "presencas = votacoes_2017[votacoes_2017['voto'] <> '-'].groupby(votacoes_2017['nome'])['voto'].count()\n",
    "presencas.sort_values().head(30)"
   ]
  },
  {
   "cell_type": "markdown",
   "metadata": {},
   "source": [
    "### Deputados com maior número de presenças\n",
    "\n"
   ]
  },
  {
   "cell_type": "code",
   "execution_count": 221,
   "metadata": {},
   "outputs": [
    {
     "data": {
      "text/plain": [
       "nome\n",
       "Carlos Manato               48\n",
       "Tenente Lúcio               48\n",
       "Ivan Valente                48\n",
       "Flavinho                    48\n",
       "Tiririca                    48\n",
       "Walney Rocha                47\n",
       "João Daniel                 47\n",
       "Delegado Edson Moreira      47\n",
       "Victor Mendes               47\n",
       "Luiz Couto                  47\n",
       "Carlos Henrique Gaguim      47\n",
       "Miro Teixeira               47\n",
       "Ronaldo Benedet             47\n",
       "Afonso Motta                47\n",
       "Rogério Peninha Mendonça    47\n",
       "Glauber Braga               47\n",
       "Valmir Assunção             46\n",
       "Átila Lira                  46\n",
       "Izaque Silva                46\n",
       "Chico Lopes                 46\n",
       "Jose Stédile                46\n",
       "Jutahy Junior               46\n",
       "Laudivio Carvalho           46\n",
       "Lobbe Neto                  46\n",
       "Marcio Alvino               46\n",
       "Jarbas Vasconcelos          46\n",
       "Expedito Netto              46\n",
       "Bacelar                     46\n",
       "Chico Alencar               45\n",
       "Geovania de Sá              45\n",
       "Name: voto, dtype: int64"
      ]
     },
     "execution_count": 221,
     "metadata": {},
     "output_type": "execute_result"
    }
   ],
   "source": [
    "presencas.sort_values(ascending=False).head(30)"
   ]
  },
  {
   "cell_type": "markdown",
   "metadata": {},
   "source": [
    "### Deputados ausentes"
   ]
  },
  {
   "cell_type": "code",
   "execution_count": 222,
   "metadata": {
    "collapsed": true
   },
   "outputs": [],
   "source": [
    "ausencias = votacoes_2017[votacoes_2017['voto'] == '-'].groupby(votacoes_2017['nome'])['voto'].count()"
   ]
  },
  {
   "cell_type": "code",
   "execution_count": 223,
   "metadata": {},
   "outputs": [
    {
     "data": {
      "text/plain": [
       "nome\n",
       "Luciano Bivar               1\n",
       "Miro Teixeira               1\n",
       "Luiz Couto                  1\n",
       "Laudivio Carvalho           1\n",
       "Rogério Peninha Mendonça    1\n",
       "João Daniel                 1\n",
       "Josias Gomes                1\n",
       "Mário Heringer              1\n",
       "Glauber Braga               1\n",
       "Afonso Motta                1\n",
       "Jarbas Vasconcelos          1\n",
       "Chico D Angelo              1\n",
       "Fernando Torres             1\n",
       "Walney Rocha                1\n",
       "Pedro Chaves                1\n",
       "Victor Mendes               1\n",
       "Izaque Silva                2\n",
       "Expedito Netto              2\n",
       "Jutahy Junior               2\n",
       "Geovania de Sá              2\n",
       "Lobbe Neto                  2\n",
       "Bacelar                     2\n",
       "Chico Lopes                 2\n",
       "Marcio Alvino               2\n",
       "Marcos Medrado              2\n",
       "Eduardo Bolsonaro           2\n",
       "Jose Stédile                2\n",
       "Francisco Chapadinha        2\n",
       "Átila Lira                  2\n",
       "Roberto Alves               2\n",
       "Name: voto, dtype: int64"
      ]
     },
     "execution_count": 223,
     "metadata": {},
     "output_type": "execute_result"
    }
   ],
   "source": [
    "ausencias.sort_values().head(30)"
   ]
  }
 ],
 "metadata": {
  "kernelspec": {
   "display_name": "Python 2",
   "language": "python",
   "name": "python2"
  },
  "language_info": {
   "codemirror_mode": {
    "name": "ipython",
    "version": 2
   },
   "file_extension": ".py",
   "mimetype": "text/x-python",
   "name": "python",
   "nbconvert_exporter": "python",
   "pygments_lexer": "ipython2",
   "version": "2.7.12"
  }
 },
 "nbformat": 4,
 "nbformat_minor": 2
}
