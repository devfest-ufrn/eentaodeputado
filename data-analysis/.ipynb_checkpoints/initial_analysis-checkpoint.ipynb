{
 "cells": [
  {
   "cell_type": "code",
   "execution_count": 2,
   "metadata": {
    "collapsed": true
   },
   "outputs": [],
   "source": [
    "import json\n",
    "import requests\n",
    "import numpy as np\n",
    "import pandas as pd\n",
    "from pandas.io.json import json_normalize"
   ]
  },
  {
   "cell_type": "markdown",
   "metadata": {},
   "source": [
    "## Endpoints principais"
   ]
  },
  {
   "cell_type": "code",
   "execution_count": 3,
   "metadata": {
    "collapsed": true
   },
   "outputs": [],
   "source": [
    "# Endpoints\n",
    "urls = {\n",
    "    'deputados':'https://dadosabertos.camara.leg.br/api/v2/deputados',\n",
    "    'proposicoes': 'https://dadosabertos.camara.leg.br/api/v2/proposicoes',\n",
    "    'detalhe_proposicao':'https://dadosabertos.camara.leg.br/api/v2/proposicoes/%s'\n",
    "}\n",
    "\n",
    "# Avaliable payloads\n",
    "available_payloads = {\n",
    "     'deputados': [ \n",
    "                    'idLegislatura',\n",
    "                    'siglaUf',\n",
    "                    'siglaPartido',\n",
    "                    'siglaSexo',\n",
    "                    'pagina',\n",
    "                    'itens',\n",
    "                    'ordem',\n",
    "                    'ordenarPor',\n",
    "                    'id'\n",
    "    ],\n",
    "    \n",
    "    'proposicoes':[\n",
    "                    'id',\n",
    "                    'ano',\n",
    "                    'itens',\n",
    "                    'autor'\n",
    "    ],\n",
    "}"
   ]
  },
  {
   "cell_type": "markdown",
   "metadata": {},
   "source": [
    "## Funções para facilitar o fetch e o tratamento de dados\n",
    "\n",
    "* Aqui começa a exploração dos dados, ainda de forma bem simples, com o objetivo de:\n",
    "\n",
    "    * Testar os endpoints\n",
    "    * Identificar os dados que são trazidos\n",
    "    * Identificar o formato e estrutura dos dados de resposta"
   ]
  },
  {
   "cell_type": "code",
   "execution_count": 4,
   "metadata": {
    "collapsed": true
   },
   "outputs": [],
   "source": [
    "def get_data_by(data_type, payload=None):\n",
    "    if payload != None:\n",
    "        for column in payload.keys():\n",
    "            if column not in available_payloads[data_type]:\n",
    "                print('Column %s not available!' % column)\n",
    "                return None\n",
    "        \n",
    "    response = requests.get(urls[data_type], params=payload)\n",
    "    if response.status_code == 200:\n",
    "        return json_to_dataframe(response.json()['dados'], 'records')\n",
    "#             return response.json()['dados']\n",
    "    \n",
    "    return None\n",
    "\n",
    "\n",
    "def json_to_dataframe(data_json, orient):\n",
    "    return pd.read_json(json.dumps(data_json), orient=orient)\n",
    "\n",
    "\n",
    "def get_details_data(data_type, identifier):\n",
    "    response = requests.get(urls[data_type]%identifier)\n",
    "    return response.json()['dados']\n"
   ]
  },
  {
   "cell_type": "code",
   "execution_count": 5,
   "metadata": {},
   "outputs": [
    {
     "data": {
      "text/html": [
       "<div>\n",
       "<style>\n",
       "    .dataframe thead tr:only-child th {\n",
       "        text-align: right;\n",
       "    }\n",
       "\n",
       "    .dataframe thead th {\n",
       "        text-align: left;\n",
       "    }\n",
       "\n",
       "    .dataframe tbody tr th {\n",
       "        vertical-align: top;\n",
       "    }\n",
       "</style>\n",
       "<table border=\"1\" class=\"dataframe\">\n",
       "  <thead>\n",
       "    <tr style=\"text-align: right;\">\n",
       "      <th></th>\n",
       "      <th>id</th>\n",
       "      <th>idLegislatura</th>\n",
       "      <th>nome</th>\n",
       "      <th>siglaPartido</th>\n",
       "      <th>siglaUf</th>\n",
       "      <th>uri</th>\n",
       "      <th>uriPartido</th>\n",
       "      <th>urlFoto</th>\n",
       "    </tr>\n",
       "  </thead>\n",
       "  <tbody>\n",
       "    <tr>\n",
       "      <th>0</th>\n",
       "      <td>178950</td>\n",
       "      <td>55</td>\n",
       "      <td>ANTÔNIO JÁCOME</td>\n",
       "      <td>PODE</td>\n",
       "      <td>RN</td>\n",
       "      <td>https://dadosabertos.camara.leg.br/api/v2/depu...</td>\n",
       "      <td>https://dadosabertos.camara.leg.br/api/v2/part...</td>\n",
       "      <td>http://www.camara.leg.br/internet/deputado/ban...</td>\n",
       "    </tr>\n",
       "  </tbody>\n",
       "</table>\n",
       "</div>"
      ],
      "text/plain": [
       "       id  idLegislatura            nome siglaPartido siglaUf  \\\n",
       "0  178950             55  ANTÔNIO JÁCOME         PODE      RN   \n",
       "\n",
       "                                                 uri  \\\n",
       "0  https://dadosabertos.camara.leg.br/api/v2/depu...   \n",
       "\n",
       "                                          uriPartido  \\\n",
       "0  https://dadosabertos.camara.leg.br/api/v2/part...   \n",
       "\n",
       "                                             urlFoto  \n",
       "0  http://www.camara.leg.br/internet/deputado/ban...  "
      ]
     },
     "execution_count": 5,
     "metadata": {},
     "output_type": "execute_result"
    }
   ],
   "source": [
    "params = {\n",
    "    'id': '178950',\n",
    "}\n",
    "\n",
    "deputados = get_data_by('deputados', params)\n",
    "deputados"
   ]
  },
  {
   "cell_type": "code",
   "execution_count": 6,
   "metadata": {},
   "outputs": [
    {
     "data": {
      "text/html": [
       "<div>\n",
       "<style>\n",
       "    .dataframe thead tr:only-child th {\n",
       "        text-align: right;\n",
       "    }\n",
       "\n",
       "    .dataframe thead th {\n",
       "        text-align: left;\n",
       "    }\n",
       "\n",
       "    .dataframe tbody tr th {\n",
       "        vertical-align: top;\n",
       "    }\n",
       "</style>\n",
       "<table border=\"1\" class=\"dataframe\">\n",
       "  <thead>\n",
       "    <tr style=\"text-align: right;\">\n",
       "      <th></th>\n",
       "      <th>ano</th>\n",
       "      <th>ementa</th>\n",
       "      <th>id</th>\n",
       "      <th>idTipo</th>\n",
       "      <th>numero</th>\n",
       "      <th>siglaTipo</th>\n",
       "      <th>uri</th>\n",
       "    </tr>\n",
       "  </thead>\n",
       "  <tbody>\n",
       "    <tr>\n",
       "      <th>0</th>\n",
       "      <td>2017</td>\n",
       "      <td>Requer a realização de audiência pública para ...</td>\n",
       "      <td>2120097</td>\n",
       "      <td>147</td>\n",
       "      <td>19</td>\n",
       "      <td>REQ</td>\n",
       "      <td>https://dadosabertos.camara.leg.br/api/v2/prop...</td>\n",
       "    </tr>\n",
       "  </tbody>\n",
       "</table>\n",
       "</div>"
      ],
      "text/plain": [
       "    ano                                             ementa       id  idTipo  \\\n",
       "0  2017  Requer a realização de audiência pública para ...  2120097     147   \n",
       "\n",
       "   numero siglaTipo                                                uri  \n",
       "0      19       REQ  https://dadosabertos.camara.leg.br/api/v2/prop...  "
      ]
     },
     "execution_count": 6,
     "metadata": {},
     "output_type": "execute_result"
    }
   ],
   "source": [
    "params = {\n",
    "    'id': '2120097',\n",
    "#     'autor': {\n",
    "#         'siglaUF':'12'\n",
    "#     }\n",
    "}\n",
    "\n",
    "proposicoes = get_data_by('proposicoes', params)\n",
    "proposicoes"
   ]
  },
  {
   "cell_type": "markdown",
   "metadata": {},
   "source": [
    "* Não é possível converter direto pra o dataframe pois é necessário antes tratar o json"
   ]
  },
  {
   "cell_type": "code",
   "execution_count": 7,
   "metadata": {
    "collapsed": true
   },
   "outputs": [],
   "source": [
    "proposicao = get_details_data('detalhe_proposicao', '2120097')\n",
    "proposicao[u'situacaoProposicao'] = proposicao['statusProposicao']['descricaoSituacao']\n",
    "proposicao[u'descricaoTramitacao'] = proposicao['statusProposicao']['descricaoTramitacao']\n",
    "del proposicao['statusProposicao']"
   ]
  },
  {
   "cell_type": "code",
   "execution_count": 8,
   "metadata": {},
   "outputs": [
    {
     "data": {
      "text/plain": [
       "Index([u'situacaoProposicao', u'ano', u'texto', u'idTipoAutor', u'keywords',\n",
       "       u'uriUltimoRelator', u'idTipo', u'id', u'uriPropPosterior',\n",
       "       u'uriPropPrincipal', u'ementa', u'justificativa', u'siglaTipo',\n",
       "       u'dataApresentacao', u'numero', u'uriOrgaoNumerador', u'urnFinal',\n",
       "       u'uriAutores', u'ementaDetalhada', u'uriPropAnterior', u'tipoAutor',\n",
       "       u'uri', u'urlInteiroTeor', u'descricaoTramitacao', u'descricaoTipo'],\n",
       "      dtype='object')"
      ]
     },
     "execution_count": 8,
     "metadata": {},
     "output_type": "execute_result"
    }
   ],
   "source": [
    "proposicao_df = pd.DataFrame([proposicao], columns=proposicao.keys())\n",
    "proposicao_df.columns"
   ]
  },
  {
   "cell_type": "code",
   "execution_count": null,
   "metadata": {},
   "outputs": [],
   "source": []
  },
  {
   "cell_type": "code",
   "execution_count": null,
   "metadata": {
    "collapsed": true
   },
   "outputs": [],
   "source": []
  }
 ],
 "metadata": {
  "kernelspec": {
   "display_name": "Python 2",
   "language": "python",
   "name": "python2"
  },
  "language_info": {
   "codemirror_mode": {
    "name": "ipython",
    "version": 2
   },
   "file_extension": ".py",
   "mimetype": "text/x-python",
   "name": "python",
   "nbconvert_exporter": "python",
   "pygments_lexer": "ipython2",
   "version": "2.7.12"
  }
 },
 "nbformat": 4,
 "nbformat_minor": 2
}
